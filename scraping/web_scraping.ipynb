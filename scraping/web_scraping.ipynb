{
 "cells": [
  {
   "cell_type": "code",
   "execution_count": 53,
   "metadata": {},
   "outputs": [],
   "source": [
    "import os\n",
    "import pandas as pd\n",
    "from selenium import webdriver\n",
    "from selenium.webdriver.chrome.service import Service\n",
    "from selenium.webdriver.common.by import By\n",
    "from bs4 import BeautifulSoup\n",
    "# from webdriver_manager.chrome import ChromeDriverManager\n",
    "from time import sleep\n",
    "import requests\n",
    "from selenium.webdriver.support import expected_conditions as EC\n",
    "from selenium.webdriver.support.ui import WebDriverWait"
   ]
  },
  {
   "cell_type": "code",
   "execution_count": 47,
   "metadata": {},
   "outputs": [
    {
     "name": "stdout",
     "output_type": "stream",
     "text": [
      "Tabela não encontrada\n"
     ]
    }
   ],
   "source": [
    "# # URL da página\n",
    "# url = \"https://www.siga.ufrj.br/sira/repositorio-curriculo/ListaCursos.html\"\n",
    "\n",
    "# # Fazer a requisição HTTP\n",
    "# response = requests.get(url)\n",
    "# response.raise_for_status()\n",
    "\n",
    "# # Obter o conteúdo HTML da página\n",
    "# soup = BeautifulSoup(response.text, \"html.parser\")\n",
    "\n",
    "# # Procurar a tabela com a classe específica\n",
    "# # Verifique a classe correta na estrutura HTML da página\n",
    "# # Caso não encontre pelo nome da classe, verifique outras propriedades como tag 'table'\n",
    "# volumes = soup.find(\"table\", {\"class\": \"cellspacingTable\"})\n",
    "\n",
    "# if volumes:\n",
    "#     print(volumes)\n",
    "# else:\n",
    "#     print(\"Tabela não encontrada\")"
   ]
  },
  {
   "cell_type": "code",
   "execution_count": 58,
   "metadata": {},
   "outputs": [],
   "source": [
    "options = webdriver.ChromeOptions()\n",
    "driver = webdriver.Chrome()\n",
    "\n",
    "# URL da página\n",
    "url = \"https://www.siga.ufrj.br/sira/repositorio-curriculo/ListaCursos.html\"\n",
    "\n",
    "# Navegar até a página\n",
    "driver.get(url)\n",
    "\n",
    "# Esperar que o frameset seja carregado\n",
    "WebDriverWait(driver, 10).until(EC.frame_to_be_available_and_switch_to_it((By.ID, 'frameDynamic')))\n",
    "\n",
    "# Obter o conteúdo HTML renderizado dentro do frame\n",
    "html = driver.page_source\n",
    "\n",
    "find = driver.find_element(By.CLASS_NAME, 'cellspacingTable')\n",
    "\n",
    "driver.quit()  # Fechar o navegador\n",
    "\n",
    "# Parsear o HTML com BeautifulSoup\n",
    "# soup = BeautifulSoup(html, \"html.parser\")\n",
    "\n",
    "# # Procurar a tabela com a classe específica\n",
    "# volumes = soup.find(\"table\", {\"class\": \"cellspacingTable\"})\n",
    "\n",
    "# if volumes:\n",
    "#     # Extrair cabeçalhos\n",
    "#     headers = [header.text for header in volumes.find_all('th')]\n",
    "\n",
    "#     # Extrair linhas\n",
    "#     rows = []\n",
    "#     for row in volumes.find_all('tr'):\n",
    "#         rows.append([cell.text for cell in row.find_all('td')])\n",
    "\n",
    "#     # Criar DataFrame do Pandas\n",
    "#     df = pd.DataFrame(rows, columns=headers)\n",
    "#     print(df)\n",
    "# else:\n",
    "#     print(\"Tabela não encontrada\")"
   ]
  },
  {
   "cell_type": "code",
   "execution_count": 50,
   "metadata": {},
   "outputs": [
    {
     "ename": "NoSuchElementException",
     "evalue": "Message: no such element: Unable to locate element: {\"method\":\"css selector\",\"selector\":\".cellspacingTable\"}\n  (Session info: chrome=126.0.6478.183); For documentation on this error, please visit: https://www.selenium.dev/documentation/webdriver/troubleshooting/errors#no-such-element-exception\nStacktrace:\n\tGetHandleVerifier [0x00007FF6974FEEB2+31554]\n\t(No symbol) [0x00007FF697477EE9]\n\t(No symbol) [0x00007FF69733872A]\n\t(No symbol) [0x00007FF697388434]\n\t(No symbol) [0x00007FF69738853C]\n\t(No symbol) [0x00007FF6973CF6A7]\n\t(No symbol) [0x00007FF6973AD06F]\n\t(No symbol) [0x00007FF6973CC977]\n\t(No symbol) [0x00007FF6973ACDD3]\n\t(No symbol) [0x00007FF69737A33B]\n\t(No symbol) [0x00007FF69737AED1]\n\tGetHandleVerifier [0x00007FF697808B2D+3217341]\n\tGetHandleVerifier [0x00007FF697855AF3+3532675]\n\tGetHandleVerifier [0x00007FF69784B0F0+3489152]\n\tGetHandleVerifier [0x00007FF6975AE786+750614]\n\t(No symbol) [0x00007FF69748376F]\n\t(No symbol) [0x00007FF69747EB24]\n\t(No symbol) [0x00007FF69747ECB2]\n\t(No symbol) [0x00007FF69746E17F]\n\tBaseThreadInitThunk [0x00007FFCD938257D+29]\n\tRtlUserThreadStart [0x00007FFCDA24AF28+40]\n",
     "output_type": "error",
     "traceback": [
      "\u001b[1;31m---------------------------------------------------------------------------\u001b[0m",
      "\u001b[1;31mNoSuchElementException\u001b[0m                    Traceback (most recent call last)",
      "Cell \u001b[1;32mIn[50], line 18\u001b[0m\n\u001b[0;32m     15\u001b[0m \u001b[38;5;66;03m# Obter o conteúdo HTML renderizado da página\u001b[39;00m\n\u001b[0;32m     16\u001b[0m html \u001b[38;5;241m=\u001b[39m driver\u001b[38;5;241m.\u001b[39mpage_source\n\u001b[1;32m---> 18\u001b[0m find \u001b[38;5;241m=\u001b[39m \u001b[43mdriver\u001b[49m\u001b[38;5;241;43m.\u001b[39;49m\u001b[43mfind_element\u001b[49m\u001b[43m(\u001b[49m\u001b[43mBy\u001b[49m\u001b[38;5;241;43m.\u001b[39;49m\u001b[43mCLASS_NAME\u001b[49m\u001b[43m,\u001b[49m\u001b[43m \u001b[49m\u001b[38;5;124;43m'\u001b[39;49m\u001b[38;5;124;43mcellspacingTable\u001b[39;49m\u001b[38;5;124;43m'\u001b[39;49m\u001b[43m)\u001b[49m\n\u001b[0;32m     20\u001b[0m \u001b[38;5;66;03m# driver.quit()  # Fechar o navegador\u001b[39;00m\n\u001b[0;32m     21\u001b[0m \n\u001b[0;32m     22\u001b[0m \u001b[38;5;66;03m# # Parsear o HTML com BeautifulSoup\u001b[39;00m\n\u001b[1;32m   (...)\u001b[0m\n\u001b[0;32m     40\u001b[0m \u001b[38;5;66;03m# else:\u001b[39;00m\n\u001b[0;32m     41\u001b[0m \u001b[38;5;66;03m#     print(\"Tabela não encontrada\")\u001b[39;00m\n",
      "File \u001b[1;32mc:\\Users\\Marcos Eduardo\\AppData\\Local\\Programs\\Python\\Python312\\Lib\\site-packages\\selenium\\webdriver\\remote\\webdriver.py:741\u001b[0m, in \u001b[0;36mWebDriver.find_element\u001b[1;34m(self, by, value)\u001b[0m\n\u001b[0;32m    738\u001b[0m     by \u001b[38;5;241m=\u001b[39m By\u001b[38;5;241m.\u001b[39mCSS_SELECTOR\n\u001b[0;32m    739\u001b[0m     value \u001b[38;5;241m=\u001b[39m \u001b[38;5;124mf\u001b[39m\u001b[38;5;124m'\u001b[39m\u001b[38;5;124m[name=\u001b[39m\u001b[38;5;124m\"\u001b[39m\u001b[38;5;132;01m{\u001b[39;00mvalue\u001b[38;5;132;01m}\u001b[39;00m\u001b[38;5;124m\"\u001b[39m\u001b[38;5;124m]\u001b[39m\u001b[38;5;124m'\u001b[39m\n\u001b[1;32m--> 741\u001b[0m \u001b[38;5;28;01mreturn\u001b[39;00m \u001b[38;5;28;43mself\u001b[39;49m\u001b[38;5;241;43m.\u001b[39;49m\u001b[43mexecute\u001b[49m\u001b[43m(\u001b[49m\u001b[43mCommand\u001b[49m\u001b[38;5;241;43m.\u001b[39;49m\u001b[43mFIND_ELEMENT\u001b[49m\u001b[43m,\u001b[49m\u001b[43m \u001b[49m\u001b[43m{\u001b[49m\u001b[38;5;124;43m\"\u001b[39;49m\u001b[38;5;124;43musing\u001b[39;49m\u001b[38;5;124;43m\"\u001b[39;49m\u001b[43m:\u001b[49m\u001b[43m \u001b[49m\u001b[43mby\u001b[49m\u001b[43m,\u001b[49m\u001b[43m \u001b[49m\u001b[38;5;124;43m\"\u001b[39;49m\u001b[38;5;124;43mvalue\u001b[39;49m\u001b[38;5;124;43m\"\u001b[39;49m\u001b[43m:\u001b[49m\u001b[43m \u001b[49m\u001b[43mvalue\u001b[49m\u001b[43m}\u001b[49m\u001b[43m)\u001b[49m[\u001b[38;5;124m\"\u001b[39m\u001b[38;5;124mvalue\u001b[39m\u001b[38;5;124m\"\u001b[39m]\n",
      "File \u001b[1;32mc:\\Users\\Marcos Eduardo\\AppData\\Local\\Programs\\Python\\Python312\\Lib\\site-packages\\selenium\\webdriver\\remote\\webdriver.py:347\u001b[0m, in \u001b[0;36mWebDriver.execute\u001b[1;34m(self, driver_command, params)\u001b[0m\n\u001b[0;32m    345\u001b[0m response \u001b[38;5;241m=\u001b[39m \u001b[38;5;28mself\u001b[39m\u001b[38;5;241m.\u001b[39mcommand_executor\u001b[38;5;241m.\u001b[39mexecute(driver_command, params)\n\u001b[0;32m    346\u001b[0m \u001b[38;5;28;01mif\u001b[39;00m response:\n\u001b[1;32m--> 347\u001b[0m     \u001b[38;5;28;43mself\u001b[39;49m\u001b[38;5;241;43m.\u001b[39;49m\u001b[43merror_handler\u001b[49m\u001b[38;5;241;43m.\u001b[39;49m\u001b[43mcheck_response\u001b[49m\u001b[43m(\u001b[49m\u001b[43mresponse\u001b[49m\u001b[43m)\u001b[49m\n\u001b[0;32m    348\u001b[0m     response[\u001b[38;5;124m\"\u001b[39m\u001b[38;5;124mvalue\u001b[39m\u001b[38;5;124m\"\u001b[39m] \u001b[38;5;241m=\u001b[39m \u001b[38;5;28mself\u001b[39m\u001b[38;5;241m.\u001b[39m_unwrap_value(response\u001b[38;5;241m.\u001b[39mget(\u001b[38;5;124m\"\u001b[39m\u001b[38;5;124mvalue\u001b[39m\u001b[38;5;124m\"\u001b[39m, \u001b[38;5;28;01mNone\u001b[39;00m))\n\u001b[0;32m    349\u001b[0m     \u001b[38;5;28;01mreturn\u001b[39;00m response\n",
      "File \u001b[1;32mc:\\Users\\Marcos Eduardo\\AppData\\Local\\Programs\\Python\\Python312\\Lib\\site-packages\\selenium\\webdriver\\remote\\errorhandler.py:229\u001b[0m, in \u001b[0;36mErrorHandler.check_response\u001b[1;34m(self, response)\u001b[0m\n\u001b[0;32m    227\u001b[0m         alert_text \u001b[38;5;241m=\u001b[39m value[\u001b[38;5;124m\"\u001b[39m\u001b[38;5;124malert\u001b[39m\u001b[38;5;124m\"\u001b[39m]\u001b[38;5;241m.\u001b[39mget(\u001b[38;5;124m\"\u001b[39m\u001b[38;5;124mtext\u001b[39m\u001b[38;5;124m\"\u001b[39m)\n\u001b[0;32m    228\u001b[0m     \u001b[38;5;28;01mraise\u001b[39;00m exception_class(message, screen, stacktrace, alert_text)  \u001b[38;5;66;03m# type: ignore[call-arg]  # mypy is not smart enough here\u001b[39;00m\n\u001b[1;32m--> 229\u001b[0m \u001b[38;5;28;01mraise\u001b[39;00m exception_class(message, screen, stacktrace)\n",
      "\u001b[1;31mNoSuchElementException\u001b[0m: Message: no such element: Unable to locate element: {\"method\":\"css selector\",\"selector\":\".cellspacingTable\"}\n  (Session info: chrome=126.0.6478.183); For documentation on this error, please visit: https://www.selenium.dev/documentation/webdriver/troubleshooting/errors#no-such-element-exception\nStacktrace:\n\tGetHandleVerifier [0x00007FF6974FEEB2+31554]\n\t(No symbol) [0x00007FF697477EE9]\n\t(No symbol) [0x00007FF69733872A]\n\t(No symbol) [0x00007FF697388434]\n\t(No symbol) [0x00007FF69738853C]\n\t(No symbol) [0x00007FF6973CF6A7]\n\t(No symbol) [0x00007FF6973AD06F]\n\t(No symbol) [0x00007FF6973CC977]\n\t(No symbol) [0x00007FF6973ACDD3]\n\t(No symbol) [0x00007FF69737A33B]\n\t(No symbol) [0x00007FF69737AED1]\n\tGetHandleVerifier [0x00007FF697808B2D+3217341]\n\tGetHandleVerifier [0x00007FF697855AF3+3532675]\n\tGetHandleVerifier [0x00007FF69784B0F0+3489152]\n\tGetHandleVerifier [0x00007FF6975AE786+750614]\n\t(No symbol) [0x00007FF69748376F]\n\t(No symbol) [0x00007FF69747EB24]\n\t(No symbol) [0x00007FF69747ECB2]\n\t(No symbol) [0x00007FF69746E17F]\n\tBaseThreadInitThunk [0x00007FFCD938257D+29]\n\tRtlUserThreadStart [0x00007FFCDA24AF28+40]\n"
     ]
    }
   ],
   "source": [
    "# Configurar o ChromeDriver\n",
    "options = webdriver.ChromeOptions()\n",
    "# options.add_argument(\"--headless\")  # Executar o Chrome em modo headless\n",
    "# driver = webdriver.Chrome(options=options)\n",
    "driver = webdriver.Chrome()\n",
    "\n",
    "# Iniciando drive do Chorme\n",
    "\n",
    "# URL da página\n",
    "url = \"https://www.siga.ufrj.br/sira/repositorio-curriculo/ListaCursos.html\"\n",
    "\n",
    "# Navegar até a página\n",
    "driver.get(url)\n",
    "sleep(10)\n",
    "# Obter o conteúdo HTML renderizado da página\n",
    "html = driver.page_source\n",
    "\n",
    "find = driver.find_element(By.CLASS_NAME, 'cellspacingTable')\n",
    "\n",
    "# driver.quit()  # Fechar o navegador\n",
    "\n",
    "# # Parsear o HTML com BeautifulSoup\n",
    "# soup = BeautifulSoup(html, \"html.parser\")\n",
    "\n",
    "# # Procurar a tabela com a classe específica\n",
    "# volumes = soup.find(\"table\", {\"class\": \"cellspacingTable\"})\n",
    "\n",
    "# if volumes:\n",
    "#     # Extrair cabeçalhos\n",
    "#     headers = [header.text for header in volumes.find_all('th')]\n",
    "\n",
    "#     # Extrair linhas\n",
    "#     rows = []\n",
    "#     for row in volumes.find_all('tr'):\n",
    "#         rows.append([cell.text for cell in row.find_all('td')])\n",
    "\n",
    "#     # Criar DataFrame do Pandas\n",
    "#     df = pd.DataFrame(rows, columns=headers)\n",
    "#     print(df)\n",
    "# else:\n",
    "#     print(\"Tabela não encontrada\")\n"
   ]
  },
  {
   "cell_type": "code",
   "execution_count": 51,
   "metadata": {},
   "outputs": [
    {
     "data": {
      "text/plain": [
       "'<html><head>\\n<link rel=\"stylesheet\" href=\"/sira/temas/zire/css/estilo.css\" type=\"text/css\" media=\"screen\">\\n<link rel=\"stylesheet\" href=\"/sira/temas/zire/css/impressao.css\" type=\"text/css\" media=\"print\"><title>Lista de Cursos</title></head><frameset rows=\"55, *\" frameborder=\"0\" border=\"0\"><frame src=\"comboListaCursos.html\" id=\"frameFixed\" name=\"frameFixed\" scrolling=\"NO\" noresize=\"\"><frame src=\"AC3274D7-762A-497B-B5C5-EE2117F2A096.html\" id=\"frameDynamic\" name=\"frameDynamic\" noresize=\"\"></frameset></html>'"
      ]
     },
     "execution_count": 51,
     "metadata": {},
     "output_type": "execute_result"
    }
   ],
   "source": [
    "html"
   ]
  }
 ],
 "metadata": {
  "kernelspec": {
   "display_name": "Python 3",
   "language": "python",
   "name": "python3"
  },
  "language_info": {
   "name": "python",
   "version": "3.12.3"
  }
 },
 "nbformat": 4,
 "nbformat_minor": 2
}
