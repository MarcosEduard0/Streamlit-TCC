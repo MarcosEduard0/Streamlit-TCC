{
 "cells": [
  {
   "cell_type": "code",
   "execution_count": 2,
   "metadata": {},
   "outputs": [],
   "source": [
    "import pandas as pd\n",
    "import plotly.express as px"
   ]
  },
  {
   "cell_type": "code",
   "execution_count": 3,
   "metadata": {},
   "outputs": [],
   "source": [
    "D_ALUNO = pd.read_csv(\"data/refined/d_aluno.csv\")\n",
    "D_CURSO = pd.read_csv(\"data/refined/d_curso.csv\")\n",
    "D_DISCIPLINA = pd.read_csv(\"data/refined/d_disciplina.csv\")\n",
    "D_PERIODO = pd.read_csv(\"data/refined/d_periodo.csv\")\n",
    "F_DESEMPENHO_ACADEMICO = pd.read_csv(\n",
    "    \"data/refined/f_desempenho_academico.csv\", low_memory=False\n",
    ")\n",
    "F_MATRICULA_ALUNO = pd.read_csv(\"data/refined/f_matricula_aluno.csv\")\n",
    "# DF_TRATADO = pd.read_csv('data/trusted/arquivo_anonimizado.csv')"
   ]
  },
  {
   "cell_type": "markdown",
   "metadata": {},
   "source": [
    "# Alunos\n"
   ]
  },
  {
   "cell_type": "markdown",
   "metadata": {},
   "source": [
    "## Quantidade de Homens e Mulhres\n"
   ]
  },
  {
   "cell_type": "code",
   "execution_count": 4,
   "metadata": {},
   "outputs": [
    {
     "data": {
      "text/plain": [
       "{'F': 77, 'M': 487, 'Ambos': 564}"
      ]
     },
     "execution_count": 4,
     "metadata": {},
     "output_type": "execute_result"
    }
   ],
   "source": [
    "df_genero = pd.merge(D_ALUNO, F_MATRICULA_ALUNO, on=\"sk_d_aluno\", how=\"inner\")\n",
    "df_genero = df_genero[\n",
    "    (df_genero[\"situacao_matricula\"] == \"Ativa\") & (df_genero[\"periodo\"] == \"2021/1\") # Corrigir esse filtro do Periodo Atual\n",
    "]\n",
    "\n",
    "df_genero = df_genero.groupby([\"sexo\"]).size().reset_index(name=\"quantidade\")\n",
    "df_genero.loc[len(df_genero)] = [\"Ambos\", df_genero[\"quantidade\"].sum()]\n",
    "df_genero.set_index(\"sexo\")[\"quantidade\"].to_dict()"
   ]
  },
  {
   "cell_type": "markdown",
   "metadata": {},
   "source": [
    "## CRA por Periodo\n"
   ]
  },
  {
   "cell_type": "code",
   "execution_count": 5,
   "metadata": {},
   "outputs": [],
   "source": [
    "cra_periodo = pd.merge(\n",
    "    D_PERIODO, F_DESEMPENHO_ACADEMICO, on=\"sk_d_periodo\", how=\"inner\"\n",
    ")\n",
    "\n",
    "cra_periodo_filtrado = cra_periodo[\n",
    "    (cra_periodo[\"periodo\"].str.contains(\"/1\"))\n",
    "    | (cra_periodo[\"periodo\"].str.contains(\"/2\"))\n",
    "]\n",
    "\n",
    "cra_periodo_filtrado = (\n",
    "    cra_periodo_filtrado.groupby([\"periodo\"])[\"cr_acumulado\"]\n",
    "    .mean()\n",
    "    .reset_index(name=\"cr_acumulado\")\n",
    ")"
   ]
  },
  {
   "cell_type": "markdown",
   "metadata": {},
   "source": [
    "## Quantidade de alunos que Evadiram, Trancaram e Concluiram\n"
   ]
  },
  {
   "cell_type": "code",
   "execution_count": 6,
   "metadata": {},
   "outputs": [],
   "source": [
    "situacao_aluno = pd.merge(D_ALUNO, F_MATRICULA_ALUNO, on=\"sk_d_aluno\", how=\"inner\")"
   ]
  },
  {
   "cell_type": "code",
   "execution_count": 7,
   "metadata": {},
   "outputs": [],
   "source": [
    "def gerar_grafico_evação(data, periodo):\n",
    "    data = data.groupby(['situacao_matricula', periodo]).size().reset_index(name='quantidade')\n",
    "    data_filtrada = data[(data[periodo].str.contains('/1')) | (data[periodo].str.contains('/2'))]\n",
    "    data_filtrada = data_filtrada.sort_values(periodo)\n",
    "    fig = px.bar(data_filtrada, x=periodo, y=\"quantidade\", title=f'Quantidade de Evasão por {periodo.replace('_', ' ').title()}', color='situacao_matricula')\n",
    "    fig.show()"
   ]
  },
  {
   "cell_type": "code",
   "execution_count": 8,
   "metadata": {},
   "outputs": [],
   "source": [
    "situacao_aluno.sort_values('periodo', inplace=True)"
   ]
  },
  {
   "cell_type": "code",
   "execution_count": 15,
   "metadata": {},
   "outputs": [
    {
     "data": {
      "text/html": [
       "<div>\n",
       "<style scoped>\n",
       "    .dataframe tbody tr th:only-of-type {\n",
       "        vertical-align: middle;\n",
       "    }\n",
       "\n",
       "    .dataframe tbody tr th {\n",
       "        vertical-align: top;\n",
       "    }\n",
       "\n",
       "    .dataframe thead th {\n",
       "        text-align: right;\n",
       "    }\n",
       "</style>\n",
       "<table border=\"1\" class=\"dataframe\">\n",
       "  <thead>\n",
       "    <tr style=\"text-align: right;\">\n",
       "      <th></th>\n",
       "      <th>sk_d_aluno</th>\n",
       "      <th>nome_completo</th>\n",
       "      <th>matricula_dre</th>\n",
       "      <th>sexo</th>\n",
       "      <th>situacao_matricula</th>\n",
       "      <th>periodos_integralizados</th>\n",
       "      <th>carga_horaria_acumulada</th>\n",
       "      <th>periodo_ingresso_ufrj</th>\n",
       "      <th>periodo_ingresso_curso_atual</th>\n",
       "      <th>periodo</th>\n",
       "      <th>ano</th>\n",
       "      <th>semestre</th>\n",
       "      <th>sk_d_curso</th>\n",
       "    </tr>\n",
       "  </thead>\n",
       "  <tbody>\n",
       "    <tr>\n",
       "      <th>1608</th>\n",
       "      <td>f6c9da6121853fcc02a24a3bc2d82fba916fe4e7362214...</td>\n",
       "      <td>Luiz Henrique Pires</td>\n",
       "      <td>1721</td>\n",
       "      <td>M</td>\n",
       "      <td>Ativa</td>\n",
       "      <td>4</td>\n",
       "      <td>1710</td>\n",
       "      <td>2013/1</td>\n",
       "      <td>2016/1</td>\n",
       "      <td>2019/1</td>\n",
       "      <td>2019</td>\n",
       "      <td>1</td>\n",
       "      <td>42b2581e5ef23445d17a6c6995ee6de021b474b2761100...</td>\n",
       "    </tr>\n",
       "  </tbody>\n",
       "</table>\n",
       "</div>"
      ],
      "text/plain": [
       "                                             sk_d_aluno        nome_completo  \\\n",
       "1608  f6c9da6121853fcc02a24a3bc2d82fba916fe4e7362214...  Luiz Henrique Pires   \n",
       "\n",
       "      matricula_dre sexo situacao_matricula  periodos_integralizados  \\\n",
       "1608           1721    M              Ativa                        4   \n",
       "\n",
       "      carga_horaria_acumulada periodo_ingresso_ufrj  \\\n",
       "1608                     1710                2013/1   \n",
       "\n",
       "     periodo_ingresso_curso_atual periodo   ano  semestre  \\\n",
       "1608                       2016/1  2019/1  2019         1   \n",
       "\n",
       "                                             sk_d_curso  \n",
       "1608  42b2581e5ef23445d17a6c6995ee6de021b474b2761100...  "
      ]
     },
     "execution_count": 15,
     "metadata": {},
     "output_type": "execute_result"
    }
   ],
   "source": [
    "situacao_aluno[(situacao_aluno['periodo'] == '2019/1') &\n",
    "               (situacao_aluno['situacao_matricula'] == 'Ativa')]"
   ]
  },
  {
   "cell_type": "code",
   "execution_count": 21,
   "metadata": {},
   "outputs": [
    {
     "data": {
      "application/vnd.plotly.v1+json": {
       "config": {
        "plotlyServerURL": "https://plot.ly"
       },
       "data": [
        {
         "alignmentgroup": "True",
         "hovertemplate": "situacao_matricula=Cancelada<br>periodo=%{x}<br>quantidade=%{y}<extra></extra>",
         "legendgroup": "Cancelada",
         "marker": {
          "color": "#636efa",
          "pattern": {
           "shape": ""
          }
         },
         "name": "Cancelada",
         "offsetgroup": "Cancelada",
         "orientation": "v",
         "showlegend": true,
         "textposition": "auto",
         "type": "bar",
         "x": [
          "2000/1",
          "2000/2",
          "2001/1",
          "2001/2",
          "2002/1",
          "2002/2",
          "2003/1",
          "2003/2",
          "2004/1",
          "2004/2",
          "2005/1",
          "2005/2",
          "2006/1",
          "2006/2",
          "2007/1",
          "2007/2",
          "2008/1",
          "2008/2",
          "2009/1",
          "2009/2",
          "2010/1",
          "2010/2",
          "2011/1",
          "2011/2",
          "2012/1",
          "2012/2",
          "2013/1",
          "2013/2",
          "2014/1",
          "2014/2",
          "2015/1",
          "2015/2",
          "2016/1",
          "2016/2",
          "2017/1",
          "2017/2",
          "2018/1",
          "2018/2",
          "2019/1",
          "2019/2",
          "2020/2",
          "2021/1"
         ],
         "xaxis": "x",
         "y": [
          2,
          7,
          20,
          19,
          12,
          14,
          14,
          21,
          14,
          15,
          25,
          25,
          19,
          21,
          24,
          22,
          34,
          32,
          31,
          33,
          27,
          36,
          21,
          24,
          25,
          21,
          18,
          22,
          36,
          34,
          21,
          24,
          36,
          17,
          39,
          23,
          21,
          25,
          5,
          7,
          3,
          2
         ],
         "yaxis": "y"
        },
        {
         "alignmentgroup": "True",
         "hovertemplate": "situacao_matricula=Concluido<br>periodo=%{x}<br>quantidade=%{y}<extra></extra>",
         "legendgroup": "Concluido",
         "marker": {
          "color": "#EF553B",
          "pattern": {
           "shape": ""
          }
         },
         "name": "Concluido",
         "offsetgroup": "Concluido",
         "orientation": "v",
         "showlegend": true,
         "textposition": "auto",
         "type": "bar",
         "x": [
          "2004/1",
          "2004/2",
          "2005/1",
          "2005/2",
          "2006/1",
          "2006/2",
          "2007/1",
          "2007/2",
          "2008/1",
          "2008/2",
          "2009/1",
          "2009/2",
          "2010/1",
          "2010/2",
          "2011/1",
          "2011/2",
          "2012/1",
          "2012/2",
          "2013/1",
          "2013/2",
          "2014/1",
          "2014/2",
          "2015/1",
          "2015/2",
          "2016/1",
          "2016/2",
          "2017/1",
          "2017/2",
          "2018/1",
          "2018/2",
          "2019/1",
          "2019/2",
          "2020/1",
          "2020/2",
          "2021/1"
         ],
         "xaxis": "x",
         "y": [
          6,
          14,
          17,
          24,
          15,
          28,
          28,
          35,
          30,
          30,
          30,
          52,
          38,
          45,
          29,
          34,
          35,
          34,
          27,
          26,
          21,
          36,
          12,
          25,
          10,
          24,
          14,
          24,
          20,
          21,
          28,
          21,
          25,
          20,
          2
         ],
         "yaxis": "y"
        },
        {
         "alignmentgroup": "True",
         "hovertemplate": "situacao_matricula=Trancada<br>periodo=%{x}<br>quantidade=%{y}<extra></extra>",
         "legendgroup": "Trancada",
         "marker": {
          "color": "#00cc96",
          "pattern": {
           "shape": ""
          }
         },
         "name": "Trancada",
         "offsetgroup": "Trancada",
         "orientation": "v",
         "showlegend": true,
         "textposition": "auto",
         "type": "bar",
         "x": [
          "2017/2",
          "2018/1",
          "2018/2",
          "2019/1",
          "2019/2",
          "2020/1",
          "2020/2",
          "2021/1"
         ],
         "xaxis": "x",
         "y": [
          11,
          5,
          3,
          1,
          1,
          2,
          1,
          1
         ],
         "yaxis": "y"
        },
        {
         "alignmentgroup": "True",
         "hovertemplate": "situacao_matricula=Ativa<br>periodo=%{x}<br>quantidade=%{y}<extra></extra>",
         "legendgroup": "Ativa",
         "marker": {
          "color": "#ab63fa",
          "pattern": {
           "shape": ""
          }
         },
         "name": "Ativa",
         "offsetgroup": "Ativa",
         "orientation": "v",
         "showlegend": true,
         "textposition": "auto",
         "type": "bar",
         "x": [
          "2019/1",
          "2020/2",
          "2021/1",
          "2021/2"
         ],
         "xaxis": "x",
         "y": [
          1,
          1,
          564,
          13
         ],
         "yaxis": "y"
        }
       ],
       "layout": {
        "barmode": "relative",
        "legend": {
         "title": {
          "text": "situacao_matricula"
         },
         "tracegroupgap": 0
        },
        "template": {
         "data": {
          "bar": [
           {
            "error_x": {
             "color": "#2a3f5f"
            },
            "error_y": {
             "color": "#2a3f5f"
            },
            "marker": {
             "line": {
              "color": "#E5ECF6",
              "width": 0.5
             },
             "pattern": {
              "fillmode": "overlay",
              "size": 10,
              "solidity": 0.2
             }
            },
            "type": "bar"
           }
          ],
          "barpolar": [
           {
            "marker": {
             "line": {
              "color": "#E5ECF6",
              "width": 0.5
             },
             "pattern": {
              "fillmode": "overlay",
              "size": 10,
              "solidity": 0.2
             }
            },
            "type": "barpolar"
           }
          ],
          "carpet": [
           {
            "aaxis": {
             "endlinecolor": "#2a3f5f",
             "gridcolor": "white",
             "linecolor": "white",
             "minorgridcolor": "white",
             "startlinecolor": "#2a3f5f"
            },
            "baxis": {
             "endlinecolor": "#2a3f5f",
             "gridcolor": "white",
             "linecolor": "white",
             "minorgridcolor": "white",
             "startlinecolor": "#2a3f5f"
            },
            "type": "carpet"
           }
          ],
          "choropleth": [
           {
            "colorbar": {
             "outlinewidth": 0,
             "ticks": ""
            },
            "type": "choropleth"
           }
          ],
          "contour": [
           {
            "colorbar": {
             "outlinewidth": 0,
             "ticks": ""
            },
            "colorscale": [
             [
              0,
              "#0d0887"
             ],
             [
              0.1111111111111111,
              "#46039f"
             ],
             [
              0.2222222222222222,
              "#7201a8"
             ],
             [
              0.3333333333333333,
              "#9c179e"
             ],
             [
              0.4444444444444444,
              "#bd3786"
             ],
             [
              0.5555555555555556,
              "#d8576b"
             ],
             [
              0.6666666666666666,
              "#ed7953"
             ],
             [
              0.7777777777777778,
              "#fb9f3a"
             ],
             [
              0.8888888888888888,
              "#fdca26"
             ],
             [
              1,
              "#f0f921"
             ]
            ],
            "type": "contour"
           }
          ],
          "contourcarpet": [
           {
            "colorbar": {
             "outlinewidth": 0,
             "ticks": ""
            },
            "type": "contourcarpet"
           }
          ],
          "heatmap": [
           {
            "colorbar": {
             "outlinewidth": 0,
             "ticks": ""
            },
            "colorscale": [
             [
              0,
              "#0d0887"
             ],
             [
              0.1111111111111111,
              "#46039f"
             ],
             [
              0.2222222222222222,
              "#7201a8"
             ],
             [
              0.3333333333333333,
              "#9c179e"
             ],
             [
              0.4444444444444444,
              "#bd3786"
             ],
             [
              0.5555555555555556,
              "#d8576b"
             ],
             [
              0.6666666666666666,
              "#ed7953"
             ],
             [
              0.7777777777777778,
              "#fb9f3a"
             ],
             [
              0.8888888888888888,
              "#fdca26"
             ],
             [
              1,
              "#f0f921"
             ]
            ],
            "type": "heatmap"
           }
          ],
          "heatmapgl": [
           {
            "colorbar": {
             "outlinewidth": 0,
             "ticks": ""
            },
            "colorscale": [
             [
              0,
              "#0d0887"
             ],
             [
              0.1111111111111111,
              "#46039f"
             ],
             [
              0.2222222222222222,
              "#7201a8"
             ],
             [
              0.3333333333333333,
              "#9c179e"
             ],
             [
              0.4444444444444444,
              "#bd3786"
             ],
             [
              0.5555555555555556,
              "#d8576b"
             ],
             [
              0.6666666666666666,
              "#ed7953"
             ],
             [
              0.7777777777777778,
              "#fb9f3a"
             ],
             [
              0.8888888888888888,
              "#fdca26"
             ],
             [
              1,
              "#f0f921"
             ]
            ],
            "type": "heatmapgl"
           }
          ],
          "histogram": [
           {
            "marker": {
             "pattern": {
              "fillmode": "overlay",
              "size": 10,
              "solidity": 0.2
             }
            },
            "type": "histogram"
           }
          ],
          "histogram2d": [
           {
            "colorbar": {
             "outlinewidth": 0,
             "ticks": ""
            },
            "colorscale": [
             [
              0,
              "#0d0887"
             ],
             [
              0.1111111111111111,
              "#46039f"
             ],
             [
              0.2222222222222222,
              "#7201a8"
             ],
             [
              0.3333333333333333,
              "#9c179e"
             ],
             [
              0.4444444444444444,
              "#bd3786"
             ],
             [
              0.5555555555555556,
              "#d8576b"
             ],
             [
              0.6666666666666666,
              "#ed7953"
             ],
             [
              0.7777777777777778,
              "#fb9f3a"
             ],
             [
              0.8888888888888888,
              "#fdca26"
             ],
             [
              1,
              "#f0f921"
             ]
            ],
            "type": "histogram2d"
           }
          ],
          "histogram2dcontour": [
           {
            "colorbar": {
             "outlinewidth": 0,
             "ticks": ""
            },
            "colorscale": [
             [
              0,
              "#0d0887"
             ],
             [
              0.1111111111111111,
              "#46039f"
             ],
             [
              0.2222222222222222,
              "#7201a8"
             ],
             [
              0.3333333333333333,
              "#9c179e"
             ],
             [
              0.4444444444444444,
              "#bd3786"
             ],
             [
              0.5555555555555556,
              "#d8576b"
             ],
             [
              0.6666666666666666,
              "#ed7953"
             ],
             [
              0.7777777777777778,
              "#fb9f3a"
             ],
             [
              0.8888888888888888,
              "#fdca26"
             ],
             [
              1,
              "#f0f921"
             ]
            ],
            "type": "histogram2dcontour"
           }
          ],
          "mesh3d": [
           {
            "colorbar": {
             "outlinewidth": 0,
             "ticks": ""
            },
            "type": "mesh3d"
           }
          ],
          "parcoords": [
           {
            "line": {
             "colorbar": {
              "outlinewidth": 0,
              "ticks": ""
             }
            },
            "type": "parcoords"
           }
          ],
          "pie": [
           {
            "automargin": true,
            "type": "pie"
           }
          ],
          "scatter": [
           {
            "fillpattern": {
             "fillmode": "overlay",
             "size": 10,
             "solidity": 0.2
            },
            "type": "scatter"
           }
          ],
          "scatter3d": [
           {
            "line": {
             "colorbar": {
              "outlinewidth": 0,
              "ticks": ""
             }
            },
            "marker": {
             "colorbar": {
              "outlinewidth": 0,
              "ticks": ""
             }
            },
            "type": "scatter3d"
           }
          ],
          "scattercarpet": [
           {
            "marker": {
             "colorbar": {
              "outlinewidth": 0,
              "ticks": ""
             }
            },
            "type": "scattercarpet"
           }
          ],
          "scattergeo": [
           {
            "marker": {
             "colorbar": {
              "outlinewidth": 0,
              "ticks": ""
             }
            },
            "type": "scattergeo"
           }
          ],
          "scattergl": [
           {
            "marker": {
             "colorbar": {
              "outlinewidth": 0,
              "ticks": ""
             }
            },
            "type": "scattergl"
           }
          ],
          "scattermapbox": [
           {
            "marker": {
             "colorbar": {
              "outlinewidth": 0,
              "ticks": ""
             }
            },
            "type": "scattermapbox"
           }
          ],
          "scatterpolar": [
           {
            "marker": {
             "colorbar": {
              "outlinewidth": 0,
              "ticks": ""
             }
            },
            "type": "scatterpolar"
           }
          ],
          "scatterpolargl": [
           {
            "marker": {
             "colorbar": {
              "outlinewidth": 0,
              "ticks": ""
             }
            },
            "type": "scatterpolargl"
           }
          ],
          "scatterternary": [
           {
            "marker": {
             "colorbar": {
              "outlinewidth": 0,
              "ticks": ""
             }
            },
            "type": "scatterternary"
           }
          ],
          "surface": [
           {
            "colorbar": {
             "outlinewidth": 0,
             "ticks": ""
            },
            "colorscale": [
             [
              0,
              "#0d0887"
             ],
             [
              0.1111111111111111,
              "#46039f"
             ],
             [
              0.2222222222222222,
              "#7201a8"
             ],
             [
              0.3333333333333333,
              "#9c179e"
             ],
             [
              0.4444444444444444,
              "#bd3786"
             ],
             [
              0.5555555555555556,
              "#d8576b"
             ],
             [
              0.6666666666666666,
              "#ed7953"
             ],
             [
              0.7777777777777778,
              "#fb9f3a"
             ],
             [
              0.8888888888888888,
              "#fdca26"
             ],
             [
              1,
              "#f0f921"
             ]
            ],
            "type": "surface"
           }
          ],
          "table": [
           {
            "cells": {
             "fill": {
              "color": "#EBF0F8"
             },
             "line": {
              "color": "white"
             }
            },
            "header": {
             "fill": {
              "color": "#C8D4E3"
             },
             "line": {
              "color": "white"
             }
            },
            "type": "table"
           }
          ]
         },
         "layout": {
          "annotationdefaults": {
           "arrowcolor": "#2a3f5f",
           "arrowhead": 0,
           "arrowwidth": 1
          },
          "autotypenumbers": "strict",
          "coloraxis": {
           "colorbar": {
            "outlinewidth": 0,
            "ticks": ""
           }
          },
          "colorscale": {
           "diverging": [
            [
             0,
             "#8e0152"
            ],
            [
             0.1,
             "#c51b7d"
            ],
            [
             0.2,
             "#de77ae"
            ],
            [
             0.3,
             "#f1b6da"
            ],
            [
             0.4,
             "#fde0ef"
            ],
            [
             0.5,
             "#f7f7f7"
            ],
            [
             0.6,
             "#e6f5d0"
            ],
            [
             0.7,
             "#b8e186"
            ],
            [
             0.8,
             "#7fbc41"
            ],
            [
             0.9,
             "#4d9221"
            ],
            [
             1,
             "#276419"
            ]
           ],
           "sequential": [
            [
             0,
             "#0d0887"
            ],
            [
             0.1111111111111111,
             "#46039f"
            ],
            [
             0.2222222222222222,
             "#7201a8"
            ],
            [
             0.3333333333333333,
             "#9c179e"
            ],
            [
             0.4444444444444444,
             "#bd3786"
            ],
            [
             0.5555555555555556,
             "#d8576b"
            ],
            [
             0.6666666666666666,
             "#ed7953"
            ],
            [
             0.7777777777777778,
             "#fb9f3a"
            ],
            [
             0.8888888888888888,
             "#fdca26"
            ],
            [
             1,
             "#f0f921"
            ]
           ],
           "sequentialminus": [
            [
             0,
             "#0d0887"
            ],
            [
             0.1111111111111111,
             "#46039f"
            ],
            [
             0.2222222222222222,
             "#7201a8"
            ],
            [
             0.3333333333333333,
             "#9c179e"
            ],
            [
             0.4444444444444444,
             "#bd3786"
            ],
            [
             0.5555555555555556,
             "#d8576b"
            ],
            [
             0.6666666666666666,
             "#ed7953"
            ],
            [
             0.7777777777777778,
             "#fb9f3a"
            ],
            [
             0.8888888888888888,
             "#fdca26"
            ],
            [
             1,
             "#f0f921"
            ]
           ]
          },
          "colorway": [
           "#636efa",
           "#EF553B",
           "#00cc96",
           "#ab63fa",
           "#FFA15A",
           "#19d3f3",
           "#FF6692",
           "#B6E880",
           "#FF97FF",
           "#FECB52"
          ],
          "font": {
           "color": "#2a3f5f"
          },
          "geo": {
           "bgcolor": "white",
           "lakecolor": "white",
           "landcolor": "#E5ECF6",
           "showlakes": true,
           "showland": true,
           "subunitcolor": "white"
          },
          "hoverlabel": {
           "align": "left"
          },
          "hovermode": "closest",
          "mapbox": {
           "style": "light"
          },
          "paper_bgcolor": "white",
          "plot_bgcolor": "#E5ECF6",
          "polar": {
           "angularaxis": {
            "gridcolor": "white",
            "linecolor": "white",
            "ticks": ""
           },
           "bgcolor": "#E5ECF6",
           "radialaxis": {
            "gridcolor": "white",
            "linecolor": "white",
            "ticks": ""
           }
          },
          "scene": {
           "xaxis": {
            "backgroundcolor": "#E5ECF6",
            "gridcolor": "white",
            "gridwidth": 2,
            "linecolor": "white",
            "showbackground": true,
            "ticks": "",
            "zerolinecolor": "white"
           },
           "yaxis": {
            "backgroundcolor": "#E5ECF6",
            "gridcolor": "white",
            "gridwidth": 2,
            "linecolor": "white",
            "showbackground": true,
            "ticks": "",
            "zerolinecolor": "white"
           },
           "zaxis": {
            "backgroundcolor": "#E5ECF6",
            "gridcolor": "white",
            "gridwidth": 2,
            "linecolor": "white",
            "showbackground": true,
            "ticks": "",
            "zerolinecolor": "white"
           }
          },
          "shapedefaults": {
           "line": {
            "color": "#2a3f5f"
           }
          },
          "ternary": {
           "aaxis": {
            "gridcolor": "white",
            "linecolor": "white",
            "ticks": ""
           },
           "baxis": {
            "gridcolor": "white",
            "linecolor": "white",
            "ticks": ""
           },
           "bgcolor": "#E5ECF6",
           "caxis": {
            "gridcolor": "white",
            "linecolor": "white",
            "ticks": ""
           }
          },
          "title": {
           "x": 0.05
          },
          "xaxis": {
           "automargin": true,
           "gridcolor": "white",
           "linecolor": "white",
           "ticks": "",
           "title": {
            "standoff": 15
           },
           "zerolinecolor": "white",
           "zerolinewidth": 2
          },
          "yaxis": {
           "automargin": true,
           "gridcolor": "white",
           "linecolor": "white",
           "ticks": "",
           "title": {
            "standoff": 15
           },
           "zerolinecolor": "white",
           "zerolinewidth": 2
          }
         }
        },
        "title": {
         "text": "Quantidade de Evasão por Periodo"
        },
        "xaxis": {
         "anchor": "y",
         "domain": [
          0,
          1
         ],
         "title": {
          "text": "periodo"
         }
        },
        "yaxis": {
         "anchor": "x",
         "domain": [
          0,
          1
         ],
         "title": {
          "text": "quantidade"
         }
        }
       }
      }
     },
     "metadata": {},
     "output_type": "display_data"
    }
   ],
   "source": [
    "gerar_grafico_evação(situacao_aluno, \"periodo\")"
   ]
  },
  {
   "cell_type": "code",
   "execution_count": 22,
   "metadata": {},
   "outputs": [
    {
     "data": {
      "application/vnd.plotly.v1+json": {
       "config": {
        "plotlyServerURL": "https://plot.ly"
       },
       "data": [
        {
         "alignmentgroup": "True",
         "hovertemplate": "situacao_matricula=Cancelada<br>periodo_ingresso_ufrj=%{x}<br>quantidade=%{y}<extra></extra>",
         "legendgroup": "Cancelada",
         "marker": {
          "color": "#636efa",
          "pattern": {
           "shape": ""
          }
         },
         "name": "Cancelada",
         "offsetgroup": "Cancelada",
         "orientation": "v",
         "showlegend": true,
         "textposition": "auto",
         "type": "bar",
         "x": [
          "2000/1",
          "2000/2",
          "2001/1",
          "2001/2",
          "2002/1",
          "2002/2",
          "2003/1",
          "2003/2",
          "2004/1",
          "2004/2",
          "2005/1",
          "2005/2",
          "2006/1",
          "2006/2",
          "2007/1",
          "2007/2",
          "2008/1",
          "2008/2",
          "2009/1",
          "2009/2",
          "2010/1",
          "2010/2",
          "2011/1",
          "2011/2",
          "2012/1",
          "2012/2",
          "2013/1",
          "2013/2",
          "2014/1",
          "2014/2",
          "2015/1",
          "2015/2",
          "2016/1",
          "2016/2",
          "2017/1",
          "2017/2",
          "2018/1",
          "2018/2",
          "2019/1",
          "2019/2",
          "2020/1",
          "2021/1"
         ],
         "xaxis": "x",
         "y": [
          22,
          31,
          29,
          25,
          24,
          29,
          19,
          28,
          20,
          34,
          30,
          24,
          23,
          25,
          25,
          27,
          21,
          27,
          29,
          28,
          21,
          30,
          29,
          22,
          30,
          25,
          25,
          31,
          29,
          21,
          18,
          20,
          14,
          17,
          14,
          13,
          8,
          6,
          3,
          1,
          1,
          1
         ],
         "yaxis": "y"
        },
        {
         "alignmentgroup": "True",
         "hovertemplate": "situacao_matricula=Concluido<br>periodo_ingresso_ufrj=%{x}<br>quantidade=%{y}<extra></extra>",
         "legendgroup": "Concluido",
         "marker": {
          "color": "#EF553B",
          "pattern": {
           "shape": ""
          }
         },
         "name": "Concluido",
         "offsetgroup": "Concluido",
         "orientation": "v",
         "showlegend": true,
         "textposition": "auto",
         "type": "bar",
         "x": [
          "2000/1",
          "2000/2",
          "2001/1",
          "2001/2",
          "2002/1",
          "2002/2",
          "2003/1",
          "2003/2",
          "2004/1",
          "2004/2",
          "2005/1",
          "2005/2",
          "2006/1",
          "2006/2",
          "2007/1",
          "2007/2",
          "2008/1",
          "2008/2",
          "2009/1",
          "2009/2",
          "2010/1",
          "2010/2",
          "2011/1",
          "2011/2",
          "2012/1",
          "2012/2",
          "2013/1",
          "2013/2",
          "2014/1",
          "2014/2",
          "2015/1",
          "2015/2",
          "2016/1",
          "2017/1"
         ],
         "xaxis": "x",
         "y": [
          45,
          29,
          43,
          35,
          44,
          35,
          45,
          33,
          44,
          26,
          35,
          36,
          39,
          31,
          40,
          33,
          35,
          24,
          26,
          22,
          24,
          22,
          24,
          22,
          17,
          20,
          16,
          10,
          9,
          9,
          15,
          1,
          5,
          1
         ],
         "yaxis": "y"
        },
        {
         "alignmentgroup": "True",
         "hovertemplate": "situacao_matricula=Ativa<br>periodo_ingresso_ufrj=%{x}<br>quantidade=%{y}<extra></extra>",
         "legendgroup": "Ativa",
         "marker": {
          "color": "#00cc96",
          "pattern": {
           "shape": ""
          }
         },
         "name": "Ativa",
         "offsetgroup": "Ativa",
         "orientation": "v",
         "showlegend": true,
         "textposition": "auto",
         "type": "bar",
         "x": [
          "2006/2",
          "2007/2",
          "2008/2",
          "2009/1",
          "2010/1",
          "2010/2",
          "2011/1",
          "2011/2",
          "2012/1",
          "2012/2",
          "2013/1",
          "2013/2",
          "2014/1",
          "2014/2",
          "2015/1",
          "2015/2",
          "2016/1",
          "2016/2",
          "2017/1",
          "2017/2",
          "2018/1",
          "2018/2",
          "2019/1",
          "2019/2",
          "2020/1",
          "2020/2",
          "2021/1"
         ],
         "xaxis": "x",
         "y": [
          1,
          1,
          1,
          2,
          5,
          6,
          6,
          7,
          6,
          6,
          17,
          13,
          13,
          12,
          18,
          32,
          27,
          29,
          40,
          36,
          46,
          37,
          49,
          39,
          38,
          42,
          50
         ],
         "yaxis": "y"
        },
        {
         "alignmentgroup": "True",
         "hovertemplate": "situacao_matricula=Trancada<br>periodo_ingresso_ufrj=%{x}<br>quantidade=%{y}<extra></extra>",
         "legendgroup": "Trancada",
         "marker": {
          "color": "#ab63fa",
          "pattern": {
           "shape": ""
          }
         },
         "name": "Trancada",
         "offsetgroup": "Trancada",
         "orientation": "v",
         "showlegend": true,
         "textposition": "auto",
         "type": "bar",
         "x": [
          "2007/2",
          "2009/1",
          "2010/2",
          "2011/1",
          "2011/2",
          "2012/1",
          "2012/2",
          "2013/2",
          "2015/1",
          "2015/2",
          "2016/1",
          "2016/2",
          "2017/1",
          "2017/2",
          "2018/1",
          "2020/1"
         ],
         "xaxis": "x",
         "y": [
          1,
          2,
          1,
          1,
          2,
          2,
          1,
          2,
          1,
          2,
          1,
          3,
          1,
          3,
          1,
          1
         ],
         "yaxis": "y"
        }
       ],
       "layout": {
        "barmode": "relative",
        "legend": {
         "title": {
          "text": "situacao_matricula"
         },
         "tracegroupgap": 0
        },
        "template": {
         "data": {
          "bar": [
           {
            "error_x": {
             "color": "#2a3f5f"
            },
            "error_y": {
             "color": "#2a3f5f"
            },
            "marker": {
             "line": {
              "color": "#E5ECF6",
              "width": 0.5
             },
             "pattern": {
              "fillmode": "overlay",
              "size": 10,
              "solidity": 0.2
             }
            },
            "type": "bar"
           }
          ],
          "barpolar": [
           {
            "marker": {
             "line": {
              "color": "#E5ECF6",
              "width": 0.5
             },
             "pattern": {
              "fillmode": "overlay",
              "size": 10,
              "solidity": 0.2
             }
            },
            "type": "barpolar"
           }
          ],
          "carpet": [
           {
            "aaxis": {
             "endlinecolor": "#2a3f5f",
             "gridcolor": "white",
             "linecolor": "white",
             "minorgridcolor": "white",
             "startlinecolor": "#2a3f5f"
            },
            "baxis": {
             "endlinecolor": "#2a3f5f",
             "gridcolor": "white",
             "linecolor": "white",
             "minorgridcolor": "white",
             "startlinecolor": "#2a3f5f"
            },
            "type": "carpet"
           }
          ],
          "choropleth": [
           {
            "colorbar": {
             "outlinewidth": 0,
             "ticks": ""
            },
            "type": "choropleth"
           }
          ],
          "contour": [
           {
            "colorbar": {
             "outlinewidth": 0,
             "ticks": ""
            },
            "colorscale": [
             [
              0,
              "#0d0887"
             ],
             [
              0.1111111111111111,
              "#46039f"
             ],
             [
              0.2222222222222222,
              "#7201a8"
             ],
             [
              0.3333333333333333,
              "#9c179e"
             ],
             [
              0.4444444444444444,
              "#bd3786"
             ],
             [
              0.5555555555555556,
              "#d8576b"
             ],
             [
              0.6666666666666666,
              "#ed7953"
             ],
             [
              0.7777777777777778,
              "#fb9f3a"
             ],
             [
              0.8888888888888888,
              "#fdca26"
             ],
             [
              1,
              "#f0f921"
             ]
            ],
            "type": "contour"
           }
          ],
          "contourcarpet": [
           {
            "colorbar": {
             "outlinewidth": 0,
             "ticks": ""
            },
            "type": "contourcarpet"
           }
          ],
          "heatmap": [
           {
            "colorbar": {
             "outlinewidth": 0,
             "ticks": ""
            },
            "colorscale": [
             [
              0,
              "#0d0887"
             ],
             [
              0.1111111111111111,
              "#46039f"
             ],
             [
              0.2222222222222222,
              "#7201a8"
             ],
             [
              0.3333333333333333,
              "#9c179e"
             ],
             [
              0.4444444444444444,
              "#bd3786"
             ],
             [
              0.5555555555555556,
              "#d8576b"
             ],
             [
              0.6666666666666666,
              "#ed7953"
             ],
             [
              0.7777777777777778,
              "#fb9f3a"
             ],
             [
              0.8888888888888888,
              "#fdca26"
             ],
             [
              1,
              "#f0f921"
             ]
            ],
            "type": "heatmap"
           }
          ],
          "heatmapgl": [
           {
            "colorbar": {
             "outlinewidth": 0,
             "ticks": ""
            },
            "colorscale": [
             [
              0,
              "#0d0887"
             ],
             [
              0.1111111111111111,
              "#46039f"
             ],
             [
              0.2222222222222222,
              "#7201a8"
             ],
             [
              0.3333333333333333,
              "#9c179e"
             ],
             [
              0.4444444444444444,
              "#bd3786"
             ],
             [
              0.5555555555555556,
              "#d8576b"
             ],
             [
              0.6666666666666666,
              "#ed7953"
             ],
             [
              0.7777777777777778,
              "#fb9f3a"
             ],
             [
              0.8888888888888888,
              "#fdca26"
             ],
             [
              1,
              "#f0f921"
             ]
            ],
            "type": "heatmapgl"
           }
          ],
          "histogram": [
           {
            "marker": {
             "pattern": {
              "fillmode": "overlay",
              "size": 10,
              "solidity": 0.2
             }
            },
            "type": "histogram"
           }
          ],
          "histogram2d": [
           {
            "colorbar": {
             "outlinewidth": 0,
             "ticks": ""
            },
            "colorscale": [
             [
              0,
              "#0d0887"
             ],
             [
              0.1111111111111111,
              "#46039f"
             ],
             [
              0.2222222222222222,
              "#7201a8"
             ],
             [
              0.3333333333333333,
              "#9c179e"
             ],
             [
              0.4444444444444444,
              "#bd3786"
             ],
             [
              0.5555555555555556,
              "#d8576b"
             ],
             [
              0.6666666666666666,
              "#ed7953"
             ],
             [
              0.7777777777777778,
              "#fb9f3a"
             ],
             [
              0.8888888888888888,
              "#fdca26"
             ],
             [
              1,
              "#f0f921"
             ]
            ],
            "type": "histogram2d"
           }
          ],
          "histogram2dcontour": [
           {
            "colorbar": {
             "outlinewidth": 0,
             "ticks": ""
            },
            "colorscale": [
             [
              0,
              "#0d0887"
             ],
             [
              0.1111111111111111,
              "#46039f"
             ],
             [
              0.2222222222222222,
              "#7201a8"
             ],
             [
              0.3333333333333333,
              "#9c179e"
             ],
             [
              0.4444444444444444,
              "#bd3786"
             ],
             [
              0.5555555555555556,
              "#d8576b"
             ],
             [
              0.6666666666666666,
              "#ed7953"
             ],
             [
              0.7777777777777778,
              "#fb9f3a"
             ],
             [
              0.8888888888888888,
              "#fdca26"
             ],
             [
              1,
              "#f0f921"
             ]
            ],
            "type": "histogram2dcontour"
           }
          ],
          "mesh3d": [
           {
            "colorbar": {
             "outlinewidth": 0,
             "ticks": ""
            },
            "type": "mesh3d"
           }
          ],
          "parcoords": [
           {
            "line": {
             "colorbar": {
              "outlinewidth": 0,
              "ticks": ""
             }
            },
            "type": "parcoords"
           }
          ],
          "pie": [
           {
            "automargin": true,
            "type": "pie"
           }
          ],
          "scatter": [
           {
            "fillpattern": {
             "fillmode": "overlay",
             "size": 10,
             "solidity": 0.2
            },
            "type": "scatter"
           }
          ],
          "scatter3d": [
           {
            "line": {
             "colorbar": {
              "outlinewidth": 0,
              "ticks": ""
             }
            },
            "marker": {
             "colorbar": {
              "outlinewidth": 0,
              "ticks": ""
             }
            },
            "type": "scatter3d"
           }
          ],
          "scattercarpet": [
           {
            "marker": {
             "colorbar": {
              "outlinewidth": 0,
              "ticks": ""
             }
            },
            "type": "scattercarpet"
           }
          ],
          "scattergeo": [
           {
            "marker": {
             "colorbar": {
              "outlinewidth": 0,
              "ticks": ""
             }
            },
            "type": "scattergeo"
           }
          ],
          "scattergl": [
           {
            "marker": {
             "colorbar": {
              "outlinewidth": 0,
              "ticks": ""
             }
            },
            "type": "scattergl"
           }
          ],
          "scattermapbox": [
           {
            "marker": {
             "colorbar": {
              "outlinewidth": 0,
              "ticks": ""
             }
            },
            "type": "scattermapbox"
           }
          ],
          "scatterpolar": [
           {
            "marker": {
             "colorbar": {
              "outlinewidth": 0,
              "ticks": ""
             }
            },
            "type": "scatterpolar"
           }
          ],
          "scatterpolargl": [
           {
            "marker": {
             "colorbar": {
              "outlinewidth": 0,
              "ticks": ""
             }
            },
            "type": "scatterpolargl"
           }
          ],
          "scatterternary": [
           {
            "marker": {
             "colorbar": {
              "outlinewidth": 0,
              "ticks": ""
             }
            },
            "type": "scatterternary"
           }
          ],
          "surface": [
           {
            "colorbar": {
             "outlinewidth": 0,
             "ticks": ""
            },
            "colorscale": [
             [
              0,
              "#0d0887"
             ],
             [
              0.1111111111111111,
              "#46039f"
             ],
             [
              0.2222222222222222,
              "#7201a8"
             ],
             [
              0.3333333333333333,
              "#9c179e"
             ],
             [
              0.4444444444444444,
              "#bd3786"
             ],
             [
              0.5555555555555556,
              "#d8576b"
             ],
             [
              0.6666666666666666,
              "#ed7953"
             ],
             [
              0.7777777777777778,
              "#fb9f3a"
             ],
             [
              0.8888888888888888,
              "#fdca26"
             ],
             [
              1,
              "#f0f921"
             ]
            ],
            "type": "surface"
           }
          ],
          "table": [
           {
            "cells": {
             "fill": {
              "color": "#EBF0F8"
             },
             "line": {
              "color": "white"
             }
            },
            "header": {
             "fill": {
              "color": "#C8D4E3"
             },
             "line": {
              "color": "white"
             }
            },
            "type": "table"
           }
          ]
         },
         "layout": {
          "annotationdefaults": {
           "arrowcolor": "#2a3f5f",
           "arrowhead": 0,
           "arrowwidth": 1
          },
          "autotypenumbers": "strict",
          "coloraxis": {
           "colorbar": {
            "outlinewidth": 0,
            "ticks": ""
           }
          },
          "colorscale": {
           "diverging": [
            [
             0,
             "#8e0152"
            ],
            [
             0.1,
             "#c51b7d"
            ],
            [
             0.2,
             "#de77ae"
            ],
            [
             0.3,
             "#f1b6da"
            ],
            [
             0.4,
             "#fde0ef"
            ],
            [
             0.5,
             "#f7f7f7"
            ],
            [
             0.6,
             "#e6f5d0"
            ],
            [
             0.7,
             "#b8e186"
            ],
            [
             0.8,
             "#7fbc41"
            ],
            [
             0.9,
             "#4d9221"
            ],
            [
             1,
             "#276419"
            ]
           ],
           "sequential": [
            [
             0,
             "#0d0887"
            ],
            [
             0.1111111111111111,
             "#46039f"
            ],
            [
             0.2222222222222222,
             "#7201a8"
            ],
            [
             0.3333333333333333,
             "#9c179e"
            ],
            [
             0.4444444444444444,
             "#bd3786"
            ],
            [
             0.5555555555555556,
             "#d8576b"
            ],
            [
             0.6666666666666666,
             "#ed7953"
            ],
            [
             0.7777777777777778,
             "#fb9f3a"
            ],
            [
             0.8888888888888888,
             "#fdca26"
            ],
            [
             1,
             "#f0f921"
            ]
           ],
           "sequentialminus": [
            [
             0,
             "#0d0887"
            ],
            [
             0.1111111111111111,
             "#46039f"
            ],
            [
             0.2222222222222222,
             "#7201a8"
            ],
            [
             0.3333333333333333,
             "#9c179e"
            ],
            [
             0.4444444444444444,
             "#bd3786"
            ],
            [
             0.5555555555555556,
             "#d8576b"
            ],
            [
             0.6666666666666666,
             "#ed7953"
            ],
            [
             0.7777777777777778,
             "#fb9f3a"
            ],
            [
             0.8888888888888888,
             "#fdca26"
            ],
            [
             1,
             "#f0f921"
            ]
           ]
          },
          "colorway": [
           "#636efa",
           "#EF553B",
           "#00cc96",
           "#ab63fa",
           "#FFA15A",
           "#19d3f3",
           "#FF6692",
           "#B6E880",
           "#FF97FF",
           "#FECB52"
          ],
          "font": {
           "color": "#2a3f5f"
          },
          "geo": {
           "bgcolor": "white",
           "lakecolor": "white",
           "landcolor": "#E5ECF6",
           "showlakes": true,
           "showland": true,
           "subunitcolor": "white"
          },
          "hoverlabel": {
           "align": "left"
          },
          "hovermode": "closest",
          "mapbox": {
           "style": "light"
          },
          "paper_bgcolor": "white",
          "plot_bgcolor": "#E5ECF6",
          "polar": {
           "angularaxis": {
            "gridcolor": "white",
            "linecolor": "white",
            "ticks": ""
           },
           "bgcolor": "#E5ECF6",
           "radialaxis": {
            "gridcolor": "white",
            "linecolor": "white",
            "ticks": ""
           }
          },
          "scene": {
           "xaxis": {
            "backgroundcolor": "#E5ECF6",
            "gridcolor": "white",
            "gridwidth": 2,
            "linecolor": "white",
            "showbackground": true,
            "ticks": "",
            "zerolinecolor": "white"
           },
           "yaxis": {
            "backgroundcolor": "#E5ECF6",
            "gridcolor": "white",
            "gridwidth": 2,
            "linecolor": "white",
            "showbackground": true,
            "ticks": "",
            "zerolinecolor": "white"
           },
           "zaxis": {
            "backgroundcolor": "#E5ECF6",
            "gridcolor": "white",
            "gridwidth": 2,
            "linecolor": "white",
            "showbackground": true,
            "ticks": "",
            "zerolinecolor": "white"
           }
          },
          "shapedefaults": {
           "line": {
            "color": "#2a3f5f"
           }
          },
          "ternary": {
           "aaxis": {
            "gridcolor": "white",
            "linecolor": "white",
            "ticks": ""
           },
           "baxis": {
            "gridcolor": "white",
            "linecolor": "white",
            "ticks": ""
           },
           "bgcolor": "#E5ECF6",
           "caxis": {
            "gridcolor": "white",
            "linecolor": "white",
            "ticks": ""
           }
          },
          "title": {
           "x": 0.05
          },
          "xaxis": {
           "automargin": true,
           "gridcolor": "white",
           "linecolor": "white",
           "ticks": "",
           "title": {
            "standoff": 15
           },
           "zerolinecolor": "white",
           "zerolinewidth": 2
          },
          "yaxis": {
           "automargin": true,
           "gridcolor": "white",
           "linecolor": "white",
           "ticks": "",
           "title": {
            "standoff": 15
           },
           "zerolinecolor": "white",
           "zerolinewidth": 2
          }
         }
        },
        "title": {
         "text": "Quantidade de Evasão por Periodo Ingresso Ufrj"
        },
        "xaxis": {
         "anchor": "y",
         "domain": [
          0,
          1
         ],
         "title": {
          "text": "periodo_ingresso_ufrj"
         }
        },
        "yaxis": {
         "anchor": "x",
         "domain": [
          0,
          1
         ],
         "title": {
          "text": "quantidade"
         }
        }
       }
      }
     },
     "metadata": {},
     "output_type": "display_data"
    }
   ],
   "source": [
    "gerar_grafico_evação(situacao_aluno, \"periodo_ingresso_ufrj\")"
   ]
  },
  {
   "cell_type": "code",
   "execution_count": 133,
   "metadata": {},
   "outputs": [],
   "source": [
    "situacao_aluno = pd.merge(situacao_aluno, D_CURSO, on=\"sk_d_curso\", how=\"inner\")"
   ]
  },
  {
   "cell_type": "code",
   "execution_count": 23,
   "metadata": {},
   "outputs": [
    {
     "ename": "KeyError",
     "evalue": "'curso_ingresso_ufrj'",
     "output_type": "error",
     "traceback": [
      "\u001b[1;31m---------------------------------------------------------------------------\u001b[0m",
      "\u001b[1;31mKeyError\u001b[0m                                  Traceback (most recent call last)",
      "Cell \u001b[1;32mIn[23], line 1\u001b[0m\n\u001b[1;32m----> 1\u001b[0m data \u001b[38;5;241m=\u001b[39m \u001b[43msituacao_aluno\u001b[49m\u001b[38;5;241;43m.\u001b[39;49m\u001b[43mgroupby\u001b[49m\u001b[43m(\u001b[49m\u001b[43m[\u001b[49m\u001b[38;5;124;43m'\u001b[39;49m\u001b[38;5;124;43msituacao_matricula\u001b[39;49m\u001b[38;5;124;43m'\u001b[39;49m\u001b[43m,\u001b[49m\u001b[43m \u001b[49m\u001b[38;5;124;43m'\u001b[39;49m\u001b[38;5;124;43mcurso_ingresso_ufrj\u001b[39;49m\u001b[38;5;124;43m'\u001b[39;49m\u001b[43m]\u001b[49m\u001b[43m)\u001b[49m\u001b[38;5;241m.\u001b[39msize()\u001b[38;5;241m.\u001b[39mreset_index(name\u001b[38;5;241m=\u001b[39m\u001b[38;5;124m'\u001b[39m\u001b[38;5;124mquantidade\u001b[39m\u001b[38;5;124m'\u001b[39m)\n\u001b[0;32m      2\u001b[0m data_filtrada \u001b[38;5;241m=\u001b[39m data[(data[\u001b[38;5;124m'\u001b[39m\u001b[38;5;124mcurso_ingresso_ufrj\u001b[39m\u001b[38;5;124m'\u001b[39m] \u001b[38;5;241m!=\u001b[39m \u001b[38;5;124m'\u001b[39m\u001b[38;5;124mBacharelado em Ciência da Computação\u001b[39m\u001b[38;5;124m'\u001b[39m) \u001b[38;5;241m&\u001b[39m (data[\u001b[38;5;124m'\u001b[39m\u001b[38;5;124mcurso_ingresso_ufrj\u001b[39m\u001b[38;5;124m'\u001b[39m] \u001b[38;5;241m!=\u001b[39m \u001b[38;5;124m'\u001b[39m\u001b[38;5;124mBacharelado em Informática\u001b[39m\u001b[38;5;124m'\u001b[39m) \u001b[38;5;241m&\u001b[39m (data[\u001b[38;5;124m'\u001b[39m\u001b[38;5;124mcurso_ingresso_ufrj\u001b[39m\u001b[38;5;124m'\u001b[39m] \u001b[38;5;241m!=\u001b[39m \u001b[38;5;124m'\u001b[39m\u001b[38;5;124mCiência da Computação\u001b[39m\u001b[38;5;124m'\u001b[39m)]\n\u001b[0;32m      3\u001b[0m data_filtrada \u001b[38;5;241m=\u001b[39m data_filtrada\u001b[38;5;241m.\u001b[39msort_values(\u001b[38;5;124m'\u001b[39m\u001b[38;5;124mquantidade\u001b[39m\u001b[38;5;124m'\u001b[39m, ascending\u001b[38;5;241m=\u001b[39m\u001b[38;5;28;01mFalse\u001b[39;00m)\n",
      "File \u001b[1;32mc:\\Users\\Marcos Eduardo\\AppData\\Local\\Programs\\Python\\Python312\\Lib\\site-packages\\pandas\\core\\frame.py:9170\u001b[0m, in \u001b[0;36mDataFrame.groupby\u001b[1;34m(self, by, axis, level, as_index, sort, group_keys, observed, dropna)\u001b[0m\n\u001b[0;32m   9167\u001b[0m \u001b[38;5;28;01mif\u001b[39;00m level \u001b[38;5;129;01mis\u001b[39;00m \u001b[38;5;28;01mNone\u001b[39;00m \u001b[38;5;129;01mand\u001b[39;00m by \u001b[38;5;129;01mis\u001b[39;00m \u001b[38;5;28;01mNone\u001b[39;00m:\n\u001b[0;32m   9168\u001b[0m     \u001b[38;5;28;01mraise\u001b[39;00m \u001b[38;5;167;01mTypeError\u001b[39;00m(\u001b[38;5;124m\"\u001b[39m\u001b[38;5;124mYou have to supply one of \u001b[39m\u001b[38;5;124m'\u001b[39m\u001b[38;5;124mby\u001b[39m\u001b[38;5;124m'\u001b[39m\u001b[38;5;124m and \u001b[39m\u001b[38;5;124m'\u001b[39m\u001b[38;5;124mlevel\u001b[39m\u001b[38;5;124m'\u001b[39m\u001b[38;5;124m\"\u001b[39m)\n\u001b[1;32m-> 9170\u001b[0m \u001b[38;5;28;01mreturn\u001b[39;00m \u001b[43mDataFrameGroupBy\u001b[49m\u001b[43m(\u001b[49m\n\u001b[0;32m   9171\u001b[0m \u001b[43m    \u001b[49m\u001b[43mobj\u001b[49m\u001b[38;5;241;43m=\u001b[39;49m\u001b[38;5;28;43mself\u001b[39;49m\u001b[43m,\u001b[49m\n\u001b[0;32m   9172\u001b[0m \u001b[43m    \u001b[49m\u001b[43mkeys\u001b[49m\u001b[38;5;241;43m=\u001b[39;49m\u001b[43mby\u001b[49m\u001b[43m,\u001b[49m\n\u001b[0;32m   9173\u001b[0m \u001b[43m    \u001b[49m\u001b[43maxis\u001b[49m\u001b[38;5;241;43m=\u001b[39;49m\u001b[43maxis\u001b[49m\u001b[43m,\u001b[49m\n\u001b[0;32m   9174\u001b[0m \u001b[43m    \u001b[49m\u001b[43mlevel\u001b[49m\u001b[38;5;241;43m=\u001b[39;49m\u001b[43mlevel\u001b[49m\u001b[43m,\u001b[49m\n\u001b[0;32m   9175\u001b[0m \u001b[43m    \u001b[49m\u001b[43mas_index\u001b[49m\u001b[38;5;241;43m=\u001b[39;49m\u001b[43mas_index\u001b[49m\u001b[43m,\u001b[49m\n\u001b[0;32m   9176\u001b[0m \u001b[43m    \u001b[49m\u001b[43msort\u001b[49m\u001b[38;5;241;43m=\u001b[39;49m\u001b[43msort\u001b[49m\u001b[43m,\u001b[49m\n\u001b[0;32m   9177\u001b[0m \u001b[43m    \u001b[49m\u001b[43mgroup_keys\u001b[49m\u001b[38;5;241;43m=\u001b[39;49m\u001b[43mgroup_keys\u001b[49m\u001b[43m,\u001b[49m\n\u001b[0;32m   9178\u001b[0m \u001b[43m    \u001b[49m\u001b[43mobserved\u001b[49m\u001b[38;5;241;43m=\u001b[39;49m\u001b[43mobserved\u001b[49m\u001b[43m,\u001b[49m\n\u001b[0;32m   9179\u001b[0m \u001b[43m    \u001b[49m\u001b[43mdropna\u001b[49m\u001b[38;5;241;43m=\u001b[39;49m\u001b[43mdropna\u001b[49m\u001b[43m,\u001b[49m\n\u001b[0;32m   9180\u001b[0m \u001b[43m\u001b[49m\u001b[43m)\u001b[49m\n",
      "File \u001b[1;32mc:\\Users\\Marcos Eduardo\\AppData\\Local\\Programs\\Python\\Python312\\Lib\\site-packages\\pandas\\core\\groupby\\groupby.py:1329\u001b[0m, in \u001b[0;36mGroupBy.__init__\u001b[1;34m(self, obj, keys, axis, level, grouper, exclusions, selection, as_index, sort, group_keys, observed, dropna)\u001b[0m\n\u001b[0;32m   1326\u001b[0m \u001b[38;5;28mself\u001b[39m\u001b[38;5;241m.\u001b[39mdropna \u001b[38;5;241m=\u001b[39m dropna\n\u001b[0;32m   1328\u001b[0m \u001b[38;5;28;01mif\u001b[39;00m grouper \u001b[38;5;129;01mis\u001b[39;00m \u001b[38;5;28;01mNone\u001b[39;00m:\n\u001b[1;32m-> 1329\u001b[0m     grouper, exclusions, obj \u001b[38;5;241m=\u001b[39m \u001b[43mget_grouper\u001b[49m\u001b[43m(\u001b[49m\n\u001b[0;32m   1330\u001b[0m \u001b[43m        \u001b[49m\u001b[43mobj\u001b[49m\u001b[43m,\u001b[49m\n\u001b[0;32m   1331\u001b[0m \u001b[43m        \u001b[49m\u001b[43mkeys\u001b[49m\u001b[43m,\u001b[49m\n\u001b[0;32m   1332\u001b[0m \u001b[43m        \u001b[49m\u001b[43maxis\u001b[49m\u001b[38;5;241;43m=\u001b[39;49m\u001b[43maxis\u001b[49m\u001b[43m,\u001b[49m\n\u001b[0;32m   1333\u001b[0m \u001b[43m        \u001b[49m\u001b[43mlevel\u001b[49m\u001b[38;5;241;43m=\u001b[39;49m\u001b[43mlevel\u001b[49m\u001b[43m,\u001b[49m\n\u001b[0;32m   1334\u001b[0m \u001b[43m        \u001b[49m\u001b[43msort\u001b[49m\u001b[38;5;241;43m=\u001b[39;49m\u001b[43msort\u001b[49m\u001b[43m,\u001b[49m\n\u001b[0;32m   1335\u001b[0m \u001b[43m        \u001b[49m\u001b[43mobserved\u001b[49m\u001b[38;5;241;43m=\u001b[39;49m\u001b[38;5;28;43;01mFalse\u001b[39;49;00m\u001b[43m \u001b[49m\u001b[38;5;28;43;01mif\u001b[39;49;00m\u001b[43m \u001b[49m\u001b[43mobserved\u001b[49m\u001b[43m \u001b[49m\u001b[38;5;129;43;01mis\u001b[39;49;00m\u001b[43m \u001b[49m\u001b[43mlib\u001b[49m\u001b[38;5;241;43m.\u001b[39;49m\u001b[43mno_default\u001b[49m\u001b[43m \u001b[49m\u001b[38;5;28;43;01melse\u001b[39;49;00m\u001b[43m \u001b[49m\u001b[43mobserved\u001b[49m\u001b[43m,\u001b[49m\n\u001b[0;32m   1336\u001b[0m \u001b[43m        \u001b[49m\u001b[43mdropna\u001b[49m\u001b[38;5;241;43m=\u001b[39;49m\u001b[38;5;28;43mself\u001b[39;49m\u001b[38;5;241;43m.\u001b[39;49m\u001b[43mdropna\u001b[49m\u001b[43m,\u001b[49m\n\u001b[0;32m   1337\u001b[0m \u001b[43m    \u001b[49m\u001b[43m)\u001b[49m\n\u001b[0;32m   1339\u001b[0m \u001b[38;5;28;01mif\u001b[39;00m observed \u001b[38;5;129;01mis\u001b[39;00m lib\u001b[38;5;241m.\u001b[39mno_default:\n\u001b[0;32m   1340\u001b[0m     \u001b[38;5;28;01mif\u001b[39;00m \u001b[38;5;28many\u001b[39m(ping\u001b[38;5;241m.\u001b[39m_passed_categorical \u001b[38;5;28;01mfor\u001b[39;00m ping \u001b[38;5;129;01min\u001b[39;00m grouper\u001b[38;5;241m.\u001b[39mgroupings):\n",
      "File \u001b[1;32mc:\\Users\\Marcos Eduardo\\AppData\\Local\\Programs\\Python\\Python312\\Lib\\site-packages\\pandas\\core\\groupby\\grouper.py:1043\u001b[0m, in \u001b[0;36mget_grouper\u001b[1;34m(obj, key, axis, level, sort, observed, validate, dropna)\u001b[0m\n\u001b[0;32m   1041\u001b[0m         in_axis, level, gpr \u001b[38;5;241m=\u001b[39m \u001b[38;5;28;01mFalse\u001b[39;00m, gpr, \u001b[38;5;28;01mNone\u001b[39;00m\n\u001b[0;32m   1042\u001b[0m     \u001b[38;5;28;01melse\u001b[39;00m:\n\u001b[1;32m-> 1043\u001b[0m         \u001b[38;5;28;01mraise\u001b[39;00m \u001b[38;5;167;01mKeyError\u001b[39;00m(gpr)\n\u001b[0;32m   1044\u001b[0m \u001b[38;5;28;01melif\u001b[39;00m \u001b[38;5;28misinstance\u001b[39m(gpr, Grouper) \u001b[38;5;129;01mand\u001b[39;00m gpr\u001b[38;5;241m.\u001b[39mkey \u001b[38;5;129;01mis\u001b[39;00m \u001b[38;5;129;01mnot\u001b[39;00m \u001b[38;5;28;01mNone\u001b[39;00m:\n\u001b[0;32m   1045\u001b[0m     \u001b[38;5;66;03m# Add key to exclusions\u001b[39;00m\n\u001b[0;32m   1046\u001b[0m     exclusions\u001b[38;5;241m.\u001b[39madd(gpr\u001b[38;5;241m.\u001b[39mkey)\n",
      "\u001b[1;31mKeyError\u001b[0m: 'curso_ingresso_ufrj'"
     ]
    }
   ],
   "source": [
    "data = situacao_aluno.groupby(['situacao_matricula', 'curso_ingresso_ufrj']).size().reset_index(name='quantidade')\n",
    "data_filtrada = data[(data['curso_ingresso_ufrj'] != 'Bacharelado em Ciência da Computação') & (data['curso_ingresso_ufrj'] != 'Bacharelado em Informática') & (data['curso_ingresso_ufrj'] != 'Ciência da Computação')]\n",
    "data_filtrada = data_filtrada.sort_values('quantidade', ascending=False)\n",
    "fig = px.bar(data_filtrada, x='curso_ingresso_ufrj', y=\"quantidade\", title=f'Quantidade de Evasão por {'curso_ingresso_ufrj'.replace('_', ' ').title()}', color='situacao_matricula')\n",
    "fig.show()"
   ]
  },
  {
   "cell_type": "markdown",
   "metadata": {},
   "source": [
    "## Quantidade de Reprovações\n"
   ]
  },
  {
   "cell_type": "code",
   "execution_count": 28,
   "metadata": {},
   "outputs": [],
   "source": [
    "situacao_disciplina = pd.merge(\n",
    "    D_DISCIPLINA, F_DESEMPENHO_ACADEMICO, on=\"sk_d_disciplina\", how=\"inner\"\n",
    ")"
   ]
  },
  {
   "cell_type": "code",
   "execution_count": 29,
   "metadata": {},
   "outputs": [],
   "source": [
    "situacao_disciplina = situacao_disciplina[~(situacao_disciplina['grau_disciplina'].isna()) & (situacao_disciplina['grau_disciplina'] != 'T') & (situacao_disciplina['grau_disciplina'] != 'I')]\n",
    "situacao_disciplina['grau_disciplina'] = situacao_disciplina['grau_disciplina'].astype(int)/10"
   ]
  },
  {
   "cell_type": "code",
   "execution_count": 30,
   "metadata": {},
   "outputs": [],
   "source": [
    "situacao_disciplina = pd.merge(\n",
    "    D_PERIODO, situacao_disciplina, on=\"sk_d_periodo\", how=\"inner\"\n",
    ")"
   ]
  },
  {
   "cell_type": "code",
   "execution_count": 31,
   "metadata": {},
   "outputs": [
    {
     "data": {
      "application/vnd.plotly.v1+json": {
       "config": {
        "plotlyServerURL": "https://plot.ly"
       },
       "data": [
        {
         "alignmentgroup": "True",
         "hovertemplate": "variable=Aprovado<br>nome_disciplina=%{x}<br>value=%{y}<extra></extra>",
         "legendgroup": "Aprovado",
         "marker": {
          "color": "#636efa",
          "pattern": {
           "shape": ""
          }
         },
         "name": "Aprovado",
         "offsetgroup": "Aprovado",
         "orientation": "v",
         "showlegend": true,
         "textposition": "auto",
         "type": "bar",
         "x": [
          "Cálculo Infinitesimal I",
          "Números Inteiros Criptografia",
          "Fund da Computação Digital",
          "Matemática Combinatória",
          "Circuitos Lógicos",
          "Computadores e Programação",
          "Linguagens Formais",
          "Lógica",
          "Arquitetura de Computadores I",
          "Algoritmos e Grafos",
          "Banco de Dados I",
          "Estatística e Probabilidade",
          "Cálculo Vetorial e G Analitica",
          "Física I",
          "Avaliação e Desempenho",
          "Computadores e Sociedade",
          "Inteligência Artificial",
          "Programação Linear I",
          "Computação Gráfica I",
          "Computação I (CC)",
          "Compiladores I",
          "Computacao para Informatica",
          "Fund da Engenharia de Software",
          "Sistemas de Informação",
          "Sistemas Operacionais I",
          "Álgebra Linear II",
          "Calculo Infinitesimal II",
          "Computacao II",
          "Teleprocessamento e Redes",
          "Computação II (CC)"
         ],
         "xaxis": "x",
         "y": [
          1558,
          1776,
          1973,
          1546,
          1656,
          1306,
          1403,
          1194,
          1219,
          1230,
          1213,
          1114,
          852,
          840,
          990,
          1419,
          1040,
          1115,
          1103,
          932,
          1207,
          925,
          1197,
          1049,
          1072,
          845,
          816,
          884,
          983,
          809
         ],
         "yaxis": "y"
        },
        {
         "alignmentgroup": "True",
         "hovertemplate": "variable=Reprovado<br>nome_disciplina=%{x}<br>value=%{y}<extra></extra>",
         "legendgroup": "Reprovado",
         "marker": {
          "color": "#EF553B",
          "pattern": {
           "shape": ""
          }
         },
         "name": "Reprovado",
         "offsetgroup": "Reprovado",
         "orientation": "v",
         "showlegend": true,
         "textposition": "auto",
         "type": "bar",
         "x": [
          "Cálculo Infinitesimal I",
          "Números Inteiros Criptografia",
          "Fund da Computação Digital",
          "Matemática Combinatória",
          "Circuitos Lógicos",
          "Computadores e Programação",
          "Linguagens Formais",
          "Lógica",
          "Arquitetura de Computadores I",
          "Algoritmos e Grafos",
          "Banco de Dados I",
          "Estatística e Probabilidade",
          "Cálculo Vetorial e G Analitica",
          "Física I",
          "Avaliação e Desempenho",
          "Computadores e Sociedade",
          "Inteligência Artificial",
          "Programação Linear I",
          "Computação Gráfica I",
          "Computação I (CC)",
          "Compiladores I",
          "Computacao para Informatica",
          "Fund da Engenharia de Software",
          "Sistemas de Informação",
          "Sistemas Operacionais I",
          "Álgebra Linear II",
          "Calculo Infinitesimal II",
          "Computacao II",
          "Teleprocessamento e Redes",
          "Computação II (CC)"
         ],
         "xaxis": "x",
         "y": [
          1619,
          932,
          693,
          816,
          580,
          753,
          442,
          511,
          433,
          367,
          381,
          471,
          708,
          717,
          563,
          125,
          462,
          315,
          322,
          493,
          162,
          386,
          112,
          247,
          188,
          405,
          391,
          312,
          194,
          305
         ],
         "yaxis": "y"
        }
       ],
       "layout": {
        "barmode": "relative",
        "legend": {
         "title": {
          "text": "variable"
         },
         "tracegroupgap": 0
        },
        "template": {
         "data": {
          "bar": [
           {
            "error_x": {
             "color": "#2a3f5f"
            },
            "error_y": {
             "color": "#2a3f5f"
            },
            "marker": {
             "line": {
              "color": "#E5ECF6",
              "width": 0.5
             },
             "pattern": {
              "fillmode": "overlay",
              "size": 10,
              "solidity": 0.2
             }
            },
            "type": "bar"
           }
          ],
          "barpolar": [
           {
            "marker": {
             "line": {
              "color": "#E5ECF6",
              "width": 0.5
             },
             "pattern": {
              "fillmode": "overlay",
              "size": 10,
              "solidity": 0.2
             }
            },
            "type": "barpolar"
           }
          ],
          "carpet": [
           {
            "aaxis": {
             "endlinecolor": "#2a3f5f",
             "gridcolor": "white",
             "linecolor": "white",
             "minorgridcolor": "white",
             "startlinecolor": "#2a3f5f"
            },
            "baxis": {
             "endlinecolor": "#2a3f5f",
             "gridcolor": "white",
             "linecolor": "white",
             "minorgridcolor": "white",
             "startlinecolor": "#2a3f5f"
            },
            "type": "carpet"
           }
          ],
          "choropleth": [
           {
            "colorbar": {
             "outlinewidth": 0,
             "ticks": ""
            },
            "type": "choropleth"
           }
          ],
          "contour": [
           {
            "colorbar": {
             "outlinewidth": 0,
             "ticks": ""
            },
            "colorscale": [
             [
              0,
              "#0d0887"
             ],
             [
              0.1111111111111111,
              "#46039f"
             ],
             [
              0.2222222222222222,
              "#7201a8"
             ],
             [
              0.3333333333333333,
              "#9c179e"
             ],
             [
              0.4444444444444444,
              "#bd3786"
             ],
             [
              0.5555555555555556,
              "#d8576b"
             ],
             [
              0.6666666666666666,
              "#ed7953"
             ],
             [
              0.7777777777777778,
              "#fb9f3a"
             ],
             [
              0.8888888888888888,
              "#fdca26"
             ],
             [
              1,
              "#f0f921"
             ]
            ],
            "type": "contour"
           }
          ],
          "contourcarpet": [
           {
            "colorbar": {
             "outlinewidth": 0,
             "ticks": ""
            },
            "type": "contourcarpet"
           }
          ],
          "heatmap": [
           {
            "colorbar": {
             "outlinewidth": 0,
             "ticks": ""
            },
            "colorscale": [
             [
              0,
              "#0d0887"
             ],
             [
              0.1111111111111111,
              "#46039f"
             ],
             [
              0.2222222222222222,
              "#7201a8"
             ],
             [
              0.3333333333333333,
              "#9c179e"
             ],
             [
              0.4444444444444444,
              "#bd3786"
             ],
             [
              0.5555555555555556,
              "#d8576b"
             ],
             [
              0.6666666666666666,
              "#ed7953"
             ],
             [
              0.7777777777777778,
              "#fb9f3a"
             ],
             [
              0.8888888888888888,
              "#fdca26"
             ],
             [
              1,
              "#f0f921"
             ]
            ],
            "type": "heatmap"
           }
          ],
          "heatmapgl": [
           {
            "colorbar": {
             "outlinewidth": 0,
             "ticks": ""
            },
            "colorscale": [
             [
              0,
              "#0d0887"
             ],
             [
              0.1111111111111111,
              "#46039f"
             ],
             [
              0.2222222222222222,
              "#7201a8"
             ],
             [
              0.3333333333333333,
              "#9c179e"
             ],
             [
              0.4444444444444444,
              "#bd3786"
             ],
             [
              0.5555555555555556,
              "#d8576b"
             ],
             [
              0.6666666666666666,
              "#ed7953"
             ],
             [
              0.7777777777777778,
              "#fb9f3a"
             ],
             [
              0.8888888888888888,
              "#fdca26"
             ],
             [
              1,
              "#f0f921"
             ]
            ],
            "type": "heatmapgl"
           }
          ],
          "histogram": [
           {
            "marker": {
             "pattern": {
              "fillmode": "overlay",
              "size": 10,
              "solidity": 0.2
             }
            },
            "type": "histogram"
           }
          ],
          "histogram2d": [
           {
            "colorbar": {
             "outlinewidth": 0,
             "ticks": ""
            },
            "colorscale": [
             [
              0,
              "#0d0887"
             ],
             [
              0.1111111111111111,
              "#46039f"
             ],
             [
              0.2222222222222222,
              "#7201a8"
             ],
             [
              0.3333333333333333,
              "#9c179e"
             ],
             [
              0.4444444444444444,
              "#bd3786"
             ],
             [
              0.5555555555555556,
              "#d8576b"
             ],
             [
              0.6666666666666666,
              "#ed7953"
             ],
             [
              0.7777777777777778,
              "#fb9f3a"
             ],
             [
              0.8888888888888888,
              "#fdca26"
             ],
             [
              1,
              "#f0f921"
             ]
            ],
            "type": "histogram2d"
           }
          ],
          "histogram2dcontour": [
           {
            "colorbar": {
             "outlinewidth": 0,
             "ticks": ""
            },
            "colorscale": [
             [
              0,
              "#0d0887"
             ],
             [
              0.1111111111111111,
              "#46039f"
             ],
             [
              0.2222222222222222,
              "#7201a8"
             ],
             [
              0.3333333333333333,
              "#9c179e"
             ],
             [
              0.4444444444444444,
              "#bd3786"
             ],
             [
              0.5555555555555556,
              "#d8576b"
             ],
             [
              0.6666666666666666,
              "#ed7953"
             ],
             [
              0.7777777777777778,
              "#fb9f3a"
             ],
             [
              0.8888888888888888,
              "#fdca26"
             ],
             [
              1,
              "#f0f921"
             ]
            ],
            "type": "histogram2dcontour"
           }
          ],
          "mesh3d": [
           {
            "colorbar": {
             "outlinewidth": 0,
             "ticks": ""
            },
            "type": "mesh3d"
           }
          ],
          "parcoords": [
           {
            "line": {
             "colorbar": {
              "outlinewidth": 0,
              "ticks": ""
             }
            },
            "type": "parcoords"
           }
          ],
          "pie": [
           {
            "automargin": true,
            "type": "pie"
           }
          ],
          "scatter": [
           {
            "fillpattern": {
             "fillmode": "overlay",
             "size": 10,
             "solidity": 0.2
            },
            "type": "scatter"
           }
          ],
          "scatter3d": [
           {
            "line": {
             "colorbar": {
              "outlinewidth": 0,
              "ticks": ""
             }
            },
            "marker": {
             "colorbar": {
              "outlinewidth": 0,
              "ticks": ""
             }
            },
            "type": "scatter3d"
           }
          ],
          "scattercarpet": [
           {
            "marker": {
             "colorbar": {
              "outlinewidth": 0,
              "ticks": ""
             }
            },
            "type": "scattercarpet"
           }
          ],
          "scattergeo": [
           {
            "marker": {
             "colorbar": {
              "outlinewidth": 0,
              "ticks": ""
             }
            },
            "type": "scattergeo"
           }
          ],
          "scattergl": [
           {
            "marker": {
             "colorbar": {
              "outlinewidth": 0,
              "ticks": ""
             }
            },
            "type": "scattergl"
           }
          ],
          "scattermapbox": [
           {
            "marker": {
             "colorbar": {
              "outlinewidth": 0,
              "ticks": ""
             }
            },
            "type": "scattermapbox"
           }
          ],
          "scatterpolar": [
           {
            "marker": {
             "colorbar": {
              "outlinewidth": 0,
              "ticks": ""
             }
            },
            "type": "scatterpolar"
           }
          ],
          "scatterpolargl": [
           {
            "marker": {
             "colorbar": {
              "outlinewidth": 0,
              "ticks": ""
             }
            },
            "type": "scatterpolargl"
           }
          ],
          "scatterternary": [
           {
            "marker": {
             "colorbar": {
              "outlinewidth": 0,
              "ticks": ""
             }
            },
            "type": "scatterternary"
           }
          ],
          "surface": [
           {
            "colorbar": {
             "outlinewidth": 0,
             "ticks": ""
            },
            "colorscale": [
             [
              0,
              "#0d0887"
             ],
             [
              0.1111111111111111,
              "#46039f"
             ],
             [
              0.2222222222222222,
              "#7201a8"
             ],
             [
              0.3333333333333333,
              "#9c179e"
             ],
             [
              0.4444444444444444,
              "#bd3786"
             ],
             [
              0.5555555555555556,
              "#d8576b"
             ],
             [
              0.6666666666666666,
              "#ed7953"
             ],
             [
              0.7777777777777778,
              "#fb9f3a"
             ],
             [
              0.8888888888888888,
              "#fdca26"
             ],
             [
              1,
              "#f0f921"
             ]
            ],
            "type": "surface"
           }
          ],
          "table": [
           {
            "cells": {
             "fill": {
              "color": "#EBF0F8"
             },
             "line": {
              "color": "white"
             }
            },
            "header": {
             "fill": {
              "color": "#C8D4E3"
             },
             "line": {
              "color": "white"
             }
            },
            "type": "table"
           }
          ]
         },
         "layout": {
          "annotationdefaults": {
           "arrowcolor": "#2a3f5f",
           "arrowhead": 0,
           "arrowwidth": 1
          },
          "autotypenumbers": "strict",
          "coloraxis": {
           "colorbar": {
            "outlinewidth": 0,
            "ticks": ""
           }
          },
          "colorscale": {
           "diverging": [
            [
             0,
             "#8e0152"
            ],
            [
             0.1,
             "#c51b7d"
            ],
            [
             0.2,
             "#de77ae"
            ],
            [
             0.3,
             "#f1b6da"
            ],
            [
             0.4,
             "#fde0ef"
            ],
            [
             0.5,
             "#f7f7f7"
            ],
            [
             0.6,
             "#e6f5d0"
            ],
            [
             0.7,
             "#b8e186"
            ],
            [
             0.8,
             "#7fbc41"
            ],
            [
             0.9,
             "#4d9221"
            ],
            [
             1,
             "#276419"
            ]
           ],
           "sequential": [
            [
             0,
             "#0d0887"
            ],
            [
             0.1111111111111111,
             "#46039f"
            ],
            [
             0.2222222222222222,
             "#7201a8"
            ],
            [
             0.3333333333333333,
             "#9c179e"
            ],
            [
             0.4444444444444444,
             "#bd3786"
            ],
            [
             0.5555555555555556,
             "#d8576b"
            ],
            [
             0.6666666666666666,
             "#ed7953"
            ],
            [
             0.7777777777777778,
             "#fb9f3a"
            ],
            [
             0.8888888888888888,
             "#fdca26"
            ],
            [
             1,
             "#f0f921"
            ]
           ],
           "sequentialminus": [
            [
             0,
             "#0d0887"
            ],
            [
             0.1111111111111111,
             "#46039f"
            ],
            [
             0.2222222222222222,
             "#7201a8"
            ],
            [
             0.3333333333333333,
             "#9c179e"
            ],
            [
             0.4444444444444444,
             "#bd3786"
            ],
            [
             0.5555555555555556,
             "#d8576b"
            ],
            [
             0.6666666666666666,
             "#ed7953"
            ],
            [
             0.7777777777777778,
             "#fb9f3a"
            ],
            [
             0.8888888888888888,
             "#fdca26"
            ],
            [
             1,
             "#f0f921"
            ]
           ]
          },
          "colorway": [
           "#636efa",
           "#EF553B",
           "#00cc96",
           "#ab63fa",
           "#FFA15A",
           "#19d3f3",
           "#FF6692",
           "#B6E880",
           "#FF97FF",
           "#FECB52"
          ],
          "font": {
           "color": "#2a3f5f"
          },
          "geo": {
           "bgcolor": "white",
           "lakecolor": "white",
           "landcolor": "#E5ECF6",
           "showlakes": true,
           "showland": true,
           "subunitcolor": "white"
          },
          "hoverlabel": {
           "align": "left"
          },
          "hovermode": "closest",
          "mapbox": {
           "style": "light"
          },
          "paper_bgcolor": "white",
          "plot_bgcolor": "#E5ECF6",
          "polar": {
           "angularaxis": {
            "gridcolor": "white",
            "linecolor": "white",
            "ticks": ""
           },
           "bgcolor": "#E5ECF6",
           "radialaxis": {
            "gridcolor": "white",
            "linecolor": "white",
            "ticks": ""
           }
          },
          "scene": {
           "xaxis": {
            "backgroundcolor": "#E5ECF6",
            "gridcolor": "white",
            "gridwidth": 2,
            "linecolor": "white",
            "showbackground": true,
            "ticks": "",
            "zerolinecolor": "white"
           },
           "yaxis": {
            "backgroundcolor": "#E5ECF6",
            "gridcolor": "white",
            "gridwidth": 2,
            "linecolor": "white",
            "showbackground": true,
            "ticks": "",
            "zerolinecolor": "white"
           },
           "zaxis": {
            "backgroundcolor": "#E5ECF6",
            "gridcolor": "white",
            "gridwidth": 2,
            "linecolor": "white",
            "showbackground": true,
            "ticks": "",
            "zerolinecolor": "white"
           }
          },
          "shapedefaults": {
           "line": {
            "color": "#2a3f5f"
           }
          },
          "ternary": {
           "aaxis": {
            "gridcolor": "white",
            "linecolor": "white",
            "ticks": ""
           },
           "baxis": {
            "gridcolor": "white",
            "linecolor": "white",
            "ticks": ""
           },
           "bgcolor": "#E5ECF6",
           "caxis": {
            "gridcolor": "white",
            "linecolor": "white",
            "ticks": ""
           }
          },
          "title": {
           "x": 0.05
          },
          "xaxis": {
           "automargin": true,
           "gridcolor": "white",
           "linecolor": "white",
           "ticks": "",
           "title": {
            "standoff": 15
           },
           "zerolinecolor": "white",
           "zerolinewidth": 2
          },
          "yaxis": {
           "automargin": true,
           "gridcolor": "white",
           "linecolor": "white",
           "ticks": "",
           "title": {
            "standoff": 15
           },
           "zerolinecolor": "white",
           "zerolinewidth": 2
          }
         }
        },
        "title": {
         "text": "Top 20 Disciplinas com situação"
        },
        "xaxis": {
         "anchor": "y",
         "domain": [
          0,
          1
         ],
         "title": {
          "text": "nome_disciplina"
         }
        },
        "yaxis": {
         "anchor": "x",
         "domain": [
          0,
          1
         ],
         "title": {
          "text": "value"
         }
        }
       }
      }
     },
     "metadata": {},
     "output_type": "display_data"
    }
   ],
   "source": [
    "situacao_disciplina_agg = situacao_disciplina.groupby([\"nome_disciplina\", \"situacao_disciplina\"]).size().reset_index(name=\"quantidade\")\n",
    "situacao_disciplina_pivot = situacao_disciplina_agg.pivot_table(index=\"nome_disciplina\", columns=\"situacao_disciplina\", values=\"quantidade\", fill_value=0)\n",
    "situacao_disciplina_pivot[\"total\"] = situacao_disciplina_pivot.sum(axis=1)\n",
    "situacao_disciplina_sorted = situacao_disciplina_pivot.sort_values(\"total\", ascending=False)\n",
    "\n",
    "top_20 = situacao_disciplina_sorted.head(30)\n",
    "\n",
    "fig = px.bar(\n",
    "    top_20,\n",
    "    x=top_20.index,\n",
    "    y=[\"Aprovado\", \"Reprovado\"],\n",
    "    title=\"Top 20 Disciplinas com situação\",\n",
    ")\n",
    "fig.show()\n"
   ]
  },
  {
   "cell_type": "code",
   "execution_count": 32,
   "metadata": {},
   "outputs": [],
   "source": [
    "situacao_disciplina = situacao_disciplina[(situacao_disciplina['periodo'].str.contains('/1')) | (situacao_disciplina['periodo'].str.contains('/2'))]"
   ]
  },
  {
   "cell_type": "code",
   "execution_count": 33,
   "metadata": {},
   "outputs": [],
   "source": [
    "situacao_disciplina_periodo = situacao_disciplina.groupby(['periodo', 'situacao_disciplina']).size().reset_index(name='quantidade')"
   ]
  },
  {
   "cell_type": "code",
   "execution_count": 34,
   "metadata": {},
   "outputs": [
    {
     "data": {
      "text/html": [
       "<div>\n",
       "<style scoped>\n",
       "    .dataframe tbody tr th:only-of-type {\n",
       "        vertical-align: middle;\n",
       "    }\n",
       "\n",
       "    .dataframe tbody tr th {\n",
       "        vertical-align: top;\n",
       "    }\n",
       "\n",
       "    .dataframe thead th {\n",
       "        text-align: right;\n",
       "    }\n",
       "</style>\n",
       "<table border=\"1\" class=\"dataframe\">\n",
       "  <thead>\n",
       "    <tr style=\"text-align: right;\">\n",
       "      <th></th>\n",
       "      <th>periodo</th>\n",
       "      <th>situacao_disciplina</th>\n",
       "      <th>quantidade</th>\n",
       "    </tr>\n",
       "  </thead>\n",
       "  <tbody>\n",
       "    <tr>\n",
       "      <th>0</th>\n",
       "      <td>2000/1</td>\n",
       "      <td>Aprovado</td>\n",
       "      <td>261</td>\n",
       "    </tr>\n",
       "    <tr>\n",
       "      <th>1</th>\n",
       "      <td>2000/1</td>\n",
       "      <td>Reprovado</td>\n",
       "      <td>64</td>\n",
       "    </tr>\n",
       "    <tr>\n",
       "      <th>2</th>\n",
       "      <td>2000/2</td>\n",
       "      <td>Aprovado</td>\n",
       "      <td>449</td>\n",
       "    </tr>\n",
       "    <tr>\n",
       "      <th>3</th>\n",
       "      <td>2000/2</td>\n",
       "      <td>Reprovado</td>\n",
       "      <td>130</td>\n",
       "    </tr>\n",
       "    <tr>\n",
       "      <th>4</th>\n",
       "      <td>2001/1</td>\n",
       "      <td>Aprovado</td>\n",
       "      <td>561</td>\n",
       "    </tr>\n",
       "    <tr>\n",
       "      <th>...</th>\n",
       "      <td>...</td>\n",
       "      <td>...</td>\n",
       "      <td>...</td>\n",
       "    </tr>\n",
       "    <tr>\n",
       "      <th>82</th>\n",
       "      <td>2020/2</td>\n",
       "      <td>Aprovado</td>\n",
       "      <td>1416</td>\n",
       "    </tr>\n",
       "    <tr>\n",
       "      <th>83</th>\n",
       "      <td>2020/2</td>\n",
       "      <td>Reprovado</td>\n",
       "      <td>150</td>\n",
       "    </tr>\n",
       "    <tr>\n",
       "      <th>84</th>\n",
       "      <td>2021/1</td>\n",
       "      <td>Aprovado</td>\n",
       "      <td>1547</td>\n",
       "    </tr>\n",
       "    <tr>\n",
       "      <th>85</th>\n",
       "      <td>2021/1</td>\n",
       "      <td>Reprovado</td>\n",
       "      <td>233</td>\n",
       "    </tr>\n",
       "    <tr>\n",
       "      <th>86</th>\n",
       "      <td>2021/2</td>\n",
       "      <td>Aprovado</td>\n",
       "      <td>2</td>\n",
       "    </tr>\n",
       "  </tbody>\n",
       "</table>\n",
       "<p>87 rows × 3 columns</p>\n",
       "</div>"
      ],
      "text/plain": [
       "   periodo situacao_disciplina  quantidade\n",
       "0   2000/1            Aprovado         261\n",
       "1   2000/1           Reprovado          64\n",
       "2   2000/2            Aprovado         449\n",
       "3   2000/2           Reprovado         130\n",
       "4   2001/1            Aprovado         561\n",
       "..     ...                 ...         ...\n",
       "82  2020/2            Aprovado        1416\n",
       "83  2020/2           Reprovado         150\n",
       "84  2021/1            Aprovado        1547\n",
       "85  2021/1           Reprovado         233\n",
       "86  2021/2            Aprovado           2\n",
       "\n",
       "[87 rows x 3 columns]"
      ]
     },
     "execution_count": 34,
     "metadata": {},
     "output_type": "execute_result"
    }
   ],
   "source": [
    "situacao_disciplina_periodo"
   ]
  },
  {
   "cell_type": "code",
   "execution_count": 35,
   "metadata": {},
   "outputs": [],
   "source": [
    "teste = situacao_disciplina_periodo[\n",
    "        situacao_disciplina_periodo[\"situacao_disciplina\"] == \"Reprovado\"\n",
    "    ][\"quantidade\"].tolist()"
   ]
  },
  {
   "cell_type": "code",
   "execution_count": 36,
   "metadata": {},
   "outputs": [
    {
     "data": {
      "application/vnd.plotly.v1+json": {
       "config": {
        "plotlyServerURL": "https://plot.ly"
       },
       "data": [
        {
         "hovertemplate": "situacao_disciplina=Aprovado<br>periodo=%{x}<br>quantidade=%{y}<extra></extra>",
         "legendgroup": "Aprovado",
         "line": {
          "color": "#636efa",
          "dash": "solid"
         },
         "marker": {
          "symbol": "circle"
         },
         "mode": "lines",
         "name": "Aprovado",
         "orientation": "v",
         "showlegend": true,
         "type": "scatter",
         "x": [
          "2000/1",
          "2000/2",
          "2001/1",
          "2001/2",
          "2002/1",
          "2002/2",
          "2003/1",
          "2003/2",
          "2004/1",
          "2004/2",
          "2005/1",
          "2005/2",
          "2006/1",
          "2006/2",
          "2007/1",
          "2007/2",
          "2008/1",
          "2008/2",
          "2009/1",
          "2009/2",
          "2010/1",
          "2010/2",
          "2011/1",
          "2011/2",
          "2012/1",
          "2012/2",
          "2013/1",
          "2013/2",
          "2014/1",
          "2014/2",
          "2015/1",
          "2015/2",
          "2016/1",
          "2016/2",
          "2017/1",
          "2017/2",
          "2018/1",
          "2018/2",
          "2019/1",
          "2019/2",
          "2020/1",
          "2020/2",
          "2021/1",
          "2021/2"
         ],
         "xaxis": "x",
         "y": [
          261,
          449,
          561,
          738,
          982,
          1166,
          1442,
          1672,
          1786,
          1864,
          1907,
          1918,
          1948,
          1892,
          2025,
          1914,
          1917,
          1811,
          1881,
          1724,
          1778,
          1613,
          1613,
          1633,
          1690,
          1406,
          1419,
          1417,
          1331,
          1267,
          1348,
          1315,
          1357,
          1287,
          1478,
          1317,
          1392,
          1363,
          1455,
          1374,
          2095,
          1416,
          1547,
          2
         ],
         "yaxis": "y"
        },
        {
         "hovertemplate": "situacao_disciplina=Reprovado<br>periodo=%{x}<br>quantidade=%{y}<extra></extra>",
         "legendgroup": "Reprovado",
         "line": {
          "color": "#EF553B",
          "dash": "solid"
         },
         "marker": {
          "symbol": "circle"
         },
         "mode": "lines",
         "name": "Reprovado",
         "orientation": "v",
         "showlegend": true,
         "type": "scatter",
         "x": [
          "2000/1",
          "2000/2",
          "2001/1",
          "2001/2",
          "2002/1",
          "2002/2",
          "2003/1",
          "2003/2",
          "2004/1",
          "2004/2",
          "2005/1",
          "2005/2",
          "2006/1",
          "2006/2",
          "2007/1",
          "2007/2",
          "2008/1",
          "2008/2",
          "2009/1",
          "2009/2",
          "2010/1",
          "2010/2",
          "2011/1",
          "2011/2",
          "2012/1",
          "2012/2",
          "2013/1",
          "2013/2",
          "2014/1",
          "2014/2",
          "2015/1",
          "2015/2",
          "2016/1",
          "2016/2",
          "2017/1",
          "2017/2",
          "2018/1",
          "2018/2",
          "2019/1",
          "2019/2",
          "2020/1",
          "2020/2",
          "2021/1"
         ],
         "xaxis": "x",
         "y": [
          64,
          130,
          332,
          184,
          205,
          337,
          324,
          335,
          446,
          500,
          576,
          701,
          685,
          735,
          753,
          927,
          777,
          804,
          664,
          729,
          540,
          620,
          618,
          663,
          264,
          681,
          631,
          692,
          672,
          649,
          159,
          585,
          552,
          160,
          588,
          707,
          584,
          505,
          542,
          614,
          132,
          150,
          233
         ],
         "yaxis": "y"
        }
       ],
       "layout": {
        "legend": {
         "title": {
          "text": "situacao_disciplina"
         },
         "tracegroupgap": 0
        },
        "template": {
         "data": {
          "bar": [
           {
            "error_x": {
             "color": "#2a3f5f"
            },
            "error_y": {
             "color": "#2a3f5f"
            },
            "marker": {
             "line": {
              "color": "#E5ECF6",
              "width": 0.5
             },
             "pattern": {
              "fillmode": "overlay",
              "size": 10,
              "solidity": 0.2
             }
            },
            "type": "bar"
           }
          ],
          "barpolar": [
           {
            "marker": {
             "line": {
              "color": "#E5ECF6",
              "width": 0.5
             },
             "pattern": {
              "fillmode": "overlay",
              "size": 10,
              "solidity": 0.2
             }
            },
            "type": "barpolar"
           }
          ],
          "carpet": [
           {
            "aaxis": {
             "endlinecolor": "#2a3f5f",
             "gridcolor": "white",
             "linecolor": "white",
             "minorgridcolor": "white",
             "startlinecolor": "#2a3f5f"
            },
            "baxis": {
             "endlinecolor": "#2a3f5f",
             "gridcolor": "white",
             "linecolor": "white",
             "minorgridcolor": "white",
             "startlinecolor": "#2a3f5f"
            },
            "type": "carpet"
           }
          ],
          "choropleth": [
           {
            "colorbar": {
             "outlinewidth": 0,
             "ticks": ""
            },
            "type": "choropleth"
           }
          ],
          "contour": [
           {
            "colorbar": {
             "outlinewidth": 0,
             "ticks": ""
            },
            "colorscale": [
             [
              0,
              "#0d0887"
             ],
             [
              0.1111111111111111,
              "#46039f"
             ],
             [
              0.2222222222222222,
              "#7201a8"
             ],
             [
              0.3333333333333333,
              "#9c179e"
             ],
             [
              0.4444444444444444,
              "#bd3786"
             ],
             [
              0.5555555555555556,
              "#d8576b"
             ],
             [
              0.6666666666666666,
              "#ed7953"
             ],
             [
              0.7777777777777778,
              "#fb9f3a"
             ],
             [
              0.8888888888888888,
              "#fdca26"
             ],
             [
              1,
              "#f0f921"
             ]
            ],
            "type": "contour"
           }
          ],
          "contourcarpet": [
           {
            "colorbar": {
             "outlinewidth": 0,
             "ticks": ""
            },
            "type": "contourcarpet"
           }
          ],
          "heatmap": [
           {
            "colorbar": {
             "outlinewidth": 0,
             "ticks": ""
            },
            "colorscale": [
             [
              0,
              "#0d0887"
             ],
             [
              0.1111111111111111,
              "#46039f"
             ],
             [
              0.2222222222222222,
              "#7201a8"
             ],
             [
              0.3333333333333333,
              "#9c179e"
             ],
             [
              0.4444444444444444,
              "#bd3786"
             ],
             [
              0.5555555555555556,
              "#d8576b"
             ],
             [
              0.6666666666666666,
              "#ed7953"
             ],
             [
              0.7777777777777778,
              "#fb9f3a"
             ],
             [
              0.8888888888888888,
              "#fdca26"
             ],
             [
              1,
              "#f0f921"
             ]
            ],
            "type": "heatmap"
           }
          ],
          "heatmapgl": [
           {
            "colorbar": {
             "outlinewidth": 0,
             "ticks": ""
            },
            "colorscale": [
             [
              0,
              "#0d0887"
             ],
             [
              0.1111111111111111,
              "#46039f"
             ],
             [
              0.2222222222222222,
              "#7201a8"
             ],
             [
              0.3333333333333333,
              "#9c179e"
             ],
             [
              0.4444444444444444,
              "#bd3786"
             ],
             [
              0.5555555555555556,
              "#d8576b"
             ],
             [
              0.6666666666666666,
              "#ed7953"
             ],
             [
              0.7777777777777778,
              "#fb9f3a"
             ],
             [
              0.8888888888888888,
              "#fdca26"
             ],
             [
              1,
              "#f0f921"
             ]
            ],
            "type": "heatmapgl"
           }
          ],
          "histogram": [
           {
            "marker": {
             "pattern": {
              "fillmode": "overlay",
              "size": 10,
              "solidity": 0.2
             }
            },
            "type": "histogram"
           }
          ],
          "histogram2d": [
           {
            "colorbar": {
             "outlinewidth": 0,
             "ticks": ""
            },
            "colorscale": [
             [
              0,
              "#0d0887"
             ],
             [
              0.1111111111111111,
              "#46039f"
             ],
             [
              0.2222222222222222,
              "#7201a8"
             ],
             [
              0.3333333333333333,
              "#9c179e"
             ],
             [
              0.4444444444444444,
              "#bd3786"
             ],
             [
              0.5555555555555556,
              "#d8576b"
             ],
             [
              0.6666666666666666,
              "#ed7953"
             ],
             [
              0.7777777777777778,
              "#fb9f3a"
             ],
             [
              0.8888888888888888,
              "#fdca26"
             ],
             [
              1,
              "#f0f921"
             ]
            ],
            "type": "histogram2d"
           }
          ],
          "histogram2dcontour": [
           {
            "colorbar": {
             "outlinewidth": 0,
             "ticks": ""
            },
            "colorscale": [
             [
              0,
              "#0d0887"
             ],
             [
              0.1111111111111111,
              "#46039f"
             ],
             [
              0.2222222222222222,
              "#7201a8"
             ],
             [
              0.3333333333333333,
              "#9c179e"
             ],
             [
              0.4444444444444444,
              "#bd3786"
             ],
             [
              0.5555555555555556,
              "#d8576b"
             ],
             [
              0.6666666666666666,
              "#ed7953"
             ],
             [
              0.7777777777777778,
              "#fb9f3a"
             ],
             [
              0.8888888888888888,
              "#fdca26"
             ],
             [
              1,
              "#f0f921"
             ]
            ],
            "type": "histogram2dcontour"
           }
          ],
          "mesh3d": [
           {
            "colorbar": {
             "outlinewidth": 0,
             "ticks": ""
            },
            "type": "mesh3d"
           }
          ],
          "parcoords": [
           {
            "line": {
             "colorbar": {
              "outlinewidth": 0,
              "ticks": ""
             }
            },
            "type": "parcoords"
           }
          ],
          "pie": [
           {
            "automargin": true,
            "type": "pie"
           }
          ],
          "scatter": [
           {
            "fillpattern": {
             "fillmode": "overlay",
             "size": 10,
             "solidity": 0.2
            },
            "type": "scatter"
           }
          ],
          "scatter3d": [
           {
            "line": {
             "colorbar": {
              "outlinewidth": 0,
              "ticks": ""
             }
            },
            "marker": {
             "colorbar": {
              "outlinewidth": 0,
              "ticks": ""
             }
            },
            "type": "scatter3d"
           }
          ],
          "scattercarpet": [
           {
            "marker": {
             "colorbar": {
              "outlinewidth": 0,
              "ticks": ""
             }
            },
            "type": "scattercarpet"
           }
          ],
          "scattergeo": [
           {
            "marker": {
             "colorbar": {
              "outlinewidth": 0,
              "ticks": ""
             }
            },
            "type": "scattergeo"
           }
          ],
          "scattergl": [
           {
            "marker": {
             "colorbar": {
              "outlinewidth": 0,
              "ticks": ""
             }
            },
            "type": "scattergl"
           }
          ],
          "scattermapbox": [
           {
            "marker": {
             "colorbar": {
              "outlinewidth": 0,
              "ticks": ""
             }
            },
            "type": "scattermapbox"
           }
          ],
          "scatterpolar": [
           {
            "marker": {
             "colorbar": {
              "outlinewidth": 0,
              "ticks": ""
             }
            },
            "type": "scatterpolar"
           }
          ],
          "scatterpolargl": [
           {
            "marker": {
             "colorbar": {
              "outlinewidth": 0,
              "ticks": ""
             }
            },
            "type": "scatterpolargl"
           }
          ],
          "scatterternary": [
           {
            "marker": {
             "colorbar": {
              "outlinewidth": 0,
              "ticks": ""
             }
            },
            "type": "scatterternary"
           }
          ],
          "surface": [
           {
            "colorbar": {
             "outlinewidth": 0,
             "ticks": ""
            },
            "colorscale": [
             [
              0,
              "#0d0887"
             ],
             [
              0.1111111111111111,
              "#46039f"
             ],
             [
              0.2222222222222222,
              "#7201a8"
             ],
             [
              0.3333333333333333,
              "#9c179e"
             ],
             [
              0.4444444444444444,
              "#bd3786"
             ],
             [
              0.5555555555555556,
              "#d8576b"
             ],
             [
              0.6666666666666666,
              "#ed7953"
             ],
             [
              0.7777777777777778,
              "#fb9f3a"
             ],
             [
              0.8888888888888888,
              "#fdca26"
             ],
             [
              1,
              "#f0f921"
             ]
            ],
            "type": "surface"
           }
          ],
          "table": [
           {
            "cells": {
             "fill": {
              "color": "#EBF0F8"
             },
             "line": {
              "color": "white"
             }
            },
            "header": {
             "fill": {
              "color": "#C8D4E3"
             },
             "line": {
              "color": "white"
             }
            },
            "type": "table"
           }
          ]
         },
         "layout": {
          "annotationdefaults": {
           "arrowcolor": "#2a3f5f",
           "arrowhead": 0,
           "arrowwidth": 1
          },
          "autotypenumbers": "strict",
          "coloraxis": {
           "colorbar": {
            "outlinewidth": 0,
            "ticks": ""
           }
          },
          "colorscale": {
           "diverging": [
            [
             0,
             "#8e0152"
            ],
            [
             0.1,
             "#c51b7d"
            ],
            [
             0.2,
             "#de77ae"
            ],
            [
             0.3,
             "#f1b6da"
            ],
            [
             0.4,
             "#fde0ef"
            ],
            [
             0.5,
             "#f7f7f7"
            ],
            [
             0.6,
             "#e6f5d0"
            ],
            [
             0.7,
             "#b8e186"
            ],
            [
             0.8,
             "#7fbc41"
            ],
            [
             0.9,
             "#4d9221"
            ],
            [
             1,
             "#276419"
            ]
           ],
           "sequential": [
            [
             0,
             "#0d0887"
            ],
            [
             0.1111111111111111,
             "#46039f"
            ],
            [
             0.2222222222222222,
             "#7201a8"
            ],
            [
             0.3333333333333333,
             "#9c179e"
            ],
            [
             0.4444444444444444,
             "#bd3786"
            ],
            [
             0.5555555555555556,
             "#d8576b"
            ],
            [
             0.6666666666666666,
             "#ed7953"
            ],
            [
             0.7777777777777778,
             "#fb9f3a"
            ],
            [
             0.8888888888888888,
             "#fdca26"
            ],
            [
             1,
             "#f0f921"
            ]
           ],
           "sequentialminus": [
            [
             0,
             "#0d0887"
            ],
            [
             0.1111111111111111,
             "#46039f"
            ],
            [
             0.2222222222222222,
             "#7201a8"
            ],
            [
             0.3333333333333333,
             "#9c179e"
            ],
            [
             0.4444444444444444,
             "#bd3786"
            ],
            [
             0.5555555555555556,
             "#d8576b"
            ],
            [
             0.6666666666666666,
             "#ed7953"
            ],
            [
             0.7777777777777778,
             "#fb9f3a"
            ],
            [
             0.8888888888888888,
             "#fdca26"
            ],
            [
             1,
             "#f0f921"
            ]
           ]
          },
          "colorway": [
           "#636efa",
           "#EF553B",
           "#00cc96",
           "#ab63fa",
           "#FFA15A",
           "#19d3f3",
           "#FF6692",
           "#B6E880",
           "#FF97FF",
           "#FECB52"
          ],
          "font": {
           "color": "#2a3f5f"
          },
          "geo": {
           "bgcolor": "white",
           "lakecolor": "white",
           "landcolor": "#E5ECF6",
           "showlakes": true,
           "showland": true,
           "subunitcolor": "white"
          },
          "hoverlabel": {
           "align": "left"
          },
          "hovermode": "closest",
          "mapbox": {
           "style": "light"
          },
          "paper_bgcolor": "white",
          "plot_bgcolor": "#E5ECF6",
          "polar": {
           "angularaxis": {
            "gridcolor": "white",
            "linecolor": "white",
            "ticks": ""
           },
           "bgcolor": "#E5ECF6",
           "radialaxis": {
            "gridcolor": "white",
            "linecolor": "white",
            "ticks": ""
           }
          },
          "scene": {
           "xaxis": {
            "backgroundcolor": "#E5ECF6",
            "gridcolor": "white",
            "gridwidth": 2,
            "linecolor": "white",
            "showbackground": true,
            "ticks": "",
            "zerolinecolor": "white"
           },
           "yaxis": {
            "backgroundcolor": "#E5ECF6",
            "gridcolor": "white",
            "gridwidth": 2,
            "linecolor": "white",
            "showbackground": true,
            "ticks": "",
            "zerolinecolor": "white"
           },
           "zaxis": {
            "backgroundcolor": "#E5ECF6",
            "gridcolor": "white",
            "gridwidth": 2,
            "linecolor": "white",
            "showbackground": true,
            "ticks": "",
            "zerolinecolor": "white"
           }
          },
          "shapedefaults": {
           "line": {
            "color": "#2a3f5f"
           }
          },
          "ternary": {
           "aaxis": {
            "gridcolor": "white",
            "linecolor": "white",
            "ticks": ""
           },
           "baxis": {
            "gridcolor": "white",
            "linecolor": "white",
            "ticks": ""
           },
           "bgcolor": "#E5ECF6",
           "caxis": {
            "gridcolor": "white",
            "linecolor": "white",
            "ticks": ""
           }
          },
          "title": {
           "x": 0.05
          },
          "xaxis": {
           "automargin": true,
           "gridcolor": "white",
           "linecolor": "white",
           "ticks": "",
           "title": {
            "standoff": 15
           },
           "zerolinecolor": "white",
           "zerolinewidth": 2
          },
          "yaxis": {
           "automargin": true,
           "gridcolor": "white",
           "linecolor": "white",
           "ticks": "",
           "title": {
            "standoff": 15
           },
           "zerolinecolor": "white",
           "zerolinewidth": 2
          }
         }
        },
        "title": {
         "text": "Reprovações e Aprovações por Periodo"
        },
        "xaxis": {
         "anchor": "y",
         "domain": [
          0,
          1
         ],
         "title": {
          "text": "periodo"
         }
        },
        "yaxis": {
         "anchor": "x",
         "domain": [
          0,
          1
         ],
         "title": {
          "text": "quantidade"
         }
        }
       }
      }
     },
     "metadata": {},
     "output_type": "display_data"
    }
   ],
   "source": [
    "situacao_disciplina_periodo\n",
    "\n",
    "fig = px.line(\n",
    "    situacao_disciplina_periodo,\n",
    "    x='periodo',\n",
    "    y='quantidade',\n",
    "    title=\"Reprovações e Aprovações por Periodo\",\n",
    "    color='situacao_disciplina'\n",
    ")\n",
    "fig.show()"
   ]
  },
  {
   "cell_type": "code",
   "execution_count": 154,
   "metadata": {},
   "outputs": [
    {
     "data": {
      "text/plain": [
       "5.269862114248195"
      ]
     },
     "execution_count": 154,
     "metadata": {},
     "output_type": "execute_result"
    }
   ],
   "source": [
    "situacao_disciplina[situacao_disciplina['nome_disciplina']== 'Números Inteiros Criptografia']['grau_disciplina'].mean()"
   ]
  },
  {
   "cell_type": "code",
   "execution_count": 153,
   "metadata": {},
   "outputs": [
    {
     "data": {
      "text/plain": [
       "5.8"
      ]
     },
     "execution_count": 153,
     "metadata": {},
     "output_type": "execute_result"
    }
   ],
   "source": [
    "situacao_disciplina[situacao_disciplina['nome_disciplina']== 'Números Inteiros Criptografia']['grau_disciplina'].median()"
   ]
  },
  {
   "cell_type": "code",
   "execution_count": 155,
   "metadata": {},
   "outputs": [],
   "source": [
    "teste = situacao_disciplina[situacao_disciplina['nome_disciplina']== 'Números Inteiros Criptografia']"
   ]
  },
  {
   "cell_type": "code",
   "execution_count": 156,
   "metadata": {},
   "outputs": [
    {
     "data": {
      "application/vnd.plotly.v1+json": {
       "config": {
        "plotlyServerURL": "https://plot.ly"
       },
       "data": [
        {
         "alignmentgroup": "True",
         "bingroup": "x",
         "hovertemplate": "grau_disciplina=%{x}<br>count=%{y}<extra></extra>",
         "legendgroup": "",
         "marker": {
          "color": "#636efa",
          "pattern": {
           "shape": ""
          }
         },
         "name": "",
         "nbinsx": 20,
         "offsetgroup": "",
         "orientation": "v",
         "showlegend": false,
         "type": "histogram",
         "x": [
          9.4,
          8.8,
          9.4,
          7.4,
          8.8,
          7.7,
          10,
          8.3,
          10,
          7.6,
          7.7,
          7.6,
          8.9,
          9.3,
          7.9,
          5.5,
          8,
          6.2,
          10,
          9,
          10,
          10,
          5.9,
          0,
          0,
          3,
          8.8,
          5.4,
          6.7,
          7,
          3.7,
          5,
          7.8,
          7.5,
          6,
          5.4,
          7.2,
          7.5,
          8,
          8.7,
          0,
          10,
          7.4,
          8.4,
          7.3,
          8.6,
          7.5,
          5.5,
          7,
          7.7,
          7.5,
          8.4,
          8.6,
          5.8,
          5.7,
          9.7,
          6.3,
          7.2,
          9.4,
          6.4,
          8.3,
          7.1,
          8.8,
          8.7,
          6.9,
          7.7,
          0,
          5.4,
          5.3,
          8.5,
          9.8,
          0,
          0.7,
          0,
          8.6,
          2.7,
          9.9,
          9.4,
          3.7,
          5.1,
          9.3,
          5.9,
          7.9,
          8.1,
          5.2,
          4.7,
          5,
          8.4,
          6.5,
          7.6,
          7.2,
          6.1,
          0,
          6.6,
          0,
          9.1,
          8.9,
          5.9,
          6.3,
          7.2,
          6.7,
          7.4,
          5.8,
          5.8,
          0,
          9.7,
          6.7,
          9.8,
          9.9,
          7.6,
          7.3,
          0,
          3.5,
          9.9,
          5.2,
          5.5,
          6.8,
          8.5,
          6,
          7.9,
          0,
          6.7,
          7.7,
          7.9,
          5.5,
          9.4,
          10,
          5.1,
          0,
          3,
          4.4,
          5.6,
          5,
          5.6,
          1,
          5,
          0,
          9.2,
          3.9,
          0,
          0,
          0,
          8.7,
          9.7,
          0,
          7.5,
          8.7,
          7.2,
          7.2,
          4.2,
          4.5,
          6.1,
          6.2,
          0,
          5,
          0.8,
          8.9,
          6.2,
          5.3,
          3.6,
          5.4,
          7,
          5.3,
          2.5,
          0,
          1.3,
          5.3,
          5.2,
          7.6,
          5.4,
          3.6,
          7.3,
          3.6,
          8.6,
          5.5,
          2.8,
          7.3,
          7,
          7.4,
          1.3,
          1.3,
          7.1,
          0,
          5.3,
          2.2,
          7.4,
          8.5,
          9.8,
          7.8,
          9.5,
          0,
          5.9,
          3.7,
          6.5,
          9.1,
          7.4,
          5.8,
          8.8,
          5.2,
          5,
          9,
          9.1,
          4.4,
          1.9,
          6,
          7.8,
          6.7,
          6.2,
          7,
          0.5,
          6.6,
          7.1,
          5.9,
          7.1,
          5.5,
          7.1,
          7.4,
          5,
          7.3,
          5,
          7.2,
          10,
          5.9,
          7.4,
          3.8,
          7.9,
          6.5,
          7.9,
          1.3,
          2.5,
          7.8,
          6,
          7.5,
          6.2,
          6.2,
          9.5,
          5,
          8.3,
          6.1,
          9.5,
          9.2,
          0,
          8.2,
          6.7,
          7.5,
          0,
          3.8,
          7.4,
          8.3,
          8.9,
          9.1,
          5.4,
          7.3,
          0,
          9,
          8,
          2.7,
          5.3,
          8.6,
          5.5,
          7.5,
          9.4,
          5.8,
          7.2,
          7.6,
          10,
          7.3,
          6.7,
          7.5,
          9,
          6.4,
          9,
          7.5,
          5.4,
          7.1,
          9,
          8.2,
          8,
          8.7,
          7.7,
          5.8,
          8.3,
          6.3,
          9.2,
          8.5,
          2.3,
          7.7,
          8.2,
          8.7,
          6.5,
          10,
          9.8,
          9.8,
          6.5,
          8.2,
          8.3,
          5.4,
          6.8,
          8.7,
          7.8,
          5,
          6.2,
          5,
          6.5,
          7.4,
          6.2,
          7.5,
          0,
          5.7,
          0,
          5.6,
          8,
          6.2,
          4.4,
          7.3,
          7.1,
          7,
          7.5,
          7,
          8.4,
          5.8,
          7.7,
          5.5,
          2.2,
          8.5,
          4.7,
          8.8,
          7,
          7,
          4.1,
          0,
          0.5,
          2.4,
          2.3,
          9.7,
          7,
          5.9,
          7.4,
          7.7,
          7.9,
          0,
          8.3,
          2.6,
          7,
          5.5,
          8.3,
          5.7,
          8,
          8.6,
          8.6,
          4.1,
          7.1,
          8.6,
          8,
          7.9,
          9.3,
          7.7,
          5.1,
          8,
          6.3,
          8.3,
          7.3,
          7,
          8,
          0,
          4.4,
          2.2,
          6,
          1.7,
          5.2,
          9,
          7.2,
          8.8,
          9.7,
          2.4,
          7.2,
          10,
          8.6,
          8.7,
          7.9,
          9.4,
          8.7,
          7,
          9.2,
          2.8,
          8,
          7.7,
          7.3,
          9.4,
          4.1,
          8.6,
          3,
          0,
          5.8,
          5.1,
          7.2,
          7.6,
          1,
          1.1,
          3.7,
          2.5,
          0,
          7,
          7.5,
          3.7,
          4.5,
          5,
          7,
          7.5,
          7.6,
          7.3,
          6.3,
          8.8,
          8.7,
          4.6,
          7.4,
          4.8,
          7.4,
          7,
          7.8,
          5.4,
          2.1,
          9.8,
          6.3,
          7.9,
          4.4,
          7.1,
          3.9,
          2.2,
          8.8,
          4.7,
          9.9,
          8.3,
          3.2,
          5.4,
          2.8,
          8.3,
          8.6,
          0,
          9.2,
          5.4,
          3.8,
          7.1,
          3.5,
          6.3,
          7.5,
          5,
          9.2,
          7.1,
          3.3,
          4.6,
          5.9,
          7.9,
          9.8,
          7.9,
          5.8,
          5.1,
          2.5,
          4.4,
          4.1,
          0,
          0,
          6.1,
          4.5,
          5,
          6,
          0,
          0,
          5.6,
          0,
          6.1,
          0,
          0,
          3.3,
          5.8,
          4.1,
          6.4,
          3.1,
          5,
          5.1,
          6.4,
          5.3,
          6.6,
          8.1,
          5,
          6,
          6.2,
          5.9,
          6,
          1.4,
          5.7,
          0,
          7.5,
          5.1,
          5.9,
          6.6,
          6.3,
          5.8,
          7.4,
          5,
          7.9,
          3.3,
          0,
          4.5,
          5.3,
          1.1,
          5.4,
          1,
          7.6,
          5.5,
          3.8,
          5.1,
          4.4,
          3.3,
          5.4,
          8,
          5.3,
          8.8,
          4,
          5.1,
          5.7,
          8.8,
          4,
          3.9,
          0,
          5.3,
          0,
          6.4,
          8.7,
          7.3,
          2,
          6,
          7,
          2.5,
          2.7,
          0,
          6.5,
          1.8,
          5,
          5,
          6.9,
          5.3,
          5.6,
          5,
          0.8,
          0,
          0,
          8,
          6.7,
          7.5,
          0,
          5.3,
          2,
          8.2,
          5,
          5.5,
          9,
          6.7,
          6.2,
          0,
          0.7,
          1,
          1.5,
          3.5,
          0,
          7.5,
          6.5,
          0,
          1.2,
          6.8,
          7.2,
          0,
          8.3,
          6.2,
          5,
          3.7,
          9.7,
          9,
          7.7,
          6,
          9.8,
          8.2,
          5,
          5.5,
          7.2,
          5.8,
          1.8,
          7.7,
          5.4,
          0,
          6.5,
          8,
          6.3,
          6.2,
          3.3,
          7.2,
          7.3,
          7.2,
          5.8,
          2.5,
          6.8,
          4.4,
          4,
          7.5,
          7.8,
          6.2,
          6,
          1.8,
          6.7,
          7.2,
          7.2,
          5.9,
          0,
          8.8,
          5,
          8.5,
          7.2,
          5,
          7.8,
          7,
          9.5,
          1.5,
          0.8,
          5,
          9.7,
          5.3,
          7.5,
          5.8,
          0,
          6.9,
          0,
          0,
          1,
          6.2,
          8.3,
          5.1,
          0,
          6.1,
          6.2,
          2.1,
          0,
          2.6,
          5,
          4.3,
          5.7,
          5.4,
          5.7,
          5,
          5,
          6.8,
          0,
          4.7,
          4.6,
          3.5,
          7.5,
          7.9,
          7.7,
          9.4,
          5.3,
          8.3,
          4.1,
          6.6,
          8.3,
          0,
          7.8,
          7.5,
          7.8,
          0,
          7.7,
          6.3,
          6.5,
          0,
          8.2,
          0.3,
          0,
          9.5,
          9.7,
          8.5,
          3.1,
          9,
          8,
          0.8,
          7.9,
          9.2,
          4.8,
          8.4,
          5.7,
          8.3,
          5.5,
          8.9,
          5.9,
          4.5,
          7.1,
          5.9,
          9,
          8.9,
          8.9,
          8.2,
          6.9,
          9.1,
          8.6,
          0,
          0,
          0,
          1.2,
          8.7,
          8.6,
          9.4,
          6,
          0,
          0,
          0,
          5.8,
          8.4,
          0,
          1.5,
          6,
          3.3,
          7.9,
          4,
          8.2,
          7.6,
          0,
          7,
          7.1,
          0,
          8.9,
          8.4,
          6.7,
          9.1,
          7,
          7.8,
          8.6,
          7,
          7.6,
          8.7,
          0,
          7.5,
          9.8,
          6.8,
          2.5,
          6.5,
          9.3,
          8,
          8.8,
          8.1,
          0,
          7.9,
          7.1,
          7.4,
          9.6,
          7,
          8.5,
          8,
          7,
          0,
          7.4,
          7.5,
          10,
          6.5,
          8.5,
          7.8,
          7.4,
          9.3,
          8,
          9.8,
          10,
          7.1,
          8.1,
          8.8,
          4.6,
          4.3,
          8.7,
          7.3,
          10,
          6.1,
          7.6,
          8,
          9.1,
          8.6,
          9.7,
          0,
          8.2,
          0,
          0,
          3.5,
          1.4,
          6,
          7.5,
          9.2,
          7.8,
          6.1,
          10,
          7.6,
          9.4,
          1.4,
          7.4,
          7,
          8.3,
          7,
          6.1,
          0.4,
          0,
          7.4,
          8.2,
          7.2,
          8.2,
          8.3,
          5,
          8.8,
          7,
          0.8,
          7.3,
          7.8,
          8,
          7,
          8.2,
          0.6,
          8,
          5.2,
          9,
          1.5,
          7.8,
          7.6,
          8.2,
          0,
          8,
          7,
          5.5,
          10,
          8.3,
          8.8,
          3.5,
          10,
          0,
          4.6,
          0,
          10,
          10,
          0,
          9.6,
          9.5,
          7.8,
          10,
          10,
          9.5,
          8.6,
          0,
          0,
          7.9,
          0,
          0,
          0,
          0.8,
          2.4,
          9.2,
          0,
          4,
          3,
          2.6,
          9.6,
          8.2,
          7.2,
          7.4,
          7,
          2.8,
          5.4,
          5.1,
          5,
          0,
          7.9,
          7.4,
          2,
          8,
          10,
          2.3,
          4.4,
          0,
          7,
          2.3,
          0,
          9.6,
          7.1,
          3.5,
          10,
          7.3,
          8.1,
          2.6,
          10,
          0,
          8.7,
          9.2,
          0,
          9.7,
          1.7,
          9.3,
          9.3,
          7,
          3,
          7,
          5,
          7.8,
          0,
          3.4,
          5.3,
          8.4,
          8.6,
          7.8,
          5,
          5.2,
          7.7,
          0,
          8.3,
          1.6,
          8,
          0,
          9,
          0,
          0,
          0,
          0,
          3.9,
          3.3,
          2.4,
          0,
          7.4,
          3.6,
          0,
          7.8,
          0,
          8.5,
          0,
          7.1,
          4.7,
          0,
          8.8,
          7.4,
          7,
          5.2,
          7.2,
          0,
          7.6,
          6.4,
          1.4,
          3.8,
          6,
          2.7,
          9.5,
          0,
          8.1,
          3.8,
          0.3,
          0,
          2.7,
          7.8,
          0,
          0,
          7.3,
          7,
          5,
          4.3,
          1.4,
          8.8,
          0,
          5,
          7,
          3.9,
          2.2,
          2.5,
          7.8,
          4.2,
          8.2,
          0,
          9.1,
          2.8,
          0,
          2.9,
          8.3,
          0,
          4.5,
          1.6,
          2.5,
          2.1,
          5.1,
          0,
          7.7,
          2.6,
          8.3,
          1.9,
          2.4,
          7.1,
          7,
          1.2,
          2.1,
          0,
          0,
          0,
          8,
          7,
          3.3,
          7,
          3.5,
          0,
          8.1,
          0,
          6.9,
          1.5,
          0,
          5,
          7.7,
          7.8,
          2,
          0,
          5.8,
          3.6,
          8.3,
          0,
          7.2,
          5,
          7,
          5.4,
          7.3,
          5,
          0,
          8.4,
          8,
          6.8,
          5.2,
          7.4,
          7,
          5.8,
          6.2,
          5.6,
          7,
          5.1,
          7.3,
          0.6,
          5.9,
          5.4,
          5.5,
          6.2,
          7.9,
          2.3,
          5.9,
          6.4,
          0,
          5.7,
          0,
          2.4,
          5,
          7.5,
          7,
          6,
          5.1,
          5,
          7.2,
          1.1,
          9,
          0.1,
          5,
          0,
          4.4,
          6.3,
          0,
          5.9,
          5,
          7,
          5,
          2,
          7,
          6,
          5.3,
          7.1,
          0,
          7.2,
          6.9,
          5,
          6.8,
          8.1,
          0,
          9.3,
          2.8,
          2.8,
          0,
          6.8,
          7.1,
          8.1,
          8.2,
          5.7,
          4.5,
          8.6,
          0.7,
          9,
          7,
          1.9,
          9.3,
          6,
          6.9,
          7.7,
          0,
          8.1,
          0,
          7.2,
          0,
          7,
          3.5,
          7.2,
          0,
          7.7,
          5.9,
          8.6,
          10,
          0,
          5.4,
          7.1,
          0,
          8.5,
          0,
          4.5,
          5.7,
          0,
          9.6,
          0,
          7.8,
          2,
          7,
          9.3,
          8.9,
          5.2,
          10,
          7,
          8,
          7.8,
          6.3,
          8,
          7.4,
          5.6,
          7,
          0,
          0,
          3.9,
          0,
          8.9,
          0,
          8,
          2.6,
          8.6,
          8.3,
          0,
          7.2,
          10,
          7,
          7.5,
          4.3,
          9.2,
          9.6,
          0,
          0,
          5.4,
          0.6,
          2.6,
          5.3,
          1.2,
          7.9,
          8,
          0.4,
          2.3,
          8.7,
          10,
          0,
          7.3,
          5.1,
          7.3,
          1.9,
          0,
          8.2,
          7.4,
          6,
          0,
          3.1,
          6.2,
          4.7,
          5.1,
          9.8,
          9.7,
          0,
          8.7,
          0,
          5.2,
          7.5,
          0,
          7,
          5.5,
          6,
          4.1,
          3.4,
          0,
          1.4,
          6,
          2.9,
          3.2,
          5.5,
          9.1,
          3.5,
          0,
          8.6,
          0,
          5.9,
          0,
          9.7,
          6.1,
          2.7,
          8,
          2.5,
          7,
          10,
          7,
          9.5,
          10,
          8.3,
          1.5,
          7.6,
          0,
          0,
          8.3,
          3.8,
          0,
          8.3,
          8.3,
          0,
          3.9,
          7.3,
          0,
          7.4,
          7,
          7,
          3.9,
          0,
          3,
          4.5,
          8,
          7.5,
          0,
          0,
          8.1,
          8.8,
          0.5,
          10,
          5,
          3.9,
          0,
          0,
          5,
          3.7,
          7.3,
          5.7,
          0,
          8.4,
          7.9,
          5.6,
          8,
          1.2,
          8.2,
          9.5,
          7,
          4.1,
          0,
          3.6,
          2.6,
          3.7,
          8.7,
          7.3,
          7,
          4.2,
          4,
          1.4,
          2.5,
          5.7,
          9.2,
          3.8,
          0,
          7.1,
          4.1,
          2,
          0,
          8.4,
          0,
          6.2,
          5,
          8.6,
          9.6,
          8.7,
          7.4,
          8.4,
          4.3,
          7,
          4.7,
          0,
          5.7,
          5.3,
          7.3,
          2,
          4,
          7,
          4.2,
          5.2,
          4.4,
          10,
          4,
          7,
          3.9,
          3.8,
          3.9,
          8.2,
          8.9,
          10,
          10,
          4.6,
          0,
          9.5,
          9.8,
          4.4,
          4.7,
          7.1,
          9.7,
          9,
          0,
          5.7,
          0,
          0,
          0,
          0,
          7.5,
          5.1,
          0,
          0,
          8.2,
          7.8,
          8,
          5.3,
          0,
          5.2,
          3.3,
          3.6,
          5,
          7.8,
          0.9,
          0,
          0,
          4.7,
          0,
          0,
          3.9,
          5.8,
          0,
          2.7,
          0,
          5.2,
          0,
          7.8,
          5.3,
          0,
          0,
          5.4,
          8,
          7.7,
          3.3,
          5,
          5,
          8.4,
          5.3,
          4.4,
          9.1,
          10,
          3.1,
          5.3,
          5.4,
          0,
          10,
          8.5,
          9.5,
          7.4,
          9.2,
          8.4,
          10,
          6.1,
          2.4,
          0,
          0,
          0,
          4.5,
          7.9,
          7.9,
          0,
          8.3,
          4.5,
          0,
          2.8,
          5.7,
          4.4,
          0,
          8.4,
          7.8,
          5,
          5.1,
          0,
          6.5,
          0,
          0,
          7.3,
          8.8,
          10,
          5,
          4.1,
          3.6,
          10,
          0,
          8.7,
          8.5,
          0,
          0,
          9.1,
          0,
          7.9,
          0,
          6.8,
          5,
          7.8,
          0,
          3.8,
          9.2,
          3.9,
          7.6,
          0,
          0,
          7.8,
          3.3,
          8,
          2.1,
          0,
          7.8,
          0,
          8,
          9.2,
          2.6,
          5.4,
          8.5,
          7.1,
          3.7,
          7.5,
          8,
          0,
          8.6,
          10,
          0,
          10,
          5,
          10,
          5,
          7.3,
          8.4,
          3.9,
          2.6,
          0,
          9.5,
          8.3,
          10,
          5.9,
          10,
          4.5,
          10,
          5.6,
          5,
          0,
          0,
          0,
          0,
          8.2,
          9,
          7.5,
          7,
          8.9,
          7.8,
          7.9,
          8.4,
          0,
          3.3,
          2.5,
          7.6,
          3,
          7.2,
          0,
          0,
          9.1,
          6.6,
          5,
          8.6,
          8.8,
          9.2,
          10,
          5.8,
          4.4,
          2.8,
          7,
          2.6,
          3.2,
          3.1,
          2.8,
          0,
          2.2,
          0,
          4.4,
          9.5,
          5.8,
          4.3,
          4.2,
          8,
          5.5,
          3.4,
          2.6,
          5,
          7.5,
          9.1,
          7,
          2.1,
          4.2,
          2.5,
          7.9,
          10,
          9.1,
          7.6,
          1.9,
          7.3,
          6,
          6.4,
          5,
          4.5,
          2,
          7.6,
          9.3,
          7.1,
          7.6,
          0,
          2.7,
          0,
          5.7,
          2,
          0,
          4,
          7,
          5,
          8.4,
          0,
          2.5,
          8.8,
          7,
          8.1,
          5.5,
          2.7,
          5.1,
          7.7,
          8.7,
          8.4,
          5,
          4.4,
          2.5,
          2.3,
          4.4,
          7,
          5,
          5.9,
          5.3,
          5.8,
          3.1,
          2.7,
          7.3,
          6.9,
          0,
          8.7,
          6.4,
          4.5,
          0,
          5,
          0,
          7.2,
          5.1,
          7,
          5,
          3.2,
          8.4,
          5,
          5.8,
          7,
          7,
          3.6,
          5.1,
          0.1,
          2.6,
          9.1,
          2.3,
          0,
          5,
          6.1,
          4,
          7.4,
          7.8,
          5,
          3,
          10,
          2.6,
          5.4,
          7,
          5.5,
          5.6,
          5,
          10,
          0,
          7.8,
          5.1,
          0,
          0,
          4.2,
          0,
          7,
          7.8,
          10,
          6.2,
          2.1,
          7.1,
          3.2,
          7.9,
          2.4,
          7,
          7.5,
          9.6,
          8.6,
          10,
          7.4,
          2.7,
          9.1,
          2.7,
          5.8,
          5.1,
          8.5,
          5,
          0,
          6,
          8.1,
          8.5,
          5.3,
          5.8,
          5.6,
          5,
          0,
          1.4,
          0,
          2.8,
          5.3,
          0,
          1.5,
          1.4,
          2.3,
          5,
          1.4,
          7.6,
          5,
          1.5,
          2.4,
          0,
          7,
          7.6,
          9.9,
          7.5,
          7.5,
          7.5,
          6.1,
          5.5,
          0,
          5.3,
          9.5,
          8.6,
          0,
          0,
          0,
          7.8,
          7.2,
          0,
          2.6,
          7.4,
          0,
          8.9,
          5.3,
          0,
          7.5,
          1.4,
          8.9,
          2.8,
          8.6,
          8.3,
          7.3,
          7.1,
          10,
          7.5,
          10,
          5.8,
          4.6,
          8.8,
          1.3,
          10,
          0,
          9.7,
          2.9,
          0.9,
          5,
          1.7,
          4.7,
          8.3,
          0,
          7,
          5,
          3.4,
          4.4,
          0.6,
          5,
          2.2,
          1.9,
          7.9,
          5.7,
          1.1,
          3.6,
          3.1,
          4.2,
          4.5,
          0,
          3,
          0,
          5.4,
          9.6,
          3.7,
          8.6,
          7.6,
          5.1,
          0,
          7,
          9,
          5.8,
          7.6,
          5,
          4.1,
          1.5,
          7,
          2.7,
          5,
          4.4,
          10,
          7.4,
          8.1,
          5.3,
          1.8,
          3.2,
          7.4,
          9.1,
          6,
          8.2,
          8.6,
          0.1,
          6,
          1.1,
          0.7,
          7,
          3.9,
          7.1,
          0.9,
          10,
          1.6,
          6.6,
          7.2,
          7.3,
          3,
          5.9,
          7.6,
          7.1,
          5.7,
          7,
          7.4,
          1.3,
          4,
          8.5,
          2.7,
          0.1,
          8,
          2.8,
          6.3,
          2,
          5.2,
          6.1,
          0,
          0,
          3.1,
          0,
          4.3,
          6,
          2.8,
          5.6,
          3.3,
          0,
          5.4,
          0,
          5.3,
          0,
          4.5,
          7.3,
          7.8,
          5.7,
          0,
          0,
          2.8,
          5,
          3.2,
          3.8,
          3.6,
          6,
          5,
          0,
          1.8,
          7.2,
          3.6,
          5,
          2.8,
          0,
          5.3,
          5.5,
          4.1,
          9,
          3,
          5.1,
          0.5,
          0,
          0,
          0,
          0,
          0,
          9.2,
          0,
          0,
          0,
          5,
          0,
          6.6,
          0,
          5.2,
          4.4,
          6.8,
          0,
          5.2,
          5.5,
          5.6,
          1.6,
          2.3,
          5,
          5,
          5.3,
          0,
          0,
          2.5,
          1.8,
          0,
          2,
          5.2,
          8,
          7.2,
          0,
          4,
          1.7,
          0,
          3.9,
          2.5,
          2,
          6,
          2.3,
          4.4,
          3.6,
          5.2,
          0,
          0,
          4.4,
          7,
          10,
          6,
          8.7,
          6,
          0,
          7,
          6,
          7,
          6,
          0,
          6,
          7,
          1,
          0,
          2.9,
          6,
          7,
          7,
          1.5,
          6,
          1,
          7,
          6,
          7,
          1.1,
          6,
          6,
          0.8,
          6,
          0,
          6,
          6,
          7,
          1.4,
          0.9,
          6,
          6,
          1.4,
          1.7,
          0,
          7.8,
          0,
          9,
          10,
          1.5,
          5.6,
          1.8,
          0,
          0.2,
          5,
          5.9,
          8.4,
          0,
          9.6,
          10,
          3.7,
          1.1,
          10,
          5.5,
          5.3,
          9.8,
          9.4,
          0.6,
          8.3,
          0.9,
          8.1,
          4.6,
          2.5,
          3.3,
          5,
          1.5,
          7.3,
          6.9,
          4.7,
          5.4,
          7.2,
          5.2,
          6.5,
          0,
          0.4,
          10,
          9.6,
          3.4,
          0,
          0.2,
          0,
          2.3,
          0,
          8,
          2.3,
          1,
          8.3,
          4.2,
          9.6,
          2.5,
          1.8,
          2.6,
          0.2,
          0.3,
          5,
          5.1,
          7,
          0.7,
          5.1,
          0.7,
          5,
          5.3,
          9,
          8.3,
          8,
          10,
          2.4,
          7.7,
          2.1,
          8.3,
          4.4,
          4.1,
          10,
          6.8,
          6,
          9.2,
          7.7,
          2.3,
          0,
          7.6,
          6.1,
          3.7,
          5,
          9.7,
          9.3,
          0.8,
          0.1,
          0,
          2.6,
          5.4,
          5,
          6.3,
          0,
          7.8,
          7.2,
          2.6,
          8.4,
          0,
          9.4,
          0.3,
          9.2,
          0.7,
          6.5,
          5.5,
          6.8,
          0,
          1.5,
          5,
          1.4,
          5.1,
          5,
          6.3,
          5.6,
          5.1,
          5.4,
          5.4,
          5.8,
          5.6,
          5,
          0,
          5,
          0,
          5.1,
          5,
          6,
          6.4,
          5,
          5.2,
          6.3,
          2.5,
          8.7,
          7.3,
          0,
          10,
          6.4,
          7.8,
          7.7,
          2.9,
          3.5,
          9.6,
          2.5,
          2.9,
          5.5,
          8.6,
          5,
          7.1,
          5.6,
          0,
          4.5,
          8.4,
          5.2,
          6.2,
          7.6,
          0,
          5.5,
          1.8,
          5.1,
          9.3,
          7,
          7.6,
          5.8,
          5,
          7.1,
          8.5,
          5.2,
          8.3,
          0,
          0,
          5.5,
          1.9,
          5.3,
          3.4,
          5.6,
          0,
          5,
          0,
          5.2,
          0,
          5,
          5,
          0,
          5,
          0,
          5.9,
          5,
          5,
          8.4,
          5.3,
          0,
          9.4,
          5.1,
          0,
          0,
          4.2,
          7.2,
          8.6,
          7.6,
          0,
          2.4,
          0,
          5.4,
          0,
          0,
          0,
          0,
          5,
          7.6,
          5,
          0,
          5,
          5.2,
          8.1,
          2.6,
          7.2,
          5.4,
          0,
          0,
          5.3,
          9.1,
          0,
          6,
          0,
          5.2,
          7,
          3.5,
          0,
          0,
          6.3,
          0,
          0,
          0,
          4,
          0,
          0,
          4.1,
          0,
          5.5,
          10,
          5.8,
          7.6,
          1,
          0,
          2.2,
          5,
          6.1,
          4.1,
          1.5,
          7,
          5.8,
          5.3,
          2.2,
          2.8,
          7.8,
          2,
          2.2,
          5.3,
          5.9,
          5,
          6.7,
          5.2,
          2.6,
          1.6,
          5,
          0,
          0,
          2.5,
          8.3,
          0,
          0.9,
          0,
          1.6,
          0,
          1.8,
          0,
          7.3,
          1.2,
          1.2,
          1.3,
          6.3,
          10,
          9,
          7.5,
          10,
          2.8,
          0.7,
          0,
          6.5,
          3.3,
          2,
          5.9,
          8,
          0,
          9.2,
          5.1,
          7.6,
          8.2,
          6.3,
          9.3,
          6.7,
          0,
          5,
          7.9,
          0,
          1,
          6.8,
          5.5,
          6.4,
          1.4,
          8.5,
          7.7,
          1.8,
          10,
          8.6,
          7.5,
          9.6,
          5,
          5.6,
          5.6,
          5.7,
          1.1,
          0,
          7.8,
          6,
          0,
          8.9,
          7.5,
          3.5,
          5.6,
          8.5,
          7,
          7.7,
          5.2,
          2.7,
          7.2,
          6.9,
          5.2,
          4,
          7.1,
          1.3,
          2.7,
          5.3,
          2,
          5.7,
          8.2,
          7.8,
          9.6,
          5,
          7.9,
          5.7,
          9.3,
          7.4,
          7.2,
          3.5,
          1.9,
          5,
          4.5,
          9.2,
          5.9,
          7.2,
          2.7,
          7.2,
          0,
          5.1,
          6.7,
          7.4,
          4.5,
          4.1,
          7.9,
          6.5,
          4.5,
          8.9,
          4.2,
          7.1,
          6.8,
          5,
          5.9,
          5.1,
          0,
          3.6,
          5.5,
          6.2,
          6.5,
          5.8,
          5,
          0,
          5,
          5.7,
          7.3,
          5.1,
          0,
          3.8,
          3.8,
          0,
          5.8,
          0,
          4,
          0,
          5.2,
          0,
          3.9,
          6.1,
          5.3,
          6.7,
          6.1,
          7.3,
          0,
          8.3,
          5.8,
          8.9,
          5,
          5.6,
          7.7,
          6.7,
          6.7,
          7.9,
          6,
          5.4,
          5.7,
          6.2,
          3.5,
          0,
          3.2,
          6.8,
          3.9,
          6.9,
          6.4,
          6.3,
          0,
          6.4,
          5.7,
          8.7,
          0,
          0,
          8.8,
          6.3,
          7.2,
          0,
          6.8,
          5.8,
          4.2,
          7.6,
          5,
          5.4,
          6.1,
          7.9,
          5.3,
          5,
          8.4,
          0,
          9.6,
          4.8,
          8.9,
          0,
          0,
          5.5,
          0,
          6.2,
          7.4,
          3.8,
          0,
          5.1,
          0,
          6,
          0,
          5.4,
          0,
          3.7,
          5.3,
          5.3,
          4.2,
          9.6,
          3.8,
          5.5,
          0,
          7,
          0,
          3.3,
          5.3,
          4.4,
          9.1,
          5,
          0,
          0,
          5.6,
          4.2,
          5.2,
          6.8,
          5.8,
          0,
          5.4,
          5.5,
          5.3,
          5.1,
          7.9,
          5.3,
          9.2,
          7.5,
          6.7,
          6.1,
          7.5,
          7.4,
          0,
          0,
          4.5,
          0,
          5.5,
          6.4,
          5,
          5.1,
          0,
          0,
          8.3,
          7.3,
          6.3,
          5.7,
          8,
          9,
          7.5,
          5.1,
          0,
          5.4,
          6.2,
          5.7,
          7.2,
          5.8,
          6.4,
          2.9,
          4.3,
          0,
          5.1,
          0,
          6.8,
          7.2,
          5.7,
          0,
          5.3,
          5.5,
          3.8,
          0,
          6.6,
          9.5,
          6.8,
          5.4,
          3.2,
          8.5,
          7.6,
          7.2,
          7.4,
          5,
          8.5,
          7.4,
          0,
          6,
          5.6,
          6,
          6.3,
          9,
          5.9,
          8.5,
          7.5,
          8.7,
          9.3,
          6.8,
          0,
          3.2,
          0,
          9.4,
          8.5,
          0,
          9.1,
          8.7,
          9.3,
          8.8,
          0,
          9.5,
          8,
          8.9,
          8.4,
          0,
          8.5,
          8.2,
          6.5,
          8,
          7.3,
          0,
          5,
          5,
          7.6,
          5,
          6.6,
          0,
          6,
          6.2,
          6.4,
          8.5,
          9.5,
          7.5,
          5,
          6.6,
          0,
          7.8,
          8.3,
          6.1,
          5.1,
          6.7,
          8.9,
          8.4,
          7.5,
          7.1,
          0,
          5.6,
          9.7,
          7.6,
          8.4,
          9.2,
          0,
          7.1,
          8.3,
          2.4,
          5.2,
          4.5,
          6,
          5.8,
          5.8,
          2.5,
          5.6,
          6.8,
          3.3,
          6.6,
          2.8,
          0,
          0,
          5,
          5.8,
          9,
          5.6,
          5.3,
          5,
          7.9,
          2.5,
          6.7,
          8.2,
          6.7,
          6.7,
          6.6,
          6.1,
          7.1,
          7.9,
          3.8,
          9.1,
          8.5,
          8.2,
          2.1,
          0,
          2.1,
          4.6,
          0.8,
          6.5,
          0.9,
          8.6,
          10,
          4.4,
          0.8,
          7,
          2,
          6.1,
          2.2,
          8.7,
          8.3,
          7,
          1.2,
          6.1,
          7,
          2.9,
          7,
          8.3,
          2.6,
          0.8,
          0,
          5.9,
          5.7,
          6.7,
          0.9,
          7.3,
          0.4,
          6.3,
          0,
          5.2,
          9.8,
          5.7,
          1.8,
          7.5,
          7,
          3.6,
          5.1,
          7.3,
          8.3,
          7.6,
          8.2,
          0.7,
          6.4,
          9.7,
          7.1,
          6.5,
          7.4,
          0,
          8.2,
          4,
          7,
          5.2,
          7,
          8.3,
          4.6,
          2.2,
          5.4,
          0,
          3.2,
          5.4,
          6,
          5.8,
          3,
          7.7,
          6.6,
          7.4,
          7.5,
          7,
          1.9,
          7.3,
          6.6,
          6.9,
          6.7,
          2.6,
          7.9,
          7.8,
          10,
          7.5,
          9,
          0,
          7.2,
          6.6,
          8,
          7.8,
          7,
          8.1,
          6,
          2.6,
          5.3,
          7.6,
          7.2,
          7.5,
          6.2,
          6.3,
          7.6,
          7,
          1.1,
          8.7,
          7.6,
          5.3,
          8.3,
          4.8,
          6.9,
          10,
          7.4,
          3.1,
          7,
          0,
          0,
          5.3,
          9.4,
          4.3,
          1.3,
          2.5,
          2.1,
          2.6,
          5,
          0,
          8.4,
          8.4,
          8.4,
          6,
          5.2,
          5,
          6.7,
          9.2,
          7.4,
          9.8,
          0,
          5.9,
          0.5,
          5.2,
          3.5,
          1.3,
          0,
          6,
          5.1,
          6.5,
          8,
          4.6,
          9.1,
          7.3,
          9.6,
          7.6,
          7.6,
          7.8,
          6.9,
          6,
          9.5,
          5.8,
          6.1,
          5.2,
          4.8,
          6.1,
          5.6,
          10,
          2.3,
          6.1,
          5.5,
          9.2,
          5.2,
          0,
          6,
          0,
          0,
          5.9,
          0,
          6.5,
          5.1,
          5.8,
          8.5,
          9.7,
          7.3,
          5.3,
          4.3,
          6.9,
          6,
          0,
          5.5,
          7.9,
          6.7,
          6.6,
          6.4,
          8,
          8.7,
          7.3,
          8,
          9.3,
          6.4,
          8,
          6.3,
          3.4,
          8.2,
          8.6,
          5.1,
          9.7,
          4.1,
          6.3,
          0,
          9.2,
          8.3,
          8,
          10,
          8.9,
          9.9,
          8.6,
          8.3,
          9.2,
          9.4,
          5.7,
          6.6,
          7.7,
          7.6,
          3.1,
          0,
          0,
          0,
          0,
          7.6,
          8.3,
          0,
          6,
          3.9,
          7.1,
          7.9,
          8.8,
          8.9,
          9.7,
          8.5,
          6.7,
          7.4,
          7.7,
          3.8,
          8.3,
          8.7,
          9.7,
          7.4,
          7.4,
          8.6,
          8.1,
          1.8,
          7.5,
          7.9,
          5.5,
          6.7,
          8.8,
          8.3,
          8.6,
          9.2,
          7.5,
          6.3,
          0,
          8.8,
          1.1,
          5.4,
          8.6,
          5.5,
          6.5,
          4.1,
          9.1,
          6.7,
          0.5,
          4,
          0,
          7.4,
          8.1,
          7.3,
          9.7,
          5.5,
          8.3,
          8.5,
          6.6,
          5.4,
          0,
          3.8,
          5.8,
          6.3,
          8.3,
          6.4,
          6.4,
          7,
          0,
          0,
          8.2,
          1,
          4.2,
          8.9,
          8,
          9.6,
          9.6,
          9,
          8.8,
          2.2,
          9.7,
          9,
          9.7,
          0,
          8.6,
          9.5,
          7.4,
          9.1,
          9.7,
          7.8,
          9.9,
          8.7,
          9.6,
          9.9,
          8.8,
          0,
          8.9,
          7.1,
          7.7,
          9,
          9.8,
          8.8,
          0,
          8.7,
          9.4,
          9.5,
          9.3,
          0,
          0,
          9.9,
          8.1,
          0,
          0,
          7.9,
          0,
          0,
          0,
          1.8,
          0,
          8.3,
          7.2,
          0,
          7,
          8.5,
          0,
          0,
          1.4,
          2,
          7.4,
          9.6,
          0,
          9.2,
          7.9,
          8.9,
          7.3,
          8.4,
          0,
          0,
          0,
          3,
          7.2,
          8.7,
          4.8,
          5.9,
          1.8,
          9.6,
          7,
          6.9,
          8.8,
          4.2,
          6.9,
          0,
          7.1,
          4,
          0,
          6.4,
          8.7,
          8.9,
          6.7,
          0,
          9.2,
          0,
          6.3,
          8.5,
          7.2,
          8.8,
          8.8,
          6.3,
          9.1,
          0,
          3,
          0,
          3.1,
          0,
          4.2,
          3.6,
          1.8,
          1.7,
          5,
          3.8,
          6.2,
          7.7,
          4.7,
          4,
          3.2,
          5.7,
          8,
          2.4,
          6.5,
          5.5,
          7,
          6.4,
          5.1,
          7.2,
          6.4,
          0.9,
          2.3,
          5.2,
          0,
          6.8,
          0,
          6.8,
          2.5,
          5.7,
          7.2,
          7.1,
          7.8,
          9.2,
          2.4,
          5.5,
          10,
          5,
          6.1,
          8.4,
          6,
          8.8,
          8.7,
          5.6,
          7.8,
          6.7,
          5.9,
          7.9,
          8.1,
          8.4,
          8.3,
          6.3,
          7.9,
          7.5,
          8.9,
          2.9,
          6.3,
          6.7,
          1.1,
          6.1,
          9.2,
          7.2,
          8.7,
          5,
          6.7,
          7.9,
          7.3,
          5.1,
          7.4
         ],
         "xaxis": "x",
         "yaxis": "y"
        }
       ],
       "layout": {
        "barmode": "relative",
        "legend": {
         "tracegroupgap": 0
        },
        "template": {
         "data": {
          "bar": [
           {
            "error_x": {
             "color": "#2a3f5f"
            },
            "error_y": {
             "color": "#2a3f5f"
            },
            "marker": {
             "line": {
              "color": "#E5ECF6",
              "width": 0.5
             },
             "pattern": {
              "fillmode": "overlay",
              "size": 10,
              "solidity": 0.2
             }
            },
            "type": "bar"
           }
          ],
          "barpolar": [
           {
            "marker": {
             "line": {
              "color": "#E5ECF6",
              "width": 0.5
             },
             "pattern": {
              "fillmode": "overlay",
              "size": 10,
              "solidity": 0.2
             }
            },
            "type": "barpolar"
           }
          ],
          "carpet": [
           {
            "aaxis": {
             "endlinecolor": "#2a3f5f",
             "gridcolor": "white",
             "linecolor": "white",
             "minorgridcolor": "white",
             "startlinecolor": "#2a3f5f"
            },
            "baxis": {
             "endlinecolor": "#2a3f5f",
             "gridcolor": "white",
             "linecolor": "white",
             "minorgridcolor": "white",
             "startlinecolor": "#2a3f5f"
            },
            "type": "carpet"
           }
          ],
          "choropleth": [
           {
            "colorbar": {
             "outlinewidth": 0,
             "ticks": ""
            },
            "type": "choropleth"
           }
          ],
          "contour": [
           {
            "colorbar": {
             "outlinewidth": 0,
             "ticks": ""
            },
            "colorscale": [
             [
              0,
              "#0d0887"
             ],
             [
              0.1111111111111111,
              "#46039f"
             ],
             [
              0.2222222222222222,
              "#7201a8"
             ],
             [
              0.3333333333333333,
              "#9c179e"
             ],
             [
              0.4444444444444444,
              "#bd3786"
             ],
             [
              0.5555555555555556,
              "#d8576b"
             ],
             [
              0.6666666666666666,
              "#ed7953"
             ],
             [
              0.7777777777777778,
              "#fb9f3a"
             ],
             [
              0.8888888888888888,
              "#fdca26"
             ],
             [
              1,
              "#f0f921"
             ]
            ],
            "type": "contour"
           }
          ],
          "contourcarpet": [
           {
            "colorbar": {
             "outlinewidth": 0,
             "ticks": ""
            },
            "type": "contourcarpet"
           }
          ],
          "heatmap": [
           {
            "colorbar": {
             "outlinewidth": 0,
             "ticks": ""
            },
            "colorscale": [
             [
              0,
              "#0d0887"
             ],
             [
              0.1111111111111111,
              "#46039f"
             ],
             [
              0.2222222222222222,
              "#7201a8"
             ],
             [
              0.3333333333333333,
              "#9c179e"
             ],
             [
              0.4444444444444444,
              "#bd3786"
             ],
             [
              0.5555555555555556,
              "#d8576b"
             ],
             [
              0.6666666666666666,
              "#ed7953"
             ],
             [
              0.7777777777777778,
              "#fb9f3a"
             ],
             [
              0.8888888888888888,
              "#fdca26"
             ],
             [
              1,
              "#f0f921"
             ]
            ],
            "type": "heatmap"
           }
          ],
          "heatmapgl": [
           {
            "colorbar": {
             "outlinewidth": 0,
             "ticks": ""
            },
            "colorscale": [
             [
              0,
              "#0d0887"
             ],
             [
              0.1111111111111111,
              "#46039f"
             ],
             [
              0.2222222222222222,
              "#7201a8"
             ],
             [
              0.3333333333333333,
              "#9c179e"
             ],
             [
              0.4444444444444444,
              "#bd3786"
             ],
             [
              0.5555555555555556,
              "#d8576b"
             ],
             [
              0.6666666666666666,
              "#ed7953"
             ],
             [
              0.7777777777777778,
              "#fb9f3a"
             ],
             [
              0.8888888888888888,
              "#fdca26"
             ],
             [
              1,
              "#f0f921"
             ]
            ],
            "type": "heatmapgl"
           }
          ],
          "histogram": [
           {
            "marker": {
             "pattern": {
              "fillmode": "overlay",
              "size": 10,
              "solidity": 0.2
             }
            },
            "type": "histogram"
           }
          ],
          "histogram2d": [
           {
            "colorbar": {
             "outlinewidth": 0,
             "ticks": ""
            },
            "colorscale": [
             [
              0,
              "#0d0887"
             ],
             [
              0.1111111111111111,
              "#46039f"
             ],
             [
              0.2222222222222222,
              "#7201a8"
             ],
             [
              0.3333333333333333,
              "#9c179e"
             ],
             [
              0.4444444444444444,
              "#bd3786"
             ],
             [
              0.5555555555555556,
              "#d8576b"
             ],
             [
              0.6666666666666666,
              "#ed7953"
             ],
             [
              0.7777777777777778,
              "#fb9f3a"
             ],
             [
              0.8888888888888888,
              "#fdca26"
             ],
             [
              1,
              "#f0f921"
             ]
            ],
            "type": "histogram2d"
           }
          ],
          "histogram2dcontour": [
           {
            "colorbar": {
             "outlinewidth": 0,
             "ticks": ""
            },
            "colorscale": [
             [
              0,
              "#0d0887"
             ],
             [
              0.1111111111111111,
              "#46039f"
             ],
             [
              0.2222222222222222,
              "#7201a8"
             ],
             [
              0.3333333333333333,
              "#9c179e"
             ],
             [
              0.4444444444444444,
              "#bd3786"
             ],
             [
              0.5555555555555556,
              "#d8576b"
             ],
             [
              0.6666666666666666,
              "#ed7953"
             ],
             [
              0.7777777777777778,
              "#fb9f3a"
             ],
             [
              0.8888888888888888,
              "#fdca26"
             ],
             [
              1,
              "#f0f921"
             ]
            ],
            "type": "histogram2dcontour"
           }
          ],
          "mesh3d": [
           {
            "colorbar": {
             "outlinewidth": 0,
             "ticks": ""
            },
            "type": "mesh3d"
           }
          ],
          "parcoords": [
           {
            "line": {
             "colorbar": {
              "outlinewidth": 0,
              "ticks": ""
             }
            },
            "type": "parcoords"
           }
          ],
          "pie": [
           {
            "automargin": true,
            "type": "pie"
           }
          ],
          "scatter": [
           {
            "fillpattern": {
             "fillmode": "overlay",
             "size": 10,
             "solidity": 0.2
            },
            "type": "scatter"
           }
          ],
          "scatter3d": [
           {
            "line": {
             "colorbar": {
              "outlinewidth": 0,
              "ticks": ""
             }
            },
            "marker": {
             "colorbar": {
              "outlinewidth": 0,
              "ticks": ""
             }
            },
            "type": "scatter3d"
           }
          ],
          "scattercarpet": [
           {
            "marker": {
             "colorbar": {
              "outlinewidth": 0,
              "ticks": ""
             }
            },
            "type": "scattercarpet"
           }
          ],
          "scattergeo": [
           {
            "marker": {
             "colorbar": {
              "outlinewidth": 0,
              "ticks": ""
             }
            },
            "type": "scattergeo"
           }
          ],
          "scattergl": [
           {
            "marker": {
             "colorbar": {
              "outlinewidth": 0,
              "ticks": ""
             }
            },
            "type": "scattergl"
           }
          ],
          "scattermapbox": [
           {
            "marker": {
             "colorbar": {
              "outlinewidth": 0,
              "ticks": ""
             }
            },
            "type": "scattermapbox"
           }
          ],
          "scatterpolar": [
           {
            "marker": {
             "colorbar": {
              "outlinewidth": 0,
              "ticks": ""
             }
            },
            "type": "scatterpolar"
           }
          ],
          "scatterpolargl": [
           {
            "marker": {
             "colorbar": {
              "outlinewidth": 0,
              "ticks": ""
             }
            },
            "type": "scatterpolargl"
           }
          ],
          "scatterternary": [
           {
            "marker": {
             "colorbar": {
              "outlinewidth": 0,
              "ticks": ""
             }
            },
            "type": "scatterternary"
           }
          ],
          "surface": [
           {
            "colorbar": {
             "outlinewidth": 0,
             "ticks": ""
            },
            "colorscale": [
             [
              0,
              "#0d0887"
             ],
             [
              0.1111111111111111,
              "#46039f"
             ],
             [
              0.2222222222222222,
              "#7201a8"
             ],
             [
              0.3333333333333333,
              "#9c179e"
             ],
             [
              0.4444444444444444,
              "#bd3786"
             ],
             [
              0.5555555555555556,
              "#d8576b"
             ],
             [
              0.6666666666666666,
              "#ed7953"
             ],
             [
              0.7777777777777778,
              "#fb9f3a"
             ],
             [
              0.8888888888888888,
              "#fdca26"
             ],
             [
              1,
              "#f0f921"
             ]
            ],
            "type": "surface"
           }
          ],
          "table": [
           {
            "cells": {
             "fill": {
              "color": "#EBF0F8"
             },
             "line": {
              "color": "white"
             }
            },
            "header": {
             "fill": {
              "color": "#C8D4E3"
             },
             "line": {
              "color": "white"
             }
            },
            "type": "table"
           }
          ]
         },
         "layout": {
          "annotationdefaults": {
           "arrowcolor": "#2a3f5f",
           "arrowhead": 0,
           "arrowwidth": 1
          },
          "autotypenumbers": "strict",
          "coloraxis": {
           "colorbar": {
            "outlinewidth": 0,
            "ticks": ""
           }
          },
          "colorscale": {
           "diverging": [
            [
             0,
             "#8e0152"
            ],
            [
             0.1,
             "#c51b7d"
            ],
            [
             0.2,
             "#de77ae"
            ],
            [
             0.3,
             "#f1b6da"
            ],
            [
             0.4,
             "#fde0ef"
            ],
            [
             0.5,
             "#f7f7f7"
            ],
            [
             0.6,
             "#e6f5d0"
            ],
            [
             0.7,
             "#b8e186"
            ],
            [
             0.8,
             "#7fbc41"
            ],
            [
             0.9,
             "#4d9221"
            ],
            [
             1,
             "#276419"
            ]
           ],
           "sequential": [
            [
             0,
             "#0d0887"
            ],
            [
             0.1111111111111111,
             "#46039f"
            ],
            [
             0.2222222222222222,
             "#7201a8"
            ],
            [
             0.3333333333333333,
             "#9c179e"
            ],
            [
             0.4444444444444444,
             "#bd3786"
            ],
            [
             0.5555555555555556,
             "#d8576b"
            ],
            [
             0.6666666666666666,
             "#ed7953"
            ],
            [
             0.7777777777777778,
             "#fb9f3a"
            ],
            [
             0.8888888888888888,
             "#fdca26"
            ],
            [
             1,
             "#f0f921"
            ]
           ],
           "sequentialminus": [
            [
             0,
             "#0d0887"
            ],
            [
             0.1111111111111111,
             "#46039f"
            ],
            [
             0.2222222222222222,
             "#7201a8"
            ],
            [
             0.3333333333333333,
             "#9c179e"
            ],
            [
             0.4444444444444444,
             "#bd3786"
            ],
            [
             0.5555555555555556,
             "#d8576b"
            ],
            [
             0.6666666666666666,
             "#ed7953"
            ],
            [
             0.7777777777777778,
             "#fb9f3a"
            ],
            [
             0.8888888888888888,
             "#fdca26"
            ],
            [
             1,
             "#f0f921"
            ]
           ]
          },
          "colorway": [
           "#636efa",
           "#EF553B",
           "#00cc96",
           "#ab63fa",
           "#FFA15A",
           "#19d3f3",
           "#FF6692",
           "#B6E880",
           "#FF97FF",
           "#FECB52"
          ],
          "font": {
           "color": "#2a3f5f"
          },
          "geo": {
           "bgcolor": "white",
           "lakecolor": "white",
           "landcolor": "#E5ECF6",
           "showlakes": true,
           "showland": true,
           "subunitcolor": "white"
          },
          "hoverlabel": {
           "align": "left"
          },
          "hovermode": "closest",
          "mapbox": {
           "style": "light"
          },
          "paper_bgcolor": "white",
          "plot_bgcolor": "#E5ECF6",
          "polar": {
           "angularaxis": {
            "gridcolor": "white",
            "linecolor": "white",
            "ticks": ""
           },
           "bgcolor": "#E5ECF6",
           "radialaxis": {
            "gridcolor": "white",
            "linecolor": "white",
            "ticks": ""
           }
          },
          "scene": {
           "xaxis": {
            "backgroundcolor": "#E5ECF6",
            "gridcolor": "white",
            "gridwidth": 2,
            "linecolor": "white",
            "showbackground": true,
            "ticks": "",
            "zerolinecolor": "white"
           },
           "yaxis": {
            "backgroundcolor": "#E5ECF6",
            "gridcolor": "white",
            "gridwidth": 2,
            "linecolor": "white",
            "showbackground": true,
            "ticks": "",
            "zerolinecolor": "white"
           },
           "zaxis": {
            "backgroundcolor": "#E5ECF6",
            "gridcolor": "white",
            "gridwidth": 2,
            "linecolor": "white",
            "showbackground": true,
            "ticks": "",
            "zerolinecolor": "white"
           }
          },
          "shapedefaults": {
           "line": {
            "color": "#2a3f5f"
           }
          },
          "ternary": {
           "aaxis": {
            "gridcolor": "white",
            "linecolor": "white",
            "ticks": ""
           },
           "baxis": {
            "gridcolor": "white",
            "linecolor": "white",
            "ticks": ""
           },
           "bgcolor": "#E5ECF6",
           "caxis": {
            "gridcolor": "white",
            "linecolor": "white",
            "ticks": ""
           }
          },
          "title": {
           "x": 0.05
          },
          "xaxis": {
           "automargin": true,
           "gridcolor": "white",
           "linecolor": "white",
           "ticks": "",
           "title": {
            "standoff": 15
           },
           "zerolinecolor": "white",
           "zerolinewidth": 2
          },
          "yaxis": {
           "automargin": true,
           "gridcolor": "white",
           "linecolor": "white",
           "ticks": "",
           "title": {
            "standoff": 15
           },
           "zerolinecolor": "white",
           "zerolinewidth": 2
          }
         }
        },
        "title": {
         "text": "Disitruição de notas"
        },
        "xaxis": {
         "anchor": "y",
         "domain": [
          0,
          1
         ],
         "title": {
          "text": "grau_disciplina"
         }
        },
        "yaxis": {
         "anchor": "x",
         "domain": [
          0,
          1
         ],
         "title": {
          "text": "count"
         }
        }
       }
      }
     },
     "metadata": {},
     "output_type": "display_data"
    }
   ],
   "source": [
    "fig = px.histogram(\n",
    "    teste,\n",
    "    x='grau_disciplina',\n",
    "    title=\"Disitruição de notas\",\n",
    "    nbins = 20\n",
    ")\n",
    "fig.show()"
   ]
  },
  {
   "cell_type": "code",
   "execution_count": 49,
   "metadata": {},
   "outputs": [
    {
     "data": {
      "text/html": [
       "<div>\n",
       "<style scoped>\n",
       "    .dataframe tbody tr th:only-of-type {\n",
       "        vertical-align: middle;\n",
       "    }\n",
       "\n",
       "    .dataframe tbody tr th {\n",
       "        vertical-align: top;\n",
       "    }\n",
       "\n",
       "    .dataframe thead th {\n",
       "        text-align: right;\n",
       "    }\n",
       "</style>\n",
       "<table border=\"1\" class=\"dataframe\">\n",
       "  <thead>\n",
       "    <tr style=\"text-align: right;\">\n",
       "      <th></th>\n",
       "      <th>nome_disciplina</th>\n",
       "      <th>mediana</th>\n",
       "      <th>size</th>\n",
       "    </tr>\n",
       "  </thead>\n",
       "  <tbody>\n",
       "    <tr>\n",
       "      <th>358</th>\n",
       "      <td>Empreendimento em Informática</td>\n",
       "      <td>7.5</td>\n",
       "      <td>724</td>\n",
       "    </tr>\n",
       "    <tr>\n",
       "      <th>113</th>\n",
       "      <td>Calculo Infinitesimal IV</td>\n",
       "      <td>6.0</td>\n",
       "      <td>736</td>\n",
       "    </tr>\n",
       "    <tr>\n",
       "      <th>114</th>\n",
       "      <td>Calculo Numerico p/Informatica</td>\n",
       "      <td>7.1</td>\n",
       "      <td>789</td>\n",
       "    </tr>\n",
       "    <tr>\n",
       "      <th>636</th>\n",
       "      <td>Informática na Administração</td>\n",
       "      <td>8.1</td>\n",
       "      <td>851</td>\n",
       "    </tr>\n",
       "    <tr>\n",
       "      <th>805</th>\n",
       "      <td>Linguagens de Programação</td>\n",
       "      <td>7.9</td>\n",
       "      <td>859</td>\n",
       "    </tr>\n",
       "    <tr>\n",
       "      <th>982</th>\n",
       "      <td>Organização de Dados II</td>\n",
       "      <td>7.4</td>\n",
       "      <td>859</td>\n",
       "    </tr>\n",
       "    <tr>\n",
       "      <th>917</th>\n",
       "      <td>Modelagem de Sistemas Inform I</td>\n",
       "      <td>8.2</td>\n",
       "      <td>859</td>\n",
       "    </tr>\n",
       "    <tr>\n",
       "      <th>233</th>\n",
       "      <td>Cálculo Int e Diferencial IV</td>\n",
       "      <td>5.8</td>\n",
       "      <td>873</td>\n",
       "    </tr>\n",
       "    <tr>\n",
       "      <th>160</th>\n",
       "      <td>Computação Concorrente</td>\n",
       "      <td>6.4</td>\n",
       "      <td>939</td>\n",
       "    </tr>\n",
       "    <tr>\n",
       "      <th>302</th>\n",
       "      <td>Economia</td>\n",
       "      <td>6.7</td>\n",
       "      <td>949</td>\n",
       "    </tr>\n",
       "  </tbody>\n",
       "</table>\n",
       "</div>"
      ],
      "text/plain": [
       "                    nome_disciplina  mediana  size\n",
       "358   Empreendimento em Informática      7.5   724\n",
       "113        Calculo Infinitesimal IV      6.0   736\n",
       "114  Calculo Numerico p/Informatica      7.1   789\n",
       "636    Informática na Administração      8.1   851\n",
       "805       Linguagens de Programação      7.9   859\n",
       "982         Organização de Dados II      7.4   859\n",
       "917  Modelagem de Sistemas Inform I      8.2   859\n",
       "233    Cálculo Int e Diferencial IV      5.8   873\n",
       "160          Computação Concorrente      6.4   939\n",
       "302                        Economia      6.7   949"
      ]
     },
     "execution_count": 49,
     "metadata": {},
     "output_type": "execute_result"
    }
   ],
   "source": [
    "mediana_disciplina = situacao_disciplina.groupby('nome_disciplina')['grau_disciplina'].agg(mediana='median', size='size').reset_index().sort_values('size')\n",
    "mediana_disciplina = mediana_disciplina[mediana_disciplina['size'] > 500]\n",
    "mediana_disciplina.head(10)"
   ]
  },
  {
   "cell_type": "code",
   "execution_count": 58,
   "metadata": {},
   "outputs": [],
   "source": [
    "mediana_disciplina = mediana_disciplina.sort_values('mediana', ascending=False)"
   ]
  },
  {
   "cell_type": "code",
   "execution_count": null,
   "metadata": {},
   "outputs": [],
   "source": [
    "pd.read_json"
   ]
  },
  {
   "cell_type": "code",
   "execution_count": 59,
   "metadata": {},
   "outputs": [
    {
     "data": {
      "application/vnd.plotly.v1+json": {
       "config": {
        "plotlyServerURL": "https://plot.ly"
       },
       "data": [
        {
         "alignmentgroup": "True",
         "hovertemplate": "nome_disciplina=%{x}<br>mediana=%{y}<extra></extra>",
         "legendgroup": "",
         "marker": {
          "color": "#636efa",
          "pattern": {
           "shape": ""
          }
         },
         "name": "",
         "offsetgroup": "",
         "orientation": "v",
         "showlegend": false,
         "textposition": "auto",
         "type": "bar",
         "x": [
          "Projeto Final de Curso",
          "Computadores e Sociedade",
          "Compiladores I",
          "Modelagem de Sistemas Inform I",
          "Organização da Informação",
          "Informática na Administração",
          "Linguagens de Programação",
          "Empreendimento em Informática",
          "Sistemas de Informação",
          "Organização de Dados II",
          "Fund da Engenharia de Software",
          "Calculo Numerico p/Informatica",
          "Computacao II",
          "Computação II (CC)",
          "Circuitos Lógicos",
          "Fund da Computação Digital",
          "Sistemas Operacionais I",
          "Banco de Dados I",
          "Estrutura dos Dados",
          "Economia",
          "Computação I (CC)",
          "Computacao para Informatica",
          "Computação Concorrente",
          "Arquitetura de Computadores I",
          "Algoritmos e Grafos",
          "Teleprocessamento e Redes",
          "Organizacao de Dados I",
          "Linguagens Formais",
          "Programação Linear I",
          "Computação Gráfica I",
          "Álgebra Linear II",
          "Calculo Infinitesimal IV",
          "Estatística e Probabilidade",
          "Calculo Infinitesimal III",
          "Cálculo Int e Diferencial IV",
          "Cálculo Numérico (CC)",
          "Números Inteiros Criptografia",
          "Cálculo Infinitesimal II",
          "Inteligência Artificial",
          "Lógica",
          "Eletromagnetismo e Ótica",
          "Computadores e Programação",
          "Matemática Combinatória",
          "Mecânica, Oscilação e Ondas",
          "Avaliação e Desempenho",
          "Álgebra Linear Algorítmica",
          "Física I",
          "Física III",
          "Cálculo Integ e Diferencial II",
          "Física II",
          "Cálculo Vetorial e G Analitica",
          "Cálculo Int e Diferencial III",
          "Cálculo Infinitesimal I"
         ],
         "xaxis": "x",
         "y": [
          9.5,
          8.7,
          8.6,
          8.2,
          8.1,
          8.1,
          7.9,
          7.5,
          7.4,
          7.4,
          7.3,
          7.1,
          7,
          6.9,
          6.8,
          6.8,
          6.8,
          6.7,
          6.7,
          6.7,
          6.5,
          6.4,
          6.4,
          6.4,
          6.4,
          6.4,
          6.4,
          6.3,
          6.15,
          6,
          6,
          6,
          5.9,
          5.9,
          5.8,
          5.8,
          5.8,
          5.8,
          5.8,
          5.8,
          5.7,
          5.6,
          5.5,
          5.4,
          5.2,
          5.2,
          5,
          5,
          5,
          5,
          5,
          5,
          4.4
         ],
         "yaxis": "y"
        }
       ],
       "layout": {
        "barmode": "relative",
        "legend": {
         "tracegroupgap": 0
        },
        "margin": {
         "t": 60
        },
        "template": {
         "data": {
          "bar": [
           {
            "error_x": {
             "color": "#2a3f5f"
            },
            "error_y": {
             "color": "#2a3f5f"
            },
            "marker": {
             "line": {
              "color": "#E5ECF6",
              "width": 0.5
             },
             "pattern": {
              "fillmode": "overlay",
              "size": 10,
              "solidity": 0.2
             }
            },
            "type": "bar"
           }
          ],
          "barpolar": [
           {
            "marker": {
             "line": {
              "color": "#E5ECF6",
              "width": 0.5
             },
             "pattern": {
              "fillmode": "overlay",
              "size": 10,
              "solidity": 0.2
             }
            },
            "type": "barpolar"
           }
          ],
          "carpet": [
           {
            "aaxis": {
             "endlinecolor": "#2a3f5f",
             "gridcolor": "white",
             "linecolor": "white",
             "minorgridcolor": "white",
             "startlinecolor": "#2a3f5f"
            },
            "baxis": {
             "endlinecolor": "#2a3f5f",
             "gridcolor": "white",
             "linecolor": "white",
             "minorgridcolor": "white",
             "startlinecolor": "#2a3f5f"
            },
            "type": "carpet"
           }
          ],
          "choropleth": [
           {
            "colorbar": {
             "outlinewidth": 0,
             "ticks": ""
            },
            "type": "choropleth"
           }
          ],
          "contour": [
           {
            "colorbar": {
             "outlinewidth": 0,
             "ticks": ""
            },
            "colorscale": [
             [
              0,
              "#0d0887"
             ],
             [
              0.1111111111111111,
              "#46039f"
             ],
             [
              0.2222222222222222,
              "#7201a8"
             ],
             [
              0.3333333333333333,
              "#9c179e"
             ],
             [
              0.4444444444444444,
              "#bd3786"
             ],
             [
              0.5555555555555556,
              "#d8576b"
             ],
             [
              0.6666666666666666,
              "#ed7953"
             ],
             [
              0.7777777777777778,
              "#fb9f3a"
             ],
             [
              0.8888888888888888,
              "#fdca26"
             ],
             [
              1,
              "#f0f921"
             ]
            ],
            "type": "contour"
           }
          ],
          "contourcarpet": [
           {
            "colorbar": {
             "outlinewidth": 0,
             "ticks": ""
            },
            "type": "contourcarpet"
           }
          ],
          "heatmap": [
           {
            "colorbar": {
             "outlinewidth": 0,
             "ticks": ""
            },
            "colorscale": [
             [
              0,
              "#0d0887"
             ],
             [
              0.1111111111111111,
              "#46039f"
             ],
             [
              0.2222222222222222,
              "#7201a8"
             ],
             [
              0.3333333333333333,
              "#9c179e"
             ],
             [
              0.4444444444444444,
              "#bd3786"
             ],
             [
              0.5555555555555556,
              "#d8576b"
             ],
             [
              0.6666666666666666,
              "#ed7953"
             ],
             [
              0.7777777777777778,
              "#fb9f3a"
             ],
             [
              0.8888888888888888,
              "#fdca26"
             ],
             [
              1,
              "#f0f921"
             ]
            ],
            "type": "heatmap"
           }
          ],
          "heatmapgl": [
           {
            "colorbar": {
             "outlinewidth": 0,
             "ticks": ""
            },
            "colorscale": [
             [
              0,
              "#0d0887"
             ],
             [
              0.1111111111111111,
              "#46039f"
             ],
             [
              0.2222222222222222,
              "#7201a8"
             ],
             [
              0.3333333333333333,
              "#9c179e"
             ],
             [
              0.4444444444444444,
              "#bd3786"
             ],
             [
              0.5555555555555556,
              "#d8576b"
             ],
             [
              0.6666666666666666,
              "#ed7953"
             ],
             [
              0.7777777777777778,
              "#fb9f3a"
             ],
             [
              0.8888888888888888,
              "#fdca26"
             ],
             [
              1,
              "#f0f921"
             ]
            ],
            "type": "heatmapgl"
           }
          ],
          "histogram": [
           {
            "marker": {
             "pattern": {
              "fillmode": "overlay",
              "size": 10,
              "solidity": 0.2
             }
            },
            "type": "histogram"
           }
          ],
          "histogram2d": [
           {
            "colorbar": {
             "outlinewidth": 0,
             "ticks": ""
            },
            "colorscale": [
             [
              0,
              "#0d0887"
             ],
             [
              0.1111111111111111,
              "#46039f"
             ],
             [
              0.2222222222222222,
              "#7201a8"
             ],
             [
              0.3333333333333333,
              "#9c179e"
             ],
             [
              0.4444444444444444,
              "#bd3786"
             ],
             [
              0.5555555555555556,
              "#d8576b"
             ],
             [
              0.6666666666666666,
              "#ed7953"
             ],
             [
              0.7777777777777778,
              "#fb9f3a"
             ],
             [
              0.8888888888888888,
              "#fdca26"
             ],
             [
              1,
              "#f0f921"
             ]
            ],
            "type": "histogram2d"
           }
          ],
          "histogram2dcontour": [
           {
            "colorbar": {
             "outlinewidth": 0,
             "ticks": ""
            },
            "colorscale": [
             [
              0,
              "#0d0887"
             ],
             [
              0.1111111111111111,
              "#46039f"
             ],
             [
              0.2222222222222222,
              "#7201a8"
             ],
             [
              0.3333333333333333,
              "#9c179e"
             ],
             [
              0.4444444444444444,
              "#bd3786"
             ],
             [
              0.5555555555555556,
              "#d8576b"
             ],
             [
              0.6666666666666666,
              "#ed7953"
             ],
             [
              0.7777777777777778,
              "#fb9f3a"
             ],
             [
              0.8888888888888888,
              "#fdca26"
             ],
             [
              1,
              "#f0f921"
             ]
            ],
            "type": "histogram2dcontour"
           }
          ],
          "mesh3d": [
           {
            "colorbar": {
             "outlinewidth": 0,
             "ticks": ""
            },
            "type": "mesh3d"
           }
          ],
          "parcoords": [
           {
            "line": {
             "colorbar": {
              "outlinewidth": 0,
              "ticks": ""
             }
            },
            "type": "parcoords"
           }
          ],
          "pie": [
           {
            "automargin": true,
            "type": "pie"
           }
          ],
          "scatter": [
           {
            "fillpattern": {
             "fillmode": "overlay",
             "size": 10,
             "solidity": 0.2
            },
            "type": "scatter"
           }
          ],
          "scatter3d": [
           {
            "line": {
             "colorbar": {
              "outlinewidth": 0,
              "ticks": ""
             }
            },
            "marker": {
             "colorbar": {
              "outlinewidth": 0,
              "ticks": ""
             }
            },
            "type": "scatter3d"
           }
          ],
          "scattercarpet": [
           {
            "marker": {
             "colorbar": {
              "outlinewidth": 0,
              "ticks": ""
             }
            },
            "type": "scattercarpet"
           }
          ],
          "scattergeo": [
           {
            "marker": {
             "colorbar": {
              "outlinewidth": 0,
              "ticks": ""
             }
            },
            "type": "scattergeo"
           }
          ],
          "scattergl": [
           {
            "marker": {
             "colorbar": {
              "outlinewidth": 0,
              "ticks": ""
             }
            },
            "type": "scattergl"
           }
          ],
          "scattermapbox": [
           {
            "marker": {
             "colorbar": {
              "outlinewidth": 0,
              "ticks": ""
             }
            },
            "type": "scattermapbox"
           }
          ],
          "scatterpolar": [
           {
            "marker": {
             "colorbar": {
              "outlinewidth": 0,
              "ticks": ""
             }
            },
            "type": "scatterpolar"
           }
          ],
          "scatterpolargl": [
           {
            "marker": {
             "colorbar": {
              "outlinewidth": 0,
              "ticks": ""
             }
            },
            "type": "scatterpolargl"
           }
          ],
          "scatterternary": [
           {
            "marker": {
             "colorbar": {
              "outlinewidth": 0,
              "ticks": ""
             }
            },
            "type": "scatterternary"
           }
          ],
          "surface": [
           {
            "colorbar": {
             "outlinewidth": 0,
             "ticks": ""
            },
            "colorscale": [
             [
              0,
              "#0d0887"
             ],
             [
              0.1111111111111111,
              "#46039f"
             ],
             [
              0.2222222222222222,
              "#7201a8"
             ],
             [
              0.3333333333333333,
              "#9c179e"
             ],
             [
              0.4444444444444444,
              "#bd3786"
             ],
             [
              0.5555555555555556,
              "#d8576b"
             ],
             [
              0.6666666666666666,
              "#ed7953"
             ],
             [
              0.7777777777777778,
              "#fb9f3a"
             ],
             [
              0.8888888888888888,
              "#fdca26"
             ],
             [
              1,
              "#f0f921"
             ]
            ],
            "type": "surface"
           }
          ],
          "table": [
           {
            "cells": {
             "fill": {
              "color": "#EBF0F8"
             },
             "line": {
              "color": "white"
             }
            },
            "header": {
             "fill": {
              "color": "#C8D4E3"
             },
             "line": {
              "color": "white"
             }
            },
            "type": "table"
           }
          ]
         },
         "layout": {
          "annotationdefaults": {
           "arrowcolor": "#2a3f5f",
           "arrowhead": 0,
           "arrowwidth": 1
          },
          "autotypenumbers": "strict",
          "coloraxis": {
           "colorbar": {
            "outlinewidth": 0,
            "ticks": ""
           }
          },
          "colorscale": {
           "diverging": [
            [
             0,
             "#8e0152"
            ],
            [
             0.1,
             "#c51b7d"
            ],
            [
             0.2,
             "#de77ae"
            ],
            [
             0.3,
             "#f1b6da"
            ],
            [
             0.4,
             "#fde0ef"
            ],
            [
             0.5,
             "#f7f7f7"
            ],
            [
             0.6,
             "#e6f5d0"
            ],
            [
             0.7,
             "#b8e186"
            ],
            [
             0.8,
             "#7fbc41"
            ],
            [
             0.9,
             "#4d9221"
            ],
            [
             1,
             "#276419"
            ]
           ],
           "sequential": [
            [
             0,
             "#0d0887"
            ],
            [
             0.1111111111111111,
             "#46039f"
            ],
            [
             0.2222222222222222,
             "#7201a8"
            ],
            [
             0.3333333333333333,
             "#9c179e"
            ],
            [
             0.4444444444444444,
             "#bd3786"
            ],
            [
             0.5555555555555556,
             "#d8576b"
            ],
            [
             0.6666666666666666,
             "#ed7953"
            ],
            [
             0.7777777777777778,
             "#fb9f3a"
            ],
            [
             0.8888888888888888,
             "#fdca26"
            ],
            [
             1,
             "#f0f921"
            ]
           ],
           "sequentialminus": [
            [
             0,
             "#0d0887"
            ],
            [
             0.1111111111111111,
             "#46039f"
            ],
            [
             0.2222222222222222,
             "#7201a8"
            ],
            [
             0.3333333333333333,
             "#9c179e"
            ],
            [
             0.4444444444444444,
             "#bd3786"
            ],
            [
             0.5555555555555556,
             "#d8576b"
            ],
            [
             0.6666666666666666,
             "#ed7953"
            ],
            [
             0.7777777777777778,
             "#fb9f3a"
            ],
            [
             0.8888888888888888,
             "#fdca26"
            ],
            [
             1,
             "#f0f921"
            ]
           ]
          },
          "colorway": [
           "#636efa",
           "#EF553B",
           "#00cc96",
           "#ab63fa",
           "#FFA15A",
           "#19d3f3",
           "#FF6692",
           "#B6E880",
           "#FF97FF",
           "#FECB52"
          ],
          "font": {
           "color": "#2a3f5f"
          },
          "geo": {
           "bgcolor": "white",
           "lakecolor": "white",
           "landcolor": "#E5ECF6",
           "showlakes": true,
           "showland": true,
           "subunitcolor": "white"
          },
          "hoverlabel": {
           "align": "left"
          },
          "hovermode": "closest",
          "mapbox": {
           "style": "light"
          },
          "paper_bgcolor": "white",
          "plot_bgcolor": "#E5ECF6",
          "polar": {
           "angularaxis": {
            "gridcolor": "white",
            "linecolor": "white",
            "ticks": ""
           },
           "bgcolor": "#E5ECF6",
           "radialaxis": {
            "gridcolor": "white",
            "linecolor": "white",
            "ticks": ""
           }
          },
          "scene": {
           "xaxis": {
            "backgroundcolor": "#E5ECF6",
            "gridcolor": "white",
            "gridwidth": 2,
            "linecolor": "white",
            "showbackground": true,
            "ticks": "",
            "zerolinecolor": "white"
           },
           "yaxis": {
            "backgroundcolor": "#E5ECF6",
            "gridcolor": "white",
            "gridwidth": 2,
            "linecolor": "white",
            "showbackground": true,
            "ticks": "",
            "zerolinecolor": "white"
           },
           "zaxis": {
            "backgroundcolor": "#E5ECF6",
            "gridcolor": "white",
            "gridwidth": 2,
            "linecolor": "white",
            "showbackground": true,
            "ticks": "",
            "zerolinecolor": "white"
           }
          },
          "shapedefaults": {
           "line": {
            "color": "#2a3f5f"
           }
          },
          "ternary": {
           "aaxis": {
            "gridcolor": "white",
            "linecolor": "white",
            "ticks": ""
           },
           "baxis": {
            "gridcolor": "white",
            "linecolor": "white",
            "ticks": ""
           },
           "bgcolor": "#E5ECF6",
           "caxis": {
            "gridcolor": "white",
            "linecolor": "white",
            "ticks": ""
           }
          },
          "title": {
           "x": 0.05
          },
          "xaxis": {
           "automargin": true,
           "gridcolor": "white",
           "linecolor": "white",
           "ticks": "",
           "title": {
            "standoff": 15
           },
           "zerolinecolor": "white",
           "zerolinewidth": 2
          },
          "yaxis": {
           "automargin": true,
           "gridcolor": "white",
           "linecolor": "white",
           "ticks": "",
           "title": {
            "standoff": 15
           },
           "zerolinecolor": "white",
           "zerolinewidth": 2
          }
         }
        },
        "xaxis": {
         "anchor": "y",
         "domain": [
          0,
          1
         ],
         "title": {
          "text": "nome_disciplina"
         }
        },
        "yaxis": {
         "anchor": "x",
         "domain": [
          0,
          1
         ],
         "title": {
          "text": "mediana"
         }
        }
       }
      }
     },
     "metadata": {},
     "output_type": "display_data"
    }
   ],
   "source": [
    "fig = px.bar(\n",
    "    mediana_disciplina,\n",
    "    x='nome_disciplina',\n",
    "    y='mediana',\n",
    "    title=\"\",\n",
    ")\n",
    "fig.show()"
   ]
  }
 ],
 "metadata": {
  "kernelspec": {
   "display_name": "Python 3",
   "language": "python",
   "name": "python3"
  },
  "language_info": {
   "codemirror_mode": {
    "name": "ipython",
    "version": 3
   },
   "file_extension": ".py",
   "mimetype": "text/x-python",
   "name": "python",
   "nbconvert_exporter": "python",
   "pygments_lexer": "ipython3",
   "version": "3.12.1"
  }
 },
 "nbformat": 4,
 "nbformat_minor": 2
}
