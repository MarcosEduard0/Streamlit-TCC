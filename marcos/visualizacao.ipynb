{
 "cells": [
  {
   "cell_type": "code",
   "execution_count": 2,
   "metadata": {},
   "outputs": [],
   "source": [
    "import pandas as pd\n",
    "import plotly.express as px"
   ]
  },
  {
   "cell_type": "code",
   "execution_count": 3,
   "metadata": {},
   "outputs": [
    {
     "name": "stderr",
     "output_type": "stream",
     "text": [
      "C:\\Users\\Marcos Eduardo\\AppData\\Local\\Temp\\ipykernel_2632\\1758028805.py:5: DtypeWarning: Columns (2) have mixed types. Specify dtype option on import or set low_memory=False.\n",
      "  F_DESEMPENHO_ACADEMICO = pd.read_csv(\"data/refined/f_desempenho_academico.csv\")\n",
      "C:\\Users\\Marcos Eduardo\\AppData\\Local\\Temp\\ipykernel_2632\\1758028805.py:7: DtypeWarning: Columns (6) have mixed types. Specify dtype option on import or set low_memory=False.\n",
      "  DF_TRATADO = pd.read_csv('data/trusted/arquivo_anonimizado.csv')\n"
     ]
    }
   ],
   "source": [
    "D_ALUNO = pd.read_csv(\"data/refined/d_aluno.csv\")\n",
    "D_CURSO = pd.read_csv(\"data/refined/d_curso.csv\")\n",
    "D_DISCIPLINA = pd.read_csv(\"data/refined/d_disciplina.csv\")\n",
    "D_PERIODO = pd.read_csv(\"data/refined/d_periodo.csv\")\n",
    "F_DESEMPENHO_ACADEMICO = pd.read_csv(\"data/refined/f_desempenho_academico.csv\")\n",
    "F_MATRICULA_ALUNO = pd.read_csv(\"data/refined/f_matricula_aluno.csv\")\n",
    "DF_TRATADO = pd.read_csv('data/trusted/arquivo_anonimizado.csv')"
   ]
  },
  {
   "cell_type": "markdown",
   "metadata": {},
   "source": [
    "# Alunos"
   ]
  },
  {
   "cell_type": "markdown",
   "metadata": {},
   "source": [
    "## Quantidade de Homens e Mulhres"
   ]
  },
  {
   "cell_type": "code",
   "execution_count": 24,
   "metadata": {},
   "outputs": [
    {
     "data": {
      "text/html": [
       "<div>\n",
       "<style scoped>\n",
       "    .dataframe tbody tr th:only-of-type {\n",
       "        vertical-align: middle;\n",
       "    }\n",
       "\n",
       "    .dataframe tbody tr th {\n",
       "        vertical-align: top;\n",
       "    }\n",
       "\n",
       "    .dataframe thead th {\n",
       "        text-align: right;\n",
       "    }\n",
       "</style>\n",
       "<table border=\"1\" class=\"dataframe\">\n",
       "  <thead>\n",
       "    <tr style=\"text-align: right;\">\n",
       "      <th></th>\n",
       "      <th>sk_d_aluno</th>\n",
       "      <th>nome_completo</th>\n",
       "      <th>matricula_dre</th>\n",
       "      <th>sexo</th>\n",
       "      <th>situacao_matricula</th>\n",
       "      <th>periodos_integralizados</th>\n",
       "      <th>carga_horaria_acumulada</th>\n",
       "      <th>periodo</th>\n",
       "      <th>ano</th>\n",
       "      <th>semestre</th>\n",
       "      <th>sk_d_curso</th>\n",
       "    </tr>\n",
       "  </thead>\n",
       "  <tbody>\n",
       "    <tr>\n",
       "      <th>851</th>\n",
       "      <td>f0cbba2470c7c8706fe77e8d88e947ed8c33100409ffb5...</td>\n",
       "      <td>Enzo Gabriel Barbosa</td>\n",
       "      <td>854</td>\n",
       "      <td>M</td>\n",
       "      <td>Ativa</td>\n",
       "      <td>3</td>\n",
       "      <td>2970</td>\n",
       "      <td>2022/1</td>\n",
       "      <td>2022</td>\n",
       "      <td>1</td>\n",
       "      <td>a80f5dd573274667573b525e0750e7915a3bc967190075...</td>\n",
       "    </tr>\n",
       "    <tr>\n",
       "      <th>1019</th>\n",
       "      <td>f00f2e7bca65e9f8409fdb3bcddfa031664224255d7bd2...</td>\n",
       "      <td>Kaique Barbosa</td>\n",
       "      <td>1022</td>\n",
       "      <td>M</td>\n",
       "      <td>Ativa</td>\n",
       "      <td>3</td>\n",
       "      <td>3060</td>\n",
       "      <td>2022/1</td>\n",
       "      <td>2022</td>\n",
       "      <td>1</td>\n",
       "      <td>a80f5dd573274667573b525e0750e7915a3bc967190075...</td>\n",
       "    </tr>\n",
       "    <tr>\n",
       "      <th>1140</th>\n",
       "      <td>28fdc24c9abb066ea7343dc47c79a7cce15a581bcb3000...</td>\n",
       "      <td>Maria Alice da Costa</td>\n",
       "      <td>1144</td>\n",
       "      <td>M</td>\n",
       "      <td>Ativa</td>\n",
       "      <td>3</td>\n",
       "      <td>2670</td>\n",
       "      <td>2022/1</td>\n",
       "      <td>2022</td>\n",
       "      <td>1</td>\n",
       "      <td>a80f5dd573274667573b525e0750e7915a3bc967190075...</td>\n",
       "    </tr>\n",
       "    <tr>\n",
       "      <th>1169</th>\n",
       "      <td>0e6801798cea548d4bdb92af10e38939f59af24c4558a4...</td>\n",
       "      <td>Srta. Isabella Jesus</td>\n",
       "      <td>1173</td>\n",
       "      <td>M</td>\n",
       "      <td>Ativa</td>\n",
       "      <td>2</td>\n",
       "      <td>3000</td>\n",
       "      <td>2022/1</td>\n",
       "      <td>2022</td>\n",
       "      <td>1</td>\n",
       "      <td>a80f5dd573274667573b525e0750e7915a3bc967190075...</td>\n",
       "    </tr>\n",
       "    <tr>\n",
       "      <th>1171</th>\n",
       "      <td>56626ff45dd863da4148044fe8f8dd459490a17b4fbb83...</td>\n",
       "      <td>Dr. Thales Lima</td>\n",
       "      <td>1175</td>\n",
       "      <td>M</td>\n",
       "      <td>Ativa</td>\n",
       "      <td>3</td>\n",
       "      <td>3060</td>\n",
       "      <td>2022/1</td>\n",
       "      <td>2022</td>\n",
       "      <td>1</td>\n",
       "      <td>a80f5dd573274667573b525e0750e7915a3bc967190075...</td>\n",
       "    </tr>\n",
       "    <tr>\n",
       "      <th>...</th>\n",
       "      <td>...</td>\n",
       "      <td>...</td>\n",
       "      <td>...</td>\n",
       "      <td>...</td>\n",
       "      <td>...</td>\n",
       "      <td>...</td>\n",
       "      <td>...</td>\n",
       "      <td>...</td>\n",
       "      <td>...</td>\n",
       "      <td>...</td>\n",
       "      <td>...</td>\n",
       "    </tr>\n",
       "    <tr>\n",
       "      <th>2762</th>\n",
       "      <td>3da16474e33b330b71e5b562cfcf7939bde3c12a08b746...</td>\n",
       "      <td>Enzo Gabriel da Cruz</td>\n",
       "      <td>2775</td>\n",
       "      <td>M</td>\n",
       "      <td>Ativa</td>\n",
       "      <td>1</td>\n",
       "      <td>420</td>\n",
       "      <td>2022/1</td>\n",
       "      <td>2022</td>\n",
       "      <td>1</td>\n",
       "      <td>4731a731e22171cf552cc83fe54a18bda1ce0bb144efa1...</td>\n",
       "    </tr>\n",
       "    <tr>\n",
       "      <th>2763</th>\n",
       "      <td>9b3cea3bd8789ba47cc969bff5914da7ebac8e0052e282...</td>\n",
       "      <td>Dr. João Pedro Vieira</td>\n",
       "      <td>2776</td>\n",
       "      <td>M</td>\n",
       "      <td>Ativa</td>\n",
       "      <td>1</td>\n",
       "      <td>420</td>\n",
       "      <td>2022/1</td>\n",
       "      <td>2022</td>\n",
       "      <td>1</td>\n",
       "      <td>4731a731e22171cf552cc83fe54a18bda1ce0bb144efa1...</td>\n",
       "    </tr>\n",
       "    <tr>\n",
       "      <th>2764</th>\n",
       "      <td>5a48eed290f62c93553855c36c964e1ef16603d23dcce3...</td>\n",
       "      <td>Gabriela Almeida</td>\n",
       "      <td>2777</td>\n",
       "      <td>M</td>\n",
       "      <td>Ativa</td>\n",
       "      <td>1</td>\n",
       "      <td>420</td>\n",
       "      <td>2022/1</td>\n",
       "      <td>2022</td>\n",
       "      <td>1</td>\n",
       "      <td>4731a731e22171cf552cc83fe54a18bda1ce0bb144efa1...</td>\n",
       "    </tr>\n",
       "    <tr>\n",
       "      <th>2765</th>\n",
       "      <td>a2541e84e912f4f5dd32ce131abdb6b1fdc9cf315790f1...</td>\n",
       "      <td>Lara Fogaça</td>\n",
       "      <td>2778</td>\n",
       "      <td>M</td>\n",
       "      <td>Ativa</td>\n",
       "      <td>1</td>\n",
       "      <td>420</td>\n",
       "      <td>2022/1</td>\n",
       "      <td>2022</td>\n",
       "      <td>1</td>\n",
       "      <td>4731a731e22171cf552cc83fe54a18bda1ce0bb144efa1...</td>\n",
       "    </tr>\n",
       "    <tr>\n",
       "      <th>2766</th>\n",
       "      <td>c333a75353784177f2394d1c4994cc98ff751dad713b4b...</td>\n",
       "      <td>Ana Vitória Monteiro</td>\n",
       "      <td>2779</td>\n",
       "      <td>M</td>\n",
       "      <td>Ativa</td>\n",
       "      <td>1</td>\n",
       "      <td>420</td>\n",
       "      <td>2022/1</td>\n",
       "      <td>2022</td>\n",
       "      <td>1</td>\n",
       "      <td>4731a731e22171cf552cc83fe54a18bda1ce0bb144efa1...</td>\n",
       "    </tr>\n",
       "  </tbody>\n",
       "</table>\n",
       "<p>650 rows × 11 columns</p>\n",
       "</div>"
      ],
      "text/plain": [
       "                                             sk_d_aluno  \\\n",
       "851   f0cbba2470c7c8706fe77e8d88e947ed8c33100409ffb5...   \n",
       "1019  f00f2e7bca65e9f8409fdb3bcddfa031664224255d7bd2...   \n",
       "1140  28fdc24c9abb066ea7343dc47c79a7cce15a581bcb3000...   \n",
       "1169  0e6801798cea548d4bdb92af10e38939f59af24c4558a4...   \n",
       "1171  56626ff45dd863da4148044fe8f8dd459490a17b4fbb83...   \n",
       "...                                                 ...   \n",
       "2762  3da16474e33b330b71e5b562cfcf7939bde3c12a08b746...   \n",
       "2763  9b3cea3bd8789ba47cc969bff5914da7ebac8e0052e282...   \n",
       "2764  5a48eed290f62c93553855c36c964e1ef16603d23dcce3...   \n",
       "2765  a2541e84e912f4f5dd32ce131abdb6b1fdc9cf315790f1...   \n",
       "2766  c333a75353784177f2394d1c4994cc98ff751dad713b4b...   \n",
       "\n",
       "              nome_completo  matricula_dre sexo situacao_matricula  \\\n",
       "851    Enzo Gabriel Barbosa            854    M              Ativa   \n",
       "1019         Kaique Barbosa           1022    M              Ativa   \n",
       "1140   Maria Alice da Costa           1144    M              Ativa   \n",
       "1169   Srta. Isabella Jesus           1173    M              Ativa   \n",
       "1171        Dr. Thales Lima           1175    M              Ativa   \n",
       "...                     ...            ...  ...                ...   \n",
       "2762   Enzo Gabriel da Cruz           2775    M              Ativa   \n",
       "2763  Dr. João Pedro Vieira           2776    M              Ativa   \n",
       "2764       Gabriela Almeida           2777    M              Ativa   \n",
       "2765            Lara Fogaça           2778    M              Ativa   \n",
       "2766   Ana Vitória Monteiro           2779    M              Ativa   \n",
       "\n",
       "      periodos_integralizados  carga_horaria_acumulada periodo   ano  \\\n",
       "851                         3                     2970  2022/1  2022   \n",
       "1019                        3                     3060  2022/1  2022   \n",
       "1140                        3                     2670  2022/1  2022   \n",
       "1169                        2                     3000  2022/1  2022   \n",
       "1171                        3                     3060  2022/1  2022   \n",
       "...                       ...                      ...     ...   ...   \n",
       "2762                        1                      420  2022/1  2022   \n",
       "2763                        1                      420  2022/1  2022   \n",
       "2764                        1                      420  2022/1  2022   \n",
       "2765                        1                      420  2022/1  2022   \n",
       "2766                        1                      420  2022/1  2022   \n",
       "\n",
       "      semestre                                         sk_d_curso  \n",
       "851          1  a80f5dd573274667573b525e0750e7915a3bc967190075...  \n",
       "1019         1  a80f5dd573274667573b525e0750e7915a3bc967190075...  \n",
       "1140         1  a80f5dd573274667573b525e0750e7915a3bc967190075...  \n",
       "1169         1  a80f5dd573274667573b525e0750e7915a3bc967190075...  \n",
       "1171         1  a80f5dd573274667573b525e0750e7915a3bc967190075...  \n",
       "...        ...                                                ...  \n",
       "2762         1  4731a731e22171cf552cc83fe54a18bda1ce0bb144efa1...  \n",
       "2763         1  4731a731e22171cf552cc83fe54a18bda1ce0bb144efa1...  \n",
       "2764         1  4731a731e22171cf552cc83fe54a18bda1ce0bb144efa1...  \n",
       "2765         1  4731a731e22171cf552cc83fe54a18bda1ce0bb144efa1...  \n",
       "2766         1  4731a731e22171cf552cc83fe54a18bda1ce0bb144efa1...  \n",
       "\n",
       "[650 rows x 11 columns]"
      ]
     },
     "execution_count": 24,
     "metadata": {},
     "output_type": "execute_result"
    },
    {
     "ename": "",
     "evalue": "",
     "output_type": "error",
     "traceback": [
      "\u001b[1;31mThe Kernel crashed while executing code in the current cell or a previous cell. \n",
      "\u001b[1;31mPlease review the code in the cell(s) to identify a possible cause of the failure. \n",
      "\u001b[1;31mClick <a href='https://aka.ms/vscodeJupyterKernelCrash'>here</a> for more info. \n",
      "\u001b[1;31mView Jupyter <a href='command:jupyter.viewOutput'>log</a> for further details."
     ]
    }
   ],
   "source": [
    "df_genero = pd.merge(D_ALUNO, F_MATRICULA_ALUNO, on='sk_d_aluno', how='inner')\n",
    "df_genero = df_genero[(df_genero['situacao_matricula'] == 'Ativa') & (df_genero['periodo'] == '2022/1')]\n",
    "df_genero =df_genero.groupby(['sexo']).size().reset_index(name='quantidade')\n",
    "df_genero.loc[len(df_genero)] = ['Ambos', df_genero['quantidade'].sum()]\n",
    "df_genero.set_index('sexo')['quantidade'].to_dict()"
   ]
  },
  {
   "cell_type": "markdown",
   "metadata": {},
   "source": [
    "## CRA por Periodo"
   ]
  },
  {
   "cell_type": "code",
   "execution_count": 94,
   "metadata": {},
   "outputs": [],
   "source": [
    "cra_periodo = pd.merge(D_PERIODO, F_DESEMPENHO_ACADEMICO, on='sk_d_periodo', how='inner')\n",
    "cra_periodo_filtrado = cra_periodo[(cra_periodo['periodo'].str.contains('/1')) | (cra_periodo['periodo'].str.contains('/2'))]\n",
    "cra_periodo_filtrado =cra_periodo_filtrado.groupby(['periodo'])['cr_acumulado'].mean().reset_index(name='cr_acumulado')"
   ]
  },
  {
   "cell_type": "markdown",
   "metadata": {},
   "source": [
    "## Quantidade de alunos que Evadiram, Trancaram e Concluiram"
   ]
  },
  {
   "cell_type": "code",
   "execution_count": 41,
   "metadata": {},
   "outputs": [],
   "source": [
    "situacao_aluno = pd.merge(D_ALUNO, F_MATRICULA_ALUNO, on='sk_d_aluno', how='inner')"
   ]
  },
  {
   "cell_type": "code",
   "execution_count": 42,
   "metadata": {},
   "outputs": [],
   "source": [
    "situacao = situacao_aluno.groupby(['situacao_matricula', 'periodo']).size().reset_index(name='quantidade')\n",
    "situacao_filtrada = situacao[(situacao['periodo'].str.contains('/1')) | (situacao['periodo'].str.contains('/2'))]\n",
    "situacao_filtrada = situacao_filtrada.sort_values('periodo')"
   ]
  },
  {
   "cell_type": "code",
   "execution_count": 43,
   "metadata": {},
   "outputs": [
    {
     "data": {
      "application/vnd.plotly.v1+json": {
       "config": {
        "plotlyServerURL": "https://plot.ly"
       },
       "data": [
        {
         "alignmentgroup": "True",
         "hovertemplate": "situacao_matricula=Cancelada<br>periodo=%{x}<br>quantidade=%{y}<extra></extra>",
         "legendgroup": "Cancelada",
         "marker": {
          "color": "#636efa",
          "pattern": {
           "shape": ""
          }
         },
         "name": "Cancelada",
         "offsetgroup": "Cancelada",
         "orientation": "v",
         "showlegend": true,
         "textposition": "auto",
         "type": "bar",
         "x": [
          "2000/1",
          "2000/2",
          "2001/1",
          "2001/2",
          "2002/1",
          "2002/2",
          "2003/1",
          "2003/2",
          "2004/1",
          "2004/2",
          "2005/1",
          "2005/2",
          "2006/1",
          "2006/2",
          "2007/1",
          "2007/2",
          "2008/1",
          "2008/2",
          "2009/1",
          "2009/2",
          "2010/1",
          "2010/2",
          "2011/1",
          "2011/2",
          "2012/1",
          "2012/2",
          "2013/1",
          "2013/2",
          "2014/1",
          "2014/2",
          "2015/1",
          "2015/2",
          "2016/1",
          "2016/2",
          "2017/1",
          "2017/2",
          "2018/1",
          "2018/2",
          "2019/1",
          "2019/2",
          "2020/1",
          "2020/2",
          "2021/1",
          "2021/2",
          "2022/1"
         ],
         "xaxis": "x",
         "y": [
          3,
          8,
          21,
          30,
          12,
          14,
          14,
          22,
          14,
          17,
          25,
          25,
          19,
          21,
          25,
          23,
          35,
          34,
          34,
          67,
          31,
          43,
          22,
          32,
          26,
          21,
          20,
          23,
          36,
          35,
          21,
          24,
          36,
          19,
          39,
          34,
          28,
          29,
          10,
          12,
          5,
          7,
          7,
          4,
          2
         ],
         "yaxis": "y"
        },
        {
         "alignmentgroup": "True",
         "hovertemplate": "situacao_matricula=Concluido<br>periodo=%{x}<br>quantidade=%{y}<extra></extra>",
         "legendgroup": "Concluido",
         "marker": {
          "color": "#EF553B",
          "pattern": {
           "shape": ""
          }
         },
         "name": "Concluido",
         "offsetgroup": "Concluido",
         "orientation": "v",
         "showlegend": true,
         "textposition": "auto",
         "type": "bar",
         "x": [
          "2004/1",
          "2004/2",
          "2005/1",
          "2005/2",
          "2006/1",
          "2006/2",
          "2007/1",
          "2007/2",
          "2008/1",
          "2008/2",
          "2009/1",
          "2009/2",
          "2010/1",
          "2010/2",
          "2011/1",
          "2011/2",
          "2012/1",
          "2012/2",
          "2013/1",
          "2013/2",
          "2014/1",
          "2014/2",
          "2015/1",
          "2015/2",
          "2016/1",
          "2016/2",
          "2017/1",
          "2017/2",
          "2018/1",
          "2018/2",
          "2019/1",
          "2019/2",
          "2020/1",
          "2020/2",
          "2021/1",
          "2021/2"
         ],
         "xaxis": "x",
         "y": [
          6,
          14,
          17,
          24,
          15,
          28,
          28,
          35,
          31,
          30,
          30,
          52,
          38,
          45,
          29,
          34,
          35,
          34,
          27,
          26,
          21,
          36,
          12,
          25,
          10,
          24,
          14,
          24,
          20,
          21,
          28,
          21,
          25,
          20,
          16,
          13
         ],
         "yaxis": "y"
        },
        {
         "alignmentgroup": "True",
         "hovertemplate": "situacao_matricula=Trancada<br>periodo=%{x}<br>quantidade=%{y}<extra></extra>",
         "legendgroup": "Trancada",
         "marker": {
          "color": "#00cc96",
          "pattern": {
           "shape": ""
          }
         },
         "name": "Trancada",
         "offsetgroup": "Trancada",
         "orientation": "v",
         "showlegend": true,
         "textposition": "auto",
         "type": "bar",
         "x": [
          "2017/1",
          "2017/2",
          "2018/2",
          "2019/1",
          "2019/2",
          "2020/1",
          "2020/2",
          "2021/1",
          "2021/2"
         ],
         "xaxis": "x",
         "y": [
          1,
          1,
          9,
          16,
          33,
          30,
          9,
          26,
          41
         ],
         "yaxis": "y"
        },
        {
         "alignmentgroup": "True",
         "hovertemplate": "situacao_matricula=Ativa<br>periodo=%{x}<br>quantidade=%{y}<extra></extra>",
         "legendgroup": "Ativa",
         "marker": {
          "color": "#ab63fa",
          "pattern": {
           "shape": ""
          }
         },
         "name": "Ativa",
         "offsetgroup": "Ativa",
         "orientation": "v",
         "showlegend": true,
         "textposition": "auto",
         "type": "bar",
         "x": [
          "2022/1",
          "2022/2"
         ],
         "xaxis": "x",
         "y": [
          642,
          8
         ],
         "yaxis": "y"
        }
       ],
       "layout": {
        "barmode": "relative",
        "legend": {
         "title": {
          "text": "situacao_matricula"
         },
         "tracegroupgap": 0
        },
        "template": {
         "data": {
          "bar": [
           {
            "error_x": {
             "color": "#2a3f5f"
            },
            "error_y": {
             "color": "#2a3f5f"
            },
            "marker": {
             "line": {
              "color": "#E5ECF6",
              "width": 0.5
             },
             "pattern": {
              "fillmode": "overlay",
              "size": 10,
              "solidity": 0.2
             }
            },
            "type": "bar"
           }
          ],
          "barpolar": [
           {
            "marker": {
             "line": {
              "color": "#E5ECF6",
              "width": 0.5
             },
             "pattern": {
              "fillmode": "overlay",
              "size": 10,
              "solidity": 0.2
             }
            },
            "type": "barpolar"
           }
          ],
          "carpet": [
           {
            "aaxis": {
             "endlinecolor": "#2a3f5f",
             "gridcolor": "white",
             "linecolor": "white",
             "minorgridcolor": "white",
             "startlinecolor": "#2a3f5f"
            },
            "baxis": {
             "endlinecolor": "#2a3f5f",
             "gridcolor": "white",
             "linecolor": "white",
             "minorgridcolor": "white",
             "startlinecolor": "#2a3f5f"
            },
            "type": "carpet"
           }
          ],
          "choropleth": [
           {
            "colorbar": {
             "outlinewidth": 0,
             "ticks": ""
            },
            "type": "choropleth"
           }
          ],
          "contour": [
           {
            "colorbar": {
             "outlinewidth": 0,
             "ticks": ""
            },
            "colorscale": [
             [
              0,
              "#0d0887"
             ],
             [
              0.1111111111111111,
              "#46039f"
             ],
             [
              0.2222222222222222,
              "#7201a8"
             ],
             [
              0.3333333333333333,
              "#9c179e"
             ],
             [
              0.4444444444444444,
              "#bd3786"
             ],
             [
              0.5555555555555556,
              "#d8576b"
             ],
             [
              0.6666666666666666,
              "#ed7953"
             ],
             [
              0.7777777777777778,
              "#fb9f3a"
             ],
             [
              0.8888888888888888,
              "#fdca26"
             ],
             [
              1,
              "#f0f921"
             ]
            ],
            "type": "contour"
           }
          ],
          "contourcarpet": [
           {
            "colorbar": {
             "outlinewidth": 0,
             "ticks": ""
            },
            "type": "contourcarpet"
           }
          ],
          "heatmap": [
           {
            "colorbar": {
             "outlinewidth": 0,
             "ticks": ""
            },
            "colorscale": [
             [
              0,
              "#0d0887"
             ],
             [
              0.1111111111111111,
              "#46039f"
             ],
             [
              0.2222222222222222,
              "#7201a8"
             ],
             [
              0.3333333333333333,
              "#9c179e"
             ],
             [
              0.4444444444444444,
              "#bd3786"
             ],
             [
              0.5555555555555556,
              "#d8576b"
             ],
             [
              0.6666666666666666,
              "#ed7953"
             ],
             [
              0.7777777777777778,
              "#fb9f3a"
             ],
             [
              0.8888888888888888,
              "#fdca26"
             ],
             [
              1,
              "#f0f921"
             ]
            ],
            "type": "heatmap"
           }
          ],
          "heatmapgl": [
           {
            "colorbar": {
             "outlinewidth": 0,
             "ticks": ""
            },
            "colorscale": [
             [
              0,
              "#0d0887"
             ],
             [
              0.1111111111111111,
              "#46039f"
             ],
             [
              0.2222222222222222,
              "#7201a8"
             ],
             [
              0.3333333333333333,
              "#9c179e"
             ],
             [
              0.4444444444444444,
              "#bd3786"
             ],
             [
              0.5555555555555556,
              "#d8576b"
             ],
             [
              0.6666666666666666,
              "#ed7953"
             ],
             [
              0.7777777777777778,
              "#fb9f3a"
             ],
             [
              0.8888888888888888,
              "#fdca26"
             ],
             [
              1,
              "#f0f921"
             ]
            ],
            "type": "heatmapgl"
           }
          ],
          "histogram": [
           {
            "marker": {
             "pattern": {
              "fillmode": "overlay",
              "size": 10,
              "solidity": 0.2
             }
            },
            "type": "histogram"
           }
          ],
          "histogram2d": [
           {
            "colorbar": {
             "outlinewidth": 0,
             "ticks": ""
            },
            "colorscale": [
             [
              0,
              "#0d0887"
             ],
             [
              0.1111111111111111,
              "#46039f"
             ],
             [
              0.2222222222222222,
              "#7201a8"
             ],
             [
              0.3333333333333333,
              "#9c179e"
             ],
             [
              0.4444444444444444,
              "#bd3786"
             ],
             [
              0.5555555555555556,
              "#d8576b"
             ],
             [
              0.6666666666666666,
              "#ed7953"
             ],
             [
              0.7777777777777778,
              "#fb9f3a"
             ],
             [
              0.8888888888888888,
              "#fdca26"
             ],
             [
              1,
              "#f0f921"
             ]
            ],
            "type": "histogram2d"
           }
          ],
          "histogram2dcontour": [
           {
            "colorbar": {
             "outlinewidth": 0,
             "ticks": ""
            },
            "colorscale": [
             [
              0,
              "#0d0887"
             ],
             [
              0.1111111111111111,
              "#46039f"
             ],
             [
              0.2222222222222222,
              "#7201a8"
             ],
             [
              0.3333333333333333,
              "#9c179e"
             ],
             [
              0.4444444444444444,
              "#bd3786"
             ],
             [
              0.5555555555555556,
              "#d8576b"
             ],
             [
              0.6666666666666666,
              "#ed7953"
             ],
             [
              0.7777777777777778,
              "#fb9f3a"
             ],
             [
              0.8888888888888888,
              "#fdca26"
             ],
             [
              1,
              "#f0f921"
             ]
            ],
            "type": "histogram2dcontour"
           }
          ],
          "mesh3d": [
           {
            "colorbar": {
             "outlinewidth": 0,
             "ticks": ""
            },
            "type": "mesh3d"
           }
          ],
          "parcoords": [
           {
            "line": {
             "colorbar": {
              "outlinewidth": 0,
              "ticks": ""
             }
            },
            "type": "parcoords"
           }
          ],
          "pie": [
           {
            "automargin": true,
            "type": "pie"
           }
          ],
          "scatter": [
           {
            "fillpattern": {
             "fillmode": "overlay",
             "size": 10,
             "solidity": 0.2
            },
            "type": "scatter"
           }
          ],
          "scatter3d": [
           {
            "line": {
             "colorbar": {
              "outlinewidth": 0,
              "ticks": ""
             }
            },
            "marker": {
             "colorbar": {
              "outlinewidth": 0,
              "ticks": ""
             }
            },
            "type": "scatter3d"
           }
          ],
          "scattercarpet": [
           {
            "marker": {
             "colorbar": {
              "outlinewidth": 0,
              "ticks": ""
             }
            },
            "type": "scattercarpet"
           }
          ],
          "scattergeo": [
           {
            "marker": {
             "colorbar": {
              "outlinewidth": 0,
              "ticks": ""
             }
            },
            "type": "scattergeo"
           }
          ],
          "scattergl": [
           {
            "marker": {
             "colorbar": {
              "outlinewidth": 0,
              "ticks": ""
             }
            },
            "type": "scattergl"
           }
          ],
          "scattermapbox": [
           {
            "marker": {
             "colorbar": {
              "outlinewidth": 0,
              "ticks": ""
             }
            },
            "type": "scattermapbox"
           }
          ],
          "scatterpolar": [
           {
            "marker": {
             "colorbar": {
              "outlinewidth": 0,
              "ticks": ""
             }
            },
            "type": "scatterpolar"
           }
          ],
          "scatterpolargl": [
           {
            "marker": {
             "colorbar": {
              "outlinewidth": 0,
              "ticks": ""
             }
            },
            "type": "scatterpolargl"
           }
          ],
          "scatterternary": [
           {
            "marker": {
             "colorbar": {
              "outlinewidth": 0,
              "ticks": ""
             }
            },
            "type": "scatterternary"
           }
          ],
          "surface": [
           {
            "colorbar": {
             "outlinewidth": 0,
             "ticks": ""
            },
            "colorscale": [
             [
              0,
              "#0d0887"
             ],
             [
              0.1111111111111111,
              "#46039f"
             ],
             [
              0.2222222222222222,
              "#7201a8"
             ],
             [
              0.3333333333333333,
              "#9c179e"
             ],
             [
              0.4444444444444444,
              "#bd3786"
             ],
             [
              0.5555555555555556,
              "#d8576b"
             ],
             [
              0.6666666666666666,
              "#ed7953"
             ],
             [
              0.7777777777777778,
              "#fb9f3a"
             ],
             [
              0.8888888888888888,
              "#fdca26"
             ],
             [
              1,
              "#f0f921"
             ]
            ],
            "type": "surface"
           }
          ],
          "table": [
           {
            "cells": {
             "fill": {
              "color": "#EBF0F8"
             },
             "line": {
              "color": "white"
             }
            },
            "header": {
             "fill": {
              "color": "#C8D4E3"
             },
             "line": {
              "color": "white"
             }
            },
            "type": "table"
           }
          ]
         },
         "layout": {
          "annotationdefaults": {
           "arrowcolor": "#2a3f5f",
           "arrowhead": 0,
           "arrowwidth": 1
          },
          "autotypenumbers": "strict",
          "coloraxis": {
           "colorbar": {
            "outlinewidth": 0,
            "ticks": ""
           }
          },
          "colorscale": {
           "diverging": [
            [
             0,
             "#8e0152"
            ],
            [
             0.1,
             "#c51b7d"
            ],
            [
             0.2,
             "#de77ae"
            ],
            [
             0.3,
             "#f1b6da"
            ],
            [
             0.4,
             "#fde0ef"
            ],
            [
             0.5,
             "#f7f7f7"
            ],
            [
             0.6,
             "#e6f5d0"
            ],
            [
             0.7,
             "#b8e186"
            ],
            [
             0.8,
             "#7fbc41"
            ],
            [
             0.9,
             "#4d9221"
            ],
            [
             1,
             "#276419"
            ]
           ],
           "sequential": [
            [
             0,
             "#0d0887"
            ],
            [
             0.1111111111111111,
             "#46039f"
            ],
            [
             0.2222222222222222,
             "#7201a8"
            ],
            [
             0.3333333333333333,
             "#9c179e"
            ],
            [
             0.4444444444444444,
             "#bd3786"
            ],
            [
             0.5555555555555556,
             "#d8576b"
            ],
            [
             0.6666666666666666,
             "#ed7953"
            ],
            [
             0.7777777777777778,
             "#fb9f3a"
            ],
            [
             0.8888888888888888,
             "#fdca26"
            ],
            [
             1,
             "#f0f921"
            ]
           ],
           "sequentialminus": [
            [
             0,
             "#0d0887"
            ],
            [
             0.1111111111111111,
             "#46039f"
            ],
            [
             0.2222222222222222,
             "#7201a8"
            ],
            [
             0.3333333333333333,
             "#9c179e"
            ],
            [
             0.4444444444444444,
             "#bd3786"
            ],
            [
             0.5555555555555556,
             "#d8576b"
            ],
            [
             0.6666666666666666,
             "#ed7953"
            ],
            [
             0.7777777777777778,
             "#fb9f3a"
            ],
            [
             0.8888888888888888,
             "#fdca26"
            ],
            [
             1,
             "#f0f921"
            ]
           ]
          },
          "colorway": [
           "#636efa",
           "#EF553B",
           "#00cc96",
           "#ab63fa",
           "#FFA15A",
           "#19d3f3",
           "#FF6692",
           "#B6E880",
           "#FF97FF",
           "#FECB52"
          ],
          "font": {
           "color": "#2a3f5f"
          },
          "geo": {
           "bgcolor": "white",
           "lakecolor": "white",
           "landcolor": "#E5ECF6",
           "showlakes": true,
           "showland": true,
           "subunitcolor": "white"
          },
          "hoverlabel": {
           "align": "left"
          },
          "hovermode": "closest",
          "mapbox": {
           "style": "light"
          },
          "paper_bgcolor": "white",
          "plot_bgcolor": "#E5ECF6",
          "polar": {
           "angularaxis": {
            "gridcolor": "white",
            "linecolor": "white",
            "ticks": ""
           },
           "bgcolor": "#E5ECF6",
           "radialaxis": {
            "gridcolor": "white",
            "linecolor": "white",
            "ticks": ""
           }
          },
          "scene": {
           "xaxis": {
            "backgroundcolor": "#E5ECF6",
            "gridcolor": "white",
            "gridwidth": 2,
            "linecolor": "white",
            "showbackground": true,
            "ticks": "",
            "zerolinecolor": "white"
           },
           "yaxis": {
            "backgroundcolor": "#E5ECF6",
            "gridcolor": "white",
            "gridwidth": 2,
            "linecolor": "white",
            "showbackground": true,
            "ticks": "",
            "zerolinecolor": "white"
           },
           "zaxis": {
            "backgroundcolor": "#E5ECF6",
            "gridcolor": "white",
            "gridwidth": 2,
            "linecolor": "white",
            "showbackground": true,
            "ticks": "",
            "zerolinecolor": "white"
           }
          },
          "shapedefaults": {
           "line": {
            "color": "#2a3f5f"
           }
          },
          "ternary": {
           "aaxis": {
            "gridcolor": "white",
            "linecolor": "white",
            "ticks": ""
           },
           "baxis": {
            "gridcolor": "white",
            "linecolor": "white",
            "ticks": ""
           },
           "bgcolor": "#E5ECF6",
           "caxis": {
            "gridcolor": "white",
            "linecolor": "white",
            "ticks": ""
           }
          },
          "title": {
           "x": 0.05
          },
          "xaxis": {
           "automargin": true,
           "gridcolor": "white",
           "linecolor": "white",
           "ticks": "",
           "title": {
            "standoff": 15
           },
           "zerolinecolor": "white",
           "zerolinewidth": 2
          },
          "yaxis": {
           "automargin": true,
           "gridcolor": "white",
           "linecolor": "white",
           "ticks": "",
           "title": {
            "standoff": 15
           },
           "zerolinecolor": "white",
           "zerolinewidth": 2
          }
         }
        },
        "title": {
         "text": "Quantidade de Evasão"
        },
        "xaxis": {
         "anchor": "y",
         "domain": [
          0,
          1
         ],
         "title": {
          "text": "periodo"
         }
        },
        "yaxis": {
         "anchor": "x",
         "domain": [
          0,
          1
         ],
         "title": {
          "text": "quantidade"
         }
        }
       }
      }
     },
     "metadata": {},
     "output_type": "display_data"
    }
   ],
   "source": [
    "fig = px.bar(situacao_filtrada, x=\"periodo\", y=\"quantidade\", title='Quantidade de Evasão', color='situacao_matricula')\n",
    "fig.show()"
   ]
  },
  {
   "cell_type": "markdown",
   "metadata": {},
   "source": [
    "## Quantidade de Reprovações"
   ]
  },
  {
   "cell_type": "code",
   "execution_count": 77,
   "metadata": {},
   "outputs": [],
   "source": [
    "situacao_disciplina = pd.merge(D_DISCIPLINA, F_DESEMPENHO_ACADEMICO, on='sk_d_disciplina', how='inner')\n",
    "situacao_disciplina = pd.merge(D_PERIODO, situacao_disciplina, on='sk_d_periodo', how='inner')\n",
    "situacao_disciplina = situacao_disciplina.groupby(['nome_disciplina', 'situacao_disciplina']).size().reset_index(name='quantidade')\n",
    "situacao_disciplina_sorted = situacao_disciplina.sort_values('quantidade', ascending=False)"
   ]
  },
  {
   "cell_type": "code",
   "execution_count": 78,
   "metadata": {},
   "outputs": [
    {
     "data": {
      "text/plain": [
       "array(['Aprovado', 'Reprovadomedia', 'Reprfalta/media', 'Grauincompleto',\n",
       "       'Reprovadofaltas', 'Naoapto'], dtype=object)"
      ]
     },
     "execution_count": 78,
     "metadata": {},
     "output_type": "execute_result"
    }
   ],
   "source": [
    "situacao_disciplina['situacao_disciplina'].unique()"
   ]
  },
  {
   "cell_type": "code",
   "execution_count": 81,
   "metadata": {},
   "outputs": [
    {
     "data": {
      "application/vnd.plotly.v1+json": {
       "config": {
        "plotlyServerURL": "https://plot.ly"
       },
       "data": [
        {
         "alignmentgroup": "True",
         "hovertemplate": "nome_disciplina=%{x}<br>quantidade=%{y}<extra></extra>",
         "legendgroup": "",
         "marker": {
          "color": "#636efa",
          "pattern": {
           "shape": ""
          }
         },
         "name": "",
         "offsetgroup": "",
         "orientation": "v",
         "showlegend": false,
         "textposition": "auto",
         "type": "bar",
         "x": [
          "Fund da Computação Digital",
          "Números Inteiros Criptografia",
          "Cálculo Infinitesimal I",
          "Circuitos Lógicos",
          "Matemática Combinatória",
          "Computadores e Sociedade",
          "Linguagens Formais",
          "Computadores e Programação",
          "Algoritmos e Grafos",
          "Banco de Dados I",
          "Arquitetura de Computadores I",
          "Compiladores I",
          "Lógica",
          "Fund da Engenharia de Software",
          "Sistemas de Informação",
          "Estatística e Probabilidade",
          "Computação Gráfica I",
          "Programação Linear I",
          "Sistemas Operacionais I",
          "Computação I (CC)"
         ],
         "xaxis": "x",
         "y": [
          2170,
          2008,
          1940,
          1874,
          1775,
          1570,
          1522,
          1446,
          1390,
          1374,
          1348,
          1308,
          1304,
          1303,
          1299,
          1294,
          1236,
          1235,
          1234,
          1192
         ],
         "yaxis": "y"
        }
       ],
       "layout": {
        "barmode": "relative",
        "legend": {
         "tracegroupgap": 0
        },
        "template": {
         "data": {
          "bar": [
           {
            "error_x": {
             "color": "#2a3f5f"
            },
            "error_y": {
             "color": "#2a3f5f"
            },
            "marker": {
             "line": {
              "color": "#E5ECF6",
              "width": 0.5
             },
             "pattern": {
              "fillmode": "overlay",
              "size": 10,
              "solidity": 0.2
             }
            },
            "type": "bar"
           }
          ],
          "barpolar": [
           {
            "marker": {
             "line": {
              "color": "#E5ECF6",
              "width": 0.5
             },
             "pattern": {
              "fillmode": "overlay",
              "size": 10,
              "solidity": 0.2
             }
            },
            "type": "barpolar"
           }
          ],
          "carpet": [
           {
            "aaxis": {
             "endlinecolor": "#2a3f5f",
             "gridcolor": "white",
             "linecolor": "white",
             "minorgridcolor": "white",
             "startlinecolor": "#2a3f5f"
            },
            "baxis": {
             "endlinecolor": "#2a3f5f",
             "gridcolor": "white",
             "linecolor": "white",
             "minorgridcolor": "white",
             "startlinecolor": "#2a3f5f"
            },
            "type": "carpet"
           }
          ],
          "choropleth": [
           {
            "colorbar": {
             "outlinewidth": 0,
             "ticks": ""
            },
            "type": "choropleth"
           }
          ],
          "contour": [
           {
            "colorbar": {
             "outlinewidth": 0,
             "ticks": ""
            },
            "colorscale": [
             [
              0,
              "#0d0887"
             ],
             [
              0.1111111111111111,
              "#46039f"
             ],
             [
              0.2222222222222222,
              "#7201a8"
             ],
             [
              0.3333333333333333,
              "#9c179e"
             ],
             [
              0.4444444444444444,
              "#bd3786"
             ],
             [
              0.5555555555555556,
              "#d8576b"
             ],
             [
              0.6666666666666666,
              "#ed7953"
             ],
             [
              0.7777777777777778,
              "#fb9f3a"
             ],
             [
              0.8888888888888888,
              "#fdca26"
             ],
             [
              1,
              "#f0f921"
             ]
            ],
            "type": "contour"
           }
          ],
          "contourcarpet": [
           {
            "colorbar": {
             "outlinewidth": 0,
             "ticks": ""
            },
            "type": "contourcarpet"
           }
          ],
          "heatmap": [
           {
            "colorbar": {
             "outlinewidth": 0,
             "ticks": ""
            },
            "colorscale": [
             [
              0,
              "#0d0887"
             ],
             [
              0.1111111111111111,
              "#46039f"
             ],
             [
              0.2222222222222222,
              "#7201a8"
             ],
             [
              0.3333333333333333,
              "#9c179e"
             ],
             [
              0.4444444444444444,
              "#bd3786"
             ],
             [
              0.5555555555555556,
              "#d8576b"
             ],
             [
              0.6666666666666666,
              "#ed7953"
             ],
             [
              0.7777777777777778,
              "#fb9f3a"
             ],
             [
              0.8888888888888888,
              "#fdca26"
             ],
             [
              1,
              "#f0f921"
             ]
            ],
            "type": "heatmap"
           }
          ],
          "heatmapgl": [
           {
            "colorbar": {
             "outlinewidth": 0,
             "ticks": ""
            },
            "colorscale": [
             [
              0,
              "#0d0887"
             ],
             [
              0.1111111111111111,
              "#46039f"
             ],
             [
              0.2222222222222222,
              "#7201a8"
             ],
             [
              0.3333333333333333,
              "#9c179e"
             ],
             [
              0.4444444444444444,
              "#bd3786"
             ],
             [
              0.5555555555555556,
              "#d8576b"
             ],
             [
              0.6666666666666666,
              "#ed7953"
             ],
             [
              0.7777777777777778,
              "#fb9f3a"
             ],
             [
              0.8888888888888888,
              "#fdca26"
             ],
             [
              1,
              "#f0f921"
             ]
            ],
            "type": "heatmapgl"
           }
          ],
          "histogram": [
           {
            "marker": {
             "pattern": {
              "fillmode": "overlay",
              "size": 10,
              "solidity": 0.2
             }
            },
            "type": "histogram"
           }
          ],
          "histogram2d": [
           {
            "colorbar": {
             "outlinewidth": 0,
             "ticks": ""
            },
            "colorscale": [
             [
              0,
              "#0d0887"
             ],
             [
              0.1111111111111111,
              "#46039f"
             ],
             [
              0.2222222222222222,
              "#7201a8"
             ],
             [
              0.3333333333333333,
              "#9c179e"
             ],
             [
              0.4444444444444444,
              "#bd3786"
             ],
             [
              0.5555555555555556,
              "#d8576b"
             ],
             [
              0.6666666666666666,
              "#ed7953"
             ],
             [
              0.7777777777777778,
              "#fb9f3a"
             ],
             [
              0.8888888888888888,
              "#fdca26"
             ],
             [
              1,
              "#f0f921"
             ]
            ],
            "type": "histogram2d"
           }
          ],
          "histogram2dcontour": [
           {
            "colorbar": {
             "outlinewidth": 0,
             "ticks": ""
            },
            "colorscale": [
             [
              0,
              "#0d0887"
             ],
             [
              0.1111111111111111,
              "#46039f"
             ],
             [
              0.2222222222222222,
              "#7201a8"
             ],
             [
              0.3333333333333333,
              "#9c179e"
             ],
             [
              0.4444444444444444,
              "#bd3786"
             ],
             [
              0.5555555555555556,
              "#d8576b"
             ],
             [
              0.6666666666666666,
              "#ed7953"
             ],
             [
              0.7777777777777778,
              "#fb9f3a"
             ],
             [
              0.8888888888888888,
              "#fdca26"
             ],
             [
              1,
              "#f0f921"
             ]
            ],
            "type": "histogram2dcontour"
           }
          ],
          "mesh3d": [
           {
            "colorbar": {
             "outlinewidth": 0,
             "ticks": ""
            },
            "type": "mesh3d"
           }
          ],
          "parcoords": [
           {
            "line": {
             "colorbar": {
              "outlinewidth": 0,
              "ticks": ""
             }
            },
            "type": "parcoords"
           }
          ],
          "pie": [
           {
            "automargin": true,
            "type": "pie"
           }
          ],
          "scatter": [
           {
            "fillpattern": {
             "fillmode": "overlay",
             "size": 10,
             "solidity": 0.2
            },
            "type": "scatter"
           }
          ],
          "scatter3d": [
           {
            "line": {
             "colorbar": {
              "outlinewidth": 0,
              "ticks": ""
             }
            },
            "marker": {
             "colorbar": {
              "outlinewidth": 0,
              "ticks": ""
             }
            },
            "type": "scatter3d"
           }
          ],
          "scattercarpet": [
           {
            "marker": {
             "colorbar": {
              "outlinewidth": 0,
              "ticks": ""
             }
            },
            "type": "scattercarpet"
           }
          ],
          "scattergeo": [
           {
            "marker": {
             "colorbar": {
              "outlinewidth": 0,
              "ticks": ""
             }
            },
            "type": "scattergeo"
           }
          ],
          "scattergl": [
           {
            "marker": {
             "colorbar": {
              "outlinewidth": 0,
              "ticks": ""
             }
            },
            "type": "scattergl"
           }
          ],
          "scattermapbox": [
           {
            "marker": {
             "colorbar": {
              "outlinewidth": 0,
              "ticks": ""
             }
            },
            "type": "scattermapbox"
           }
          ],
          "scatterpolar": [
           {
            "marker": {
             "colorbar": {
              "outlinewidth": 0,
              "ticks": ""
             }
            },
            "type": "scatterpolar"
           }
          ],
          "scatterpolargl": [
           {
            "marker": {
             "colorbar": {
              "outlinewidth": 0,
              "ticks": ""
             }
            },
            "type": "scatterpolargl"
           }
          ],
          "scatterternary": [
           {
            "marker": {
             "colorbar": {
              "outlinewidth": 0,
              "ticks": ""
             }
            },
            "type": "scatterternary"
           }
          ],
          "surface": [
           {
            "colorbar": {
             "outlinewidth": 0,
             "ticks": ""
            },
            "colorscale": [
             [
              0,
              "#0d0887"
             ],
             [
              0.1111111111111111,
              "#46039f"
             ],
             [
              0.2222222222222222,
              "#7201a8"
             ],
             [
              0.3333333333333333,
              "#9c179e"
             ],
             [
              0.4444444444444444,
              "#bd3786"
             ],
             [
              0.5555555555555556,
              "#d8576b"
             ],
             [
              0.6666666666666666,
              "#ed7953"
             ],
             [
              0.7777777777777778,
              "#fb9f3a"
             ],
             [
              0.8888888888888888,
              "#fdca26"
             ],
             [
              1,
              "#f0f921"
             ]
            ],
            "type": "surface"
           }
          ],
          "table": [
           {
            "cells": {
             "fill": {
              "color": "#EBF0F8"
             },
             "line": {
              "color": "white"
             }
            },
            "header": {
             "fill": {
              "color": "#C8D4E3"
             },
             "line": {
              "color": "white"
             }
            },
            "type": "table"
           }
          ]
         },
         "layout": {
          "annotationdefaults": {
           "arrowcolor": "#2a3f5f",
           "arrowhead": 0,
           "arrowwidth": 1
          },
          "autotypenumbers": "strict",
          "coloraxis": {
           "colorbar": {
            "outlinewidth": 0,
            "ticks": ""
           }
          },
          "colorscale": {
           "diverging": [
            [
             0,
             "#8e0152"
            ],
            [
             0.1,
             "#c51b7d"
            ],
            [
             0.2,
             "#de77ae"
            ],
            [
             0.3,
             "#f1b6da"
            ],
            [
             0.4,
             "#fde0ef"
            ],
            [
             0.5,
             "#f7f7f7"
            ],
            [
             0.6,
             "#e6f5d0"
            ],
            [
             0.7,
             "#b8e186"
            ],
            [
             0.8,
             "#7fbc41"
            ],
            [
             0.9,
             "#4d9221"
            ],
            [
             1,
             "#276419"
            ]
           ],
           "sequential": [
            [
             0,
             "#0d0887"
            ],
            [
             0.1111111111111111,
             "#46039f"
            ],
            [
             0.2222222222222222,
             "#7201a8"
            ],
            [
             0.3333333333333333,
             "#9c179e"
            ],
            [
             0.4444444444444444,
             "#bd3786"
            ],
            [
             0.5555555555555556,
             "#d8576b"
            ],
            [
             0.6666666666666666,
             "#ed7953"
            ],
            [
             0.7777777777777778,
             "#fb9f3a"
            ],
            [
             0.8888888888888888,
             "#fdca26"
            ],
            [
             1,
             "#f0f921"
            ]
           ],
           "sequentialminus": [
            [
             0,
             "#0d0887"
            ],
            [
             0.1111111111111111,
             "#46039f"
            ],
            [
             0.2222222222222222,
             "#7201a8"
            ],
            [
             0.3333333333333333,
             "#9c179e"
            ],
            [
             0.4444444444444444,
             "#bd3786"
            ],
            [
             0.5555555555555556,
             "#d8576b"
            ],
            [
             0.6666666666666666,
             "#ed7953"
            ],
            [
             0.7777777777777778,
             "#fb9f3a"
            ],
            [
             0.8888888888888888,
             "#fdca26"
            ],
            [
             1,
             "#f0f921"
            ]
           ]
          },
          "colorway": [
           "#636efa",
           "#EF553B",
           "#00cc96",
           "#ab63fa",
           "#FFA15A",
           "#19d3f3",
           "#FF6692",
           "#B6E880",
           "#FF97FF",
           "#FECB52"
          ],
          "font": {
           "color": "#2a3f5f"
          },
          "geo": {
           "bgcolor": "white",
           "lakecolor": "white",
           "landcolor": "#E5ECF6",
           "showlakes": true,
           "showland": true,
           "subunitcolor": "white"
          },
          "hoverlabel": {
           "align": "left"
          },
          "hovermode": "closest",
          "mapbox": {
           "style": "light"
          },
          "paper_bgcolor": "white",
          "plot_bgcolor": "#E5ECF6",
          "polar": {
           "angularaxis": {
            "gridcolor": "white",
            "linecolor": "white",
            "ticks": ""
           },
           "bgcolor": "#E5ECF6",
           "radialaxis": {
            "gridcolor": "white",
            "linecolor": "white",
            "ticks": ""
           }
          },
          "scene": {
           "xaxis": {
            "backgroundcolor": "#E5ECF6",
            "gridcolor": "white",
            "gridwidth": 2,
            "linecolor": "white",
            "showbackground": true,
            "ticks": "",
            "zerolinecolor": "white"
           },
           "yaxis": {
            "backgroundcolor": "#E5ECF6",
            "gridcolor": "white",
            "gridwidth": 2,
            "linecolor": "white",
            "showbackground": true,
            "ticks": "",
            "zerolinecolor": "white"
           },
           "zaxis": {
            "backgroundcolor": "#E5ECF6",
            "gridcolor": "white",
            "gridwidth": 2,
            "linecolor": "white",
            "showbackground": true,
            "ticks": "",
            "zerolinecolor": "white"
           }
          },
          "shapedefaults": {
           "line": {
            "color": "#2a3f5f"
           }
          },
          "ternary": {
           "aaxis": {
            "gridcolor": "white",
            "linecolor": "white",
            "ticks": ""
           },
           "baxis": {
            "gridcolor": "white",
            "linecolor": "white",
            "ticks": ""
           },
           "bgcolor": "#E5ECF6",
           "caxis": {
            "gridcolor": "white",
            "linecolor": "white",
            "ticks": ""
           }
          },
          "title": {
           "x": 0.05
          },
          "xaxis": {
           "automargin": true,
           "gridcolor": "white",
           "linecolor": "white",
           "ticks": "",
           "title": {
            "standoff": 15
           },
           "zerolinecolor": "white",
           "zerolinewidth": 2
          },
          "yaxis": {
           "automargin": true,
           "gridcolor": "white",
           "linecolor": "white",
           "ticks": "",
           "title": {
            "standoff": 15
           },
           "zerolinecolor": "white",
           "zerolinewidth": 2
          }
         }
        },
        "title": {
         "text": "Top 20 Disciplinas com situação Aprovado"
        },
        "xaxis": {
         "anchor": "y",
         "domain": [
          0,
          1
         ],
         "title": {
          "text": "nome_disciplina"
         }
        },
        "yaxis": {
         "anchor": "x",
         "domain": [
          0,
          1
         ],
         "title": {
          "text": "quantidade"
         }
        }
       }
      }
     },
     "metadata": {},
     "output_type": "display_data"
    }
   ],
   "source": [
    "situacao = 'Aprovado'\n",
    "situacao_disciplina_filtrado = situacao_disciplina_sorted[situacao_disciplina_sorted['situacao_disciplina'] == situacao]\n",
    "top_20 = situacao_disciplina_filtrado.head(20)\n",
    "fig = px.bar(top_20, x=\"nome_disciplina\", y=\"quantidade\", title=f'Top 20 Disciplinas com situação {situacao}')\n",
    "fig.show()"
   ]
  }
 ],
 "metadata": {
  "kernelspec": {
   "display_name": "Python 3",
   "language": "python",
   "name": "python3"
  },
  "language_info": {
   "codemirror_mode": {
    "name": "ipython",
    "version": 3
   },
   "file_extension": ".py",
   "mimetype": "text/x-python",
   "name": "python",
   "nbconvert_exporter": "python",
   "pygments_lexer": "ipython3",
   "version": "3.12.1"
  }
 },
 "nbformat": 4,
 "nbformat_minor": 2
}
