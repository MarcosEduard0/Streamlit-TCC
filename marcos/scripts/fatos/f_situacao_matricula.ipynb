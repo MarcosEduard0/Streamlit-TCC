{
 "cells": [
  {
   "cell_type": "code",
   "execution_count": 55,
   "metadata": {},
   "outputs": [],
   "source": [
    "import pandas as pd\n",
    "import numpy as np\n",
    "from datetime import datetime"
   ]
  },
  {
   "cell_type": "code",
   "execution_count": 56,
   "metadata": {},
   "outputs": [],
   "source": [
    "df = pd.read_csv(\"../../data/trusted/arquivo_anonimizado_v2.csv\")\n",
    "D_CURSO = pd.read_csv('../../data/refined/d_curso.csv')\n",
    "D_PERIODO = pd.read_csv('../../data/refined/d_periodo.csv')\n",
    "D_ALUNO = pd.read_csv('../../data/refined/d_aluno.csv')"
   ]
  },
  {
   "cell_type": "code",
   "execution_count": 57,
   "metadata": {},
   "outputs": [],
   "source": [
    "def obter_ultimo_periodo_cursado(row):\n",
    "    disciplinas_str = row[\"disciplinas_cursadas\"]\n",
    "    if pd.isna(disciplinas_str):\n",
    "        if pd.isna(row['cra_periodo']) and pd.isna(row['cr_periodo']):\n",
    "            return row['periodo_ingresso_ufrj']\n",
    "        else:\n",
    "            periodo = row['cra_periodo'].split(' - ')[0]\n",
    "            return periodo\n",
    "    \n",
    "    disciplinas = disciplinas_str.split(\"\\n\")\n",
    "\n",
    "    periodos = []\n",
    "    for disciplina in disciplinas:\n",
    "        periodo = disciplina.split(\" - \")[0]\n",
    "        periodos.append(periodo)\n",
    "\n",
    "    maior_periodo = max(periodos)\n",
    "    return maior_periodo.replace(\"/0\", \"/1\")\n",
    "\n",
    "# Processar Trancamentos\n",
    "def processar_trancamentos(row):\n",
    "    if pd.isna(row):\n",
    "        return row\n",
    "    row = row.replace(' ', '')\n",
    "    row = tuple(row.split('|'))\n",
    "    return row\n",
    "\n",
    "def calcular_periodo_integralizado(periodo_ingresso, quant_integralizado):\n",
    "    ano, semestre = map(int, periodo_ingresso.split('/'))\n",
    "    quant_integralizado = quant_integralizado-1\n",
    "    # Se quant_integralizado for ímpar, ajusta semestre e ano\n",
    "    if quant_integralizado % 2 == 1:\n",
    "        semestre += 1\n",
    "        if semestre > 2:\n",
    "            semestre = 1\n",
    "            ano += 1\n",
    "    \n",
    "    # Calcula o novo ano considerando todos os semestres integralizados\n",
    "    ano += quant_integralizado // 2\n",
    "\n",
    "    return f\"{ano}/{semestre}\""
   ]
  },
  {
   "cell_type": "code",
   "execution_count": 58,
   "metadata": {},
   "outputs": [],
   "source": [
    "# Obtém o valor máximo da coluna 'periodoIngressoUFRJ'\n",
    "periodo_atual = df['periodo_ingresso_ufrj'].max()\n",
    "\n",
    "# Filtra os dados para obter apenas as linhas com 'situacao_matricula' igual a 'Ativa'\n",
    "df_situacao_atual = df[(df['situacao_matricula'] == \"Ativa\") | (df['situacao_matricula'] == \"Trancada\")].copy()\n",
    "df_cancel_concluido = df[(df['situacao_matricula'] == \"Cancelada\") | (df['situacao_matricula'] == \"Concluido\")].copy()\n",
    "\n",
    "# Trancamento\n",
    "df_trancada = df[~df['periodos_trancados'].isna()].copy()\n",
    "df_trancada['situacao_matricula'] = \"Trancada\"\n",
    "df_trancada['periodo'] = df_trancada['periodos_trancados'].apply(processar_trancamentos)"
   ]
  },
  {
   "cell_type": "code",
   "execution_count": 59,
   "metadata": {},
   "outputs": [],
   "source": [
    "df_situacao_atual['periodo'] = periodo_atual\n",
    "df_trancada = df_trancada.explode('periodo')\n",
    "df_cancel_concluido['periodo'] = df.apply(obter_ultimo_periodo_cursado, axis=1)"
   ]
  },
  {
   "cell_type": "code",
   "execution_count": null,
   "metadata": {},
   "outputs": [],
   "source": [
    "colunas_tb_fato = [\n",
    "    \"matricula_dre\",\n",
    "    \"periodo\",\n",
    "    \"cod_curso_ingresso\",\n",
    "    \"curso_ingresso_ufrj\",\n",
    "    \"cod_curso_atual\",\n",
    "    \"curso_atual\",\n",
    "    \"situacao_matricula\"\n",
    "]"
   ]
  },
  {
   "cell_type": "code",
   "execution_count": 61,
   "metadata": {},
   "outputs": [],
   "source": [
    "df_ativa = df_situacao_atual[colunas_tb_fato]\n",
    "df_trancada = df_trancada[colunas_tb_fato]\n",
    "df_cancel_concluido = df_cancel_concluido[colunas_tb_fato]\n",
    "\n",
    "# Usa a função concat para unir os DataFrames\n",
    "df_final = pd.concat([df_ativa, df_trancada, df_cancel_concluido], axis=0)\n",
    "\n",
    "# Reseta o índice se necessário\n",
    "df_final.reset_index(drop=True, inplace=True)"
   ]
  },
  {
   "cell_type": "code",
   "execution_count": 62,
   "metadata": {},
   "outputs": [],
   "source": [
    "# Mescla com a tabela D_PERIODO, selecionando apenas a coluna 'sk_d_periodo'\n",
    "f_situacao_metricula = df_final.merge(\n",
    "    D_PERIODO[[\"periodo\", \"sk_d_periodo\"]], on=\"periodo\", how=\"left\"\n",
    ").drop(columns=[\"periodo\"])\n",
    "\n",
    "# Mescla com a tabela D_CURSO e remove as colunas desnecessárias\n",
    "f_situacao_metricula = f_situacao_metricula.merge(\n",
    "    D_CURSO,\n",
    "    on=[\"cod_curso_ingresso\", \"curso_ingresso_ufrj\", \"cod_curso_atual\", \"curso_atual\"],\n",
    "    how=\"left\",\n",
    ").drop(columns=[\"cod_curso_ingresso\", \"curso_ingresso_ufrj\", \"cod_curso_atual\", \"curso_atual\"])\n",
    "\n",
    "# Mescla com a tabela D_ALUNO e remove as colunas desnecessárias\n",
    "f_situacao_metricula = f_situacao_metricula.merge(\n",
    "    D_ALUNO,\n",
    "    on=[\n",
    "        \"matricula_dre\",\n",
    "    ],\n",
    "    how=\"left\",\n",
    ").drop(\n",
    "    columns=[\n",
    "        \"nome_completo\",\n",
    "        \"matricula_dre\",\n",
    "        \"sexo\",\n",
    "        \"data_nascimento\",\n",
    "        \"periodo_ingresso_curso_atual\",\n",
    "        \"periodo_ingresso_ufrj\",\n",
    "        \"forma_ingresso\",\n",
    "        \"modalidade_cota\",\n",
    "        \"nota_enem\",\n",
    "    ],\n",
    ")"
   ]
  },
  {
   "cell_type": "code",
   "execution_count": 64,
   "metadata": {},
   "outputs": [],
   "source": [
    "f_situacao_metricula.to_csv('../../data/refined/f_situacao_metricula.csv', index=False)"
   ]
  }
 ],
 "metadata": {
  "kernelspec": {
   "display_name": "Python 3",
   "language": "python",
   "name": "python3"
  },
  "language_info": {
   "codemirror_mode": {
    "name": "ipython",
    "version": 3
   },
   "file_extension": ".py",
   "mimetype": "text/x-python",
   "name": "python",
   "nbconvert_exporter": "python",
   "pygments_lexer": "ipython3",
   "version": "3.12.3"
  }
 },
 "nbformat": 4,
 "nbformat_minor": 2
}
