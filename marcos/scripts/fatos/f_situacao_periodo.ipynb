{
 "cells": [
  {
   "cell_type": "code",
   "execution_count": 47,
   "metadata": {},
   "outputs": [],
   "source": [
    "import pandas as pd\n",
    "import numpy as np\n",
    "from datetime import datetime"
   ]
  },
  {
   "cell_type": "code",
   "execution_count": 48,
   "metadata": {},
   "outputs": [],
   "source": [
    "df = pd.read_csv(\"../../data/trusted/arquivo_anonimizado_v2.csv\")\n",
    "D_ALUNO = pd.read_csv('../../data/refined/d_aluno.csv')\n",
    "D_CURSO = pd.read_csv('../../data/refined/d_curso.csv')\n",
    "D_PERIODO = pd.read_csv('../../data/refined/d_periodo.csv')"
   ]
  },
  {
   "cell_type": "code",
   "execution_count": 49,
   "metadata": {},
   "outputs": [],
   "source": [
    "# Converte a coluna 'cr_periodo' para string\n",
    "df[\"cr_periodo\"] = df[\"cr_periodo\"].astype(str)\n",
    "\n",
    "# Converte a coluna 'cr_periodo' para uma lista de tuplas\n",
    "df[\"cr_periodo\"] = df[\"cr_periodo\"].apply(\n",
    "    lambda x: [tuple(item.split(\" - \")) for item in x.split(\"\\n\")]\n",
    ")\n",
    "# Explode a coluna 'cr_periodo' para dividir as listas em linhas separadas\n",
    "df_exploded = df.explode(\"cr_periodo\")\n",
    "\n",
    "# Cria um novo DataFrame com as tuplas da coluna 'crPorPeriodo' separadas em colunas 'periodo' e 'cr_periodo'\n",
    "df_crPeriodo = pd.DataFrame(\n",
    "    df_exploded[\"cr_periodo\"].tolist(),\n",
    "    index=df_exploded.index,\n",
    "    columns=(\"periodo\", \"cr_periodo\"),\n",
    ")\n",
    "\n",
    "# Adiciona as colunas 'matricula_dre' e 'periodo_temp' ao novo DataFrame\n",
    "df_crPeriodo[\"matricula_dre\"] = df_exploded[\"matricula_dre\"]\n",
    "\n",
    "df_crPeriodo.dropna(inplace=True)"
   ]
  },
  {
   "cell_type": "markdown",
   "metadata": {},
   "source": [
    "# CRA"
   ]
  },
  {
   "cell_type": "code",
   "execution_count": 50,
   "metadata": {},
   "outputs": [],
   "source": [
    "# Converte a coluna 'cra_periodo' para string\n",
    "df[\"cra_periodo\"] = df[\"cra_periodo\"].astype(str)\n",
    "\n",
    "# Converte a coluna 'crPorPeriodo' para uma lista de tuplas\n",
    "df[\"cra_periodo\"] = df[\"cra_periodo\"].apply(\n",
    "    lambda x: [tuple(item.split(\" - \")) for item in x.split(\"\\n\")]\n",
    ")\n",
    "# Explode a coluna 'crPorPeriodo' para dividir as listas em linhas separadas\n",
    "df_exploded = df.explode(\"cra_periodo\")\n",
    "\n",
    "# Cria um novo DataFrame com as tuplas da coluna 'crPorPeriodo' separadas em colunas 'periodo' e 'cr_periodo'\n",
    "df_craPeriodo = pd.DataFrame(\n",
    "    df_exploded[\"cra_periodo\"].tolist(),\n",
    "    index=df_exploded.index,\n",
    "    columns=(\"periodo\", \"cr_acumulado\"),\n",
    ")\n",
    "# Adiciona as colunas 'matriculaDRE' e 'periodo_temp' ao novo DataFrame\n",
    "df_craPeriodo[\"matricula_dre\"] = df_exploded[\"matricula_dre\"]\n",
    "df_craPeriodo.dropna(inplace=True)\n",
    "df_craPeriodo.drop_duplicates(inplace=True)"
   ]
  },
  {
   "cell_type": "markdown",
   "metadata": {},
   "source": [
    "# MERGER"
   ]
  },
  {
   "cell_type": "code",
   "execution_count": 80,
   "metadata": {},
   "outputs": [],
   "source": [
    "df = df.drop(['cr_periodo', 'cra_periodo'], axis=1)"
   ]
  },
  {
   "cell_type": "code",
   "execution_count": 99,
   "metadata": {},
   "outputs": [],
   "source": [
    "df_crs = df_craPeriodo.merge(df_crPeriodo, how='outer')"
   ]
  },
  {
   "cell_type": "code",
   "execution_count": 100,
   "metadata": {},
   "outputs": [],
   "source": [
    "F_SITUACAO_PERIODO = df.merge(df_crs)"
   ]
  },
  {
   "cell_type": "code",
   "execution_count": 101,
   "metadata": {},
   "outputs": [],
   "source": [
    "F_SITUACAO_PERIODO =F_SITUACAO_PERIODO.merge(D_ALUNO, on='matricula_dre')"
   ]
  },
  {
   "cell_type": "code",
   "execution_count": 102,
   "metadata": {},
   "outputs": [],
   "source": [
    "F_SITUACAO_PERIODO = F_SITUACAO_PERIODO.merge(D_PERIODO, on='periodo')"
   ]
  },
  {
   "cell_type": "code",
   "execution_count": 104,
   "metadata": {},
   "outputs": [
    {
     "data": {
      "text/html": [
       "<div>\n",
       "<style scoped>\n",
       "    .dataframe tbody tr th:only-of-type {\n",
       "        vertical-align: middle;\n",
       "    }\n",
       "\n",
       "    .dataframe tbody tr th {\n",
       "        vertical-align: top;\n",
       "    }\n",
       "\n",
       "    .dataframe thead th {\n",
       "        text-align: right;\n",
       "    }\n",
       "</style>\n",
       "<table border=\"1\" class=\"dataframe\">\n",
       "  <thead>\n",
       "    <tr style=\"text-align: right;\">\n",
       "      <th></th>\n",
       "      <th>sk_d_aluno</th>\n",
       "      <th>sk_d_periodo</th>\n",
       "      <th>cr_periodo</th>\n",
       "      <th>cr_acumulado</th>\n",
       "    </tr>\n",
       "  </thead>\n",
       "  <tbody>\n",
       "    <tr>\n",
       "      <th>0</th>\n",
       "      <td>5feceb66ffc86f38d952786c6d696c79c2dbc239dd4e91...</td>\n",
       "      <td>9b9d29eed04d79ce77ca84829404b2a3e134afe4c446ef...</td>\n",
       "      <td>3.8</td>\n",
       "      <td>3.9</td>\n",
       "    </tr>\n",
       "    <tr>\n",
       "      <th>1</th>\n",
       "      <td>5feceb66ffc86f38d952786c6d696c79c2dbc239dd4e91...</td>\n",
       "      <td>4159cd8923ee497dcd22344b2ffc4a845bdce92a8c17cc...</td>\n",
       "      <td>5.7</td>\n",
       "      <td>4.8</td>\n",
       "    </tr>\n",
       "    <tr>\n",
       "      <th>2</th>\n",
       "      <td>5feceb66ffc86f38d952786c6d696c79c2dbc239dd4e91...</td>\n",
       "      <td>1be9407b0177e3267f67a38fe9de1615d7a2e360013886...</td>\n",
       "      <td>5.6</td>\n",
       "      <td>5</td>\n",
       "    </tr>\n",
       "    <tr>\n",
       "      <th>3</th>\n",
       "      <td>5feceb66ffc86f38d952786c6d696c79c2dbc239dd4e91...</td>\n",
       "      <td>2a23d074e47a3a8cdd94db54289974475f407df0c59bb3...</td>\n",
       "      <td>7.2</td>\n",
       "      <td>5.7</td>\n",
       "    </tr>\n",
       "    <tr>\n",
       "      <th>4</th>\n",
       "      <td>5feceb66ffc86f38d952786c6d696c79c2dbc239dd4e91...</td>\n",
       "      <td>4d4f250915e29cc56ac564b87669f320433d2bb1a229ed...</td>\n",
       "      <td>7.4</td>\n",
       "      <td>6</td>\n",
       "    </tr>\n",
       "    <tr>\n",
       "      <th>...</th>\n",
       "      <td>...</td>\n",
       "      <td>...</td>\n",
       "      <td>...</td>\n",
       "      <td>...</td>\n",
       "    </tr>\n",
       "    <tr>\n",
       "      <th>20622</th>\n",
       "      <td>8acd25a355a2abe94f523185ac3f1225f53bbc0cd9b51e...</td>\n",
       "      <td>450c1f373a2b971e85437f496ae5fd131d672c15404e13...</td>\n",
       "      <td>8.8</td>\n",
       "      <td>8.8</td>\n",
       "    </tr>\n",
       "    <tr>\n",
       "      <th>20623</th>\n",
       "      <td>862952ddccaf02d8b0b4769112b0f26c0af6cd4ae815b0...</td>\n",
       "      <td>450c1f373a2b971e85437f496ae5fd131d672c15404e13...</td>\n",
       "      <td>9.2</td>\n",
       "      <td>9.2</td>\n",
       "    </tr>\n",
       "    <tr>\n",
       "      <th>20624</th>\n",
       "      <td>dbaf899fbd964344fefdd5d21bb73a9b0b1654799a0a43...</td>\n",
       "      <td>450c1f373a2b971e85437f496ae5fd131d672c15404e13...</td>\n",
       "      <td>3.6</td>\n",
       "      <td>3.7</td>\n",
       "    </tr>\n",
       "    <tr>\n",
       "      <th>20625</th>\n",
       "      <td>9c55b07c46330c6621ef6b2fea5f2ceb51acb3b7d68258...</td>\n",
       "      <td>450c1f373a2b971e85437f496ae5fd131d672c15404e13...</td>\n",
       "      <td>1</td>\n",
       "      <td>1.5</td>\n",
       "    </tr>\n",
       "    <tr>\n",
       "      <th>20626</th>\n",
       "      <td>cf3b763a62724306dca2a00ed53a7c0a19074286e40b8f...</td>\n",
       "      <td>450c1f373a2b971e85437f496ae5fd131d672c15404e13...</td>\n",
       "      <td>8.2</td>\n",
       "      <td>8.3</td>\n",
       "    </tr>\n",
       "  </tbody>\n",
       "</table>\n",
       "<p>20627 rows × 4 columns</p>\n",
       "</div>"
      ],
      "text/plain": [
       "                                              sk_d_aluno  \\\n",
       "0      5feceb66ffc86f38d952786c6d696c79c2dbc239dd4e91...   \n",
       "1      5feceb66ffc86f38d952786c6d696c79c2dbc239dd4e91...   \n",
       "2      5feceb66ffc86f38d952786c6d696c79c2dbc239dd4e91...   \n",
       "3      5feceb66ffc86f38d952786c6d696c79c2dbc239dd4e91...   \n",
       "4      5feceb66ffc86f38d952786c6d696c79c2dbc239dd4e91...   \n",
       "...                                                  ...   \n",
       "20622  8acd25a355a2abe94f523185ac3f1225f53bbc0cd9b51e...   \n",
       "20623  862952ddccaf02d8b0b4769112b0f26c0af6cd4ae815b0...   \n",
       "20624  dbaf899fbd964344fefdd5d21bb73a9b0b1654799a0a43...   \n",
       "20625  9c55b07c46330c6621ef6b2fea5f2ceb51acb3b7d68258...   \n",
       "20626  cf3b763a62724306dca2a00ed53a7c0a19074286e40b8f...   \n",
       "\n",
       "                                            sk_d_periodo cr_periodo  \\\n",
       "0      9b9d29eed04d79ce77ca84829404b2a3e134afe4c446ef...        3.8   \n",
       "1      4159cd8923ee497dcd22344b2ffc4a845bdce92a8c17cc...        5.7   \n",
       "2      1be9407b0177e3267f67a38fe9de1615d7a2e360013886...        5.6   \n",
       "3      2a23d074e47a3a8cdd94db54289974475f407df0c59bb3...        7.2   \n",
       "4      4d4f250915e29cc56ac564b87669f320433d2bb1a229ed...        7.4   \n",
       "...                                                  ...        ...   \n",
       "20622  450c1f373a2b971e85437f496ae5fd131d672c15404e13...        8.8   \n",
       "20623  450c1f373a2b971e85437f496ae5fd131d672c15404e13...        9.2   \n",
       "20624  450c1f373a2b971e85437f496ae5fd131d672c15404e13...        3.6   \n",
       "20625  450c1f373a2b971e85437f496ae5fd131d672c15404e13...          1   \n",
       "20626  450c1f373a2b971e85437f496ae5fd131d672c15404e13...        8.2   \n",
       "\n",
       "      cr_acumulado  \n",
       "0              3.9  \n",
       "1              4.8  \n",
       "2                5  \n",
       "3              5.7  \n",
       "4                6  \n",
       "...            ...  \n",
       "20622          8.8  \n",
       "20623          9.2  \n",
       "20624          3.7  \n",
       "20625          1.5  \n",
       "20626          8.3  \n",
       "\n",
       "[20627 rows x 4 columns]"
      ]
     },
     "execution_count": 104,
     "metadata": {},
     "output_type": "execute_result"
    }
   ],
   "source": [
    "F_SITUACAO_PERIODO[['sk_d_aluno', 'sk_d_periodo', 'cr_periodo', 'cr_acumulado']]"
   ]
  }
 ],
 "metadata": {
  "kernelspec": {
   "display_name": "Python 3",
   "language": "python",
   "name": "python3"
  },
  "language_info": {
   "codemirror_mode": {
    "name": "ipython",
    "version": 3
   },
   "file_extension": ".py",
   "mimetype": "text/x-python",
   "name": "python",
   "nbconvert_exporter": "python",
   "pygments_lexer": "ipython3",
   "version": "3.12.3"
  }
 },
 "nbformat": 4,
 "nbformat_minor": 2
}
