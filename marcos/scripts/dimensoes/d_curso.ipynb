{
 "cells": [
  {
   "cell_type": "code",
   "execution_count": 7,
   "metadata": {},
   "outputs": [],
   "source": [
    "import pandas as pd\n",
    "import hashlib"
   ]
  },
  {
   "cell_type": "code",
   "execution_count": 8,
   "metadata": {},
   "outputs": [],
   "source": [
    "df = pd.read_csv(\"../../data/trusted/arquivo_anonimizado_v2.csv\")"
   ]
  },
  {
   "cell_type": "code",
   "execution_count": 9,
   "metadata": {},
   "outputs": [],
   "source": [
    "colunas_curso = [\n",
    "    \"sk_d_curso\",\n",
    "    \"cod_curso_ingresso\",\n",
    "    \"curso_ingresso_ufrj\",\n",
    "    \"cod_curso_atual\",\n",
    "    \"curso_atual\",\n",
    "]\n",
    "d_curso = df[colunas_curso[1:]]\n",
    "d_curso = d_curso.drop_duplicates().reset_index(drop=True)"
   ]
  },
  {
   "cell_type": "code",
   "execution_count": 10,
   "metadata": {},
   "outputs": [],
   "source": [
    "d_curso[\"sk_d_curso\"] = d_curso.apply(\n",
    "    lambda x: hashlib.sha256(\n",
    "        str(x[\"cod_curso_ingresso\"] + x[\"cod_curso_atual\"]).encode()\n",
    "    ).hexdigest(),\n",
    "    axis=1,\n",
    ")\n",
    "d_curso = d_curso.reindex(columns=colunas_curso)"
   ]
  },
  {
   "cell_type": "code",
   "execution_count": null,
   "metadata": {},
   "outputs": [],
   "source": [
    "d_curso.to_csv(\"../../data/refined/d_curso.csv\", index=False)"
   ]
  }
 ],
 "metadata": {
  "kernelspec": {
   "display_name": "Python 3",
   "language": "python",
   "name": "python3"
  },
  "language_info": {
   "codemirror_mode": {
    "name": "ipython",
    "version": 3
   },
   "file_extension": ".py",
   "mimetype": "text/x-python",
   "name": "python",
   "nbconvert_exporter": "python",
   "pygments_lexer": "ipython3",
   "version": "3.12.3"
  }
 },
 "nbformat": 4,
 "nbformat_minor": 2
}
