{
 "cells": [
  {
   "cell_type": "code",
   "execution_count": 1,
   "metadata": {},
   "outputs": [],
   "source": [
    "import pandas as pd\n",
    "import hashlib"
   ]
  },
  {
   "cell_type": "code",
   "execution_count": 2,
   "metadata": {},
   "outputs": [],
   "source": [
    "df = pd.read_csv(\"../../data/trusted/arquivo_anonimizado_v2.csv\")"
   ]
  },
  {
   "cell_type": "code",
   "execution_count": 3,
   "metadata": {},
   "outputs": [],
   "source": [
    "colunas_aluno = [\n",
    "    \"sk_d_aluno\",\n",
    "    \"nome_completo\",\n",
    "    \"matricula_dre\",\n",
    "    \"sexo\",\n",
    "    \"data_nascimento\",\n",
    "    \"periodo_ingresso_curso_atual\",\n",
    "    \"periodo_ingresso_ufrj\",\n",
    "    \"forma_ingresso\",\n",
    "    \"modalidade_cota\",\n",
    "    \"nota_enem\",\n",
    "]\n",
    "\n",
    "d_aluno = df[colunas_aluno[1:]]\n",
    "d_aluno = d_aluno.drop_duplicates().reset_index(drop=True)\n",
    "\n",
    "d_aluno[\"sk_d_aluno\"] = d_aluno.apply(\n",
    "    lambda x: hashlib.sha256(str(x[\"matricula_dre\"]).encode()).hexdigest(), axis=1\n",
    ")\n",
    "d_aluno = d_aluno.reindex(columns=colunas_aluno)"
   ]
  },
  {
   "cell_type": "code",
   "execution_count": 4,
   "metadata": {},
   "outputs": [],
   "source": [
    "d_aluno.to_csv(\"../../data/refined/d_aluno.csv\", index=False)"
   ]
  }
 ],
 "metadata": {
  "kernelspec": {
   "display_name": "Python 3",
   "language": "python",
   "name": "python3"
  },
  "language_info": {
   "codemirror_mode": {
    "name": "ipython",
    "version": 3
   },
   "file_extension": ".py",
   "mimetype": "text/x-python",
   "name": "python",
   "nbconvert_exporter": "python",
   "pygments_lexer": "ipython3",
   "version": "3.12.3"
  }
 },
 "nbformat": 4,
 "nbformat_minor": 2
}
