{
 "cells": [
  {
   "cell_type": "code",
   "execution_count": 1,
   "metadata": {},
   "outputs": [],
   "source": [
    "import pandas as pd\n",
    "import hashlib"
   ]
  },
  {
   "cell_type": "code",
   "execution_count": 2,
   "metadata": {},
   "outputs": [],
   "source": [
    "df = pd.read_csv(\"../../data/trusted/arquivo_anonimizado_v2.csv\")"
   ]
  },
  {
   "cell_type": "code",
   "execution_count": 4,
   "metadata": {},
   "outputs": [],
   "source": [
    "colunas_periodo = [\"sk_d_periodo\", \"ano\", \"semestre\", \"periodo\"]\n",
    "\n",
    "\n",
    "min_periodo = int(df['periodo_ingresso_ufrj'].min().split('/')[0])\n",
    "max_periodo = int(df['periodo_ingresso_ufrj'].max().split('/')[0])\n",
    "\n",
    "anos = range(min_periodo, max_periodo + 1)\n",
    "semestres = [0, 1, 2, 3]\n",
    "\n",
    "data = []\n",
    "for ano in anos:\n",
    "    for semestre in semestres:\n",
    "        data.append([ano, semestre, f'{ano}/{semestre}'])\n",
    "\n",
    "d_periodo = pd.DataFrame(data, columns=['ano', 'semestre', 'periodo'])"
   ]
  },
  {
   "cell_type": "code",
   "execution_count": 5,
   "metadata": {},
   "outputs": [],
   "source": [
    "d_periodo[\"sk_d_periodo\"] = d_periodo.apply(\n",
    "    lambda x: hashlib.sha256(str(x[\"periodo\"]).encode()).hexdigest(), axis=1\n",
    ")\n",
    "d_periodo = d_periodo.reindex(columns=colunas_periodo)\n",
    "d_periodo.to_csv(\"../../data/refined/d_periodo.csv\", index=False)"
   ]
  }
 ],
 "metadata": {
  "kernelspec": {
   "display_name": "Python 3",
   "language": "python",
   "name": "python3"
  },
  "language_info": {
   "codemirror_mode": {
    "name": "ipython",
    "version": 3
   },
   "file_extension": ".py",
   "mimetype": "text/x-python",
   "name": "python",
   "nbconvert_exporter": "python",
   "pygments_lexer": "ipython3",
   "version": "3.12.3"
  }
 },
 "nbformat": 4,
 "nbformat_minor": 2
}
