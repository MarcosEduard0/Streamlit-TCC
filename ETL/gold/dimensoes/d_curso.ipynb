{
 "cells": [
  {
   "cell_type": "code",
   "execution_count": 18,
   "metadata": {},
   "outputs": [],
   "source": [
    "import hashlib\n",
    "import sys\n",
    "import os"
   ]
  },
  {
   "cell_type": "code",
   "execution_count": 19,
   "metadata": {},
   "outputs": [],
   "source": [
    "# Função para adicionar o caminho do módulo 'utils' ao sys.path\n",
    "utils_path = os.path.abspath(\"../../\")\n",
    "if utils_path not in sys.path:\n",
    "    sys.path.append(utils_path)"
   ]
  },
  {
   "cell_type": "code",
   "execution_count": 20,
   "metadata": {},
   "outputs": [],
   "source": [
    "from utils.auxiliary_functions.all_auxiliary_functions import (\n",
    "    extrair_dados_database,\n",
    "    carregar_dados_database,\n",
    ")"
   ]
  },
  {
   "cell_type": "code",
   "execution_count": 21,
   "metadata": {},
   "outputs": [],
   "source": [
    "df_silver = extrair_dados_database(\"alunos_ufrj.parquet\", \"silver\")"
   ]
  },
  {
   "cell_type": "code",
   "execution_count": 22,
   "metadata": {},
   "outputs": [],
   "source": [
    "# Colunas da dimensão CURSO\n",
    "colunas_curso = [\n",
    "    \"codCursoIngresso\",\n",
    "    \"cursoIngressoUFRJ\",\n",
    "    \"codCursoAtual\",\n",
    "    \"cursoAtual\",\n",
    "]\n",
    "\n",
    "# Seleção e remoção de duplicatas\n",
    "d_curso = df_silver[colunas_curso].drop_duplicates().reset_index(drop=True)"
   ]
  },
  {
   "cell_type": "code",
   "execution_count": 23,
   "metadata": {},
   "outputs": [],
   "source": [
    "# Criação do sk_d_curso usando SHA-256\n",
    "d_curso[\"SK_D_CURSO\"] = d_curso.apply(\n",
    "    lambda x: hashlib.sha256(\n",
    "        str(x[\"codCursoIngresso\"] + x[\"codCursoAtual\"]).encode()\n",
    "    ).hexdigest(),\n",
    "    axis=1,\n",
    ")\n",
    "\n",
    "# Reordenação das colunas\n",
    "d_curso = d_curso[[\"SK_D_CURSO\"] + colunas_curso]\n",
    "\n",
    "# Padronizando nome das colunas\n",
    "d_curso = d_curso.rename(\n",
    "    columns={\n",
    "        \"codCursoIngresso\": \"CD_CURSO_INGRESSO\",\n",
    "        \"cursoIngressoUFRJ\": \"DS_NOME_CURSO_INGRESSO\",\n",
    "        \"codCursoAtual\": \"CD_CURSO_ATUAL\",\n",
    "        \"cursoAtual\": \"DS_NOME_CURSO_ATUAL\",\n",
    "    }\n",
    ")"
   ]
  },
  {
   "cell_type": "code",
   "execution_count": 24,
   "metadata": {},
   "outputs": [],
   "source": [
    "# Salvar dados na camada Gold\n",
    "carregar_dados_database(d_curso, \"d_curso.parquet\", \"gold\")"
   ]
  }
 ],
 "metadata": {
  "kernelspec": {
   "display_name": "Python 3",
   "language": "python",
   "name": "python3"
  },
  "language_info": {
   "codemirror_mode": {
    "name": "ipython",
    "version": 3
   },
   "file_extension": ".py",
   "mimetype": "text/x-python",
   "name": "python",
   "nbconvert_exporter": "python",
   "pygments_lexer": "ipython3",
   "version": "3.12.3"
  }
 },
 "nbformat": 4,
 "nbformat_minor": 2
}
