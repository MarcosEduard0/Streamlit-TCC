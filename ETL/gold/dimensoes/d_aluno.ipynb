{
 "cells": [
  {
   "cell_type": "code",
   "execution_count": 20,
   "metadata": {},
   "outputs": [],
   "source": [
    "import hashlib\n",
    "import sys\n",
    "import os"
   ]
  },
  {
   "cell_type": "code",
   "execution_count": 21,
   "metadata": {},
   "outputs": [],
   "source": [
    "DEBUG = False\n",
    "\n",
    "# Função para adicionar o caminho do módulo 'utils' ao sys.path\n",
    "utils_path = os.path.abspath(\"../\") if DEBUG else os.path.abspath(\"../../\")\n",
    "if utils_path not in sys.path:\n",
    "    sys.path.append(utils_path)"
   ]
  },
  {
   "cell_type": "code",
   "execution_count": 22,
   "metadata": {},
   "outputs": [],
   "source": [
    "from utils.auxiliary_functions.all_auxiliary_functions import (\n",
    "    extrair_dados_database,\n",
    "    carregar_dados_database,\n",
    ")"
   ]
  },
  {
   "cell_type": "code",
   "execution_count": 23,
   "metadata": {},
   "outputs": [],
   "source": [
    "df_silver = extrair_dados_database(\"alunos_ufrj.parquet\", \"silver\")"
   ]
  },
  {
   "cell_type": "code",
   "execution_count": 24,
   "metadata": {},
   "outputs": [],
   "source": [
    "# Colunas da dimensão ALUNO\n",
    "colunas_aluno = [\n",
    "    \"nomeCompleto\",\n",
    "    \"matriculaDre\",\n",
    "    \"sexo\",\n",
    "    \"idadeIngressoCursoAtual\",\n",
    "    \"dataNascimento\",\n",
    "    \"periodoIngressoCursoAtual\",\n",
    "    \"periodoIngressoUFRJ\",\n",
    "    \"formaIngresso\",\n",
    "    \"periodosIntegralizados\",\n",
    "    \"modalidadeCota\",\n",
    "    \"notaEnem\",\n",
    "]\n",
    "\n",
    "# Seleção e remoção de duplicatas\n",
    "d_aluno = df_silver[colunas_aluno].drop_duplicates().reset_index(drop=True)"
   ]
  },
  {
   "cell_type": "code",
   "execution_count": 25,
   "metadata": {},
   "outputs": [],
   "source": [
    "# Criação do SK_D_ALUNO usando SHA-256\n",
    "d_aluno[\"SK_D_ALUNO\"] = d_aluno[\"matriculaDre\"].apply(\n",
    "    lambda matricula: hashlib.sha256(matricula.encode()).hexdigest()\n",
    ")\n",
    "\n",
    "# Reordenação das colunas\n",
    "d_aluno = d_aluno[[\"SK_D_ALUNO\"] + colunas_aluno]\n",
    "\n",
    "# Padronizando nome das colunas\n",
    "d_aluno = d_aluno.rename(columns={\n",
    "    \"nomeCompleto\": \"DS_NOME_ALUNO\",\n",
    "    \"matriculaDre\": \"DS_MATRICULA_DRE\",\n",
    "    \"sexo\": \"DS_SEXO\",\n",
    "    \"idadeIngressoCursoAtual\": \"VL_IDADE_CURSO_ATUAL\",\n",
    "    \"dataNascimento\": \"DT_NASCIMENTO\",\n",
    "    \"periodoIngressoCursoAtual\": \"DS_PERIODO_INGRESSO_CURSO_ATUAL\",\n",
    "    \"periodoIngressoUFRJ\": \"DS_PERIODO_INGRESSO_UFRJ\",\n",
    "    \"formaIngresso\": \"DS_FORMA_INGRESSO\",\n",
    "    \"periodosIntegralizados\": \"VL_PERIODOS_INTEGRALIZADOS\",\n",
    "    \"modalidadeCota\": \"DS_MODALIDADE_COTA\",\n",
    "    \"notaEnem\": \"VL_NOTA_ENEM\"\n",
    "})"
   ]
  },
  {
   "cell_type": "code",
   "execution_count": 26,
   "metadata": {},
   "outputs": [],
   "source": [
    "# Salvar dados na camada Gold\n",
    "carregar_dados_database(d_aluno, \"d_aluno.parquet\", \"gold\")"
   ]
  }
 ],
 "metadata": {
  "kernelspec": {
   "display_name": "Python 3",
   "language": "python",
   "name": "python3"
  },
  "language_info": {
   "codemirror_mode": {
    "name": "ipython",
    "version": 3
   },
   "file_extension": ".py",
   "mimetype": "text/x-python",
   "name": "python",
   "nbconvert_exporter": "python",
   "pygments_lexer": "ipython3",
   "version": "3.12.3"
  }
 },
 "nbformat": 4,
 "nbformat_minor": 2
}
