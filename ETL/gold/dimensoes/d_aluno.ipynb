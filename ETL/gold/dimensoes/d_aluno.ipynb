{
 "cells": [
  {
   "cell_type": "code",
   "execution_count": 5,
   "metadata": {},
   "outputs": [],
   "source": [
    "import pandas as pd\n",
    "import hashlib"
   ]
  },
  {
   "cell_type": "code",
   "execution_count": 6,
   "metadata": {},
   "outputs": [],
   "source": [
    "data_path = \"../../../database\"\n",
    "\n",
    "df = pd.read_csv(f\"{data_path}/silver/arquivo_anonimizado_v2.csv\")"
   ]
  },
  {
   "cell_type": "code",
   "execution_count": 8,
   "metadata": {},
   "outputs": [],
   "source": [
    "colunas_aluno = [\n",
    "    \"sk_d_aluno\",\n",
    "    \"nome_completo\",\n",
    "    \"matricula_dre\",\n",
    "    \"sexo\",\n",
    "    \"idade\",\n",
    "    \"data_nascimento\",\n",
    "    \"periodo_ingresso_curso_atual\",\n",
    "    \"periodo_ingresso_ufrj\",\n",
    "    \"forma_ingresso\",\n",
    "    \"modalidade_cota\",\n",
    "    \"nota_enem\",\n",
    "]\n",
    "\n",
    "d_aluno = df[colunas_aluno[1:]]\n",
    "d_aluno = d_aluno.drop_duplicates().reset_index(drop=True)\n",
    "\n",
    "d_aluno[\"sk_d_aluno\"] = d_aluno.apply(\n",
    "    lambda x: hashlib.sha256(str(x[\"matricula_dre\"]).encode()).hexdigest(), axis=1\n",
    ")\n",
    "d_aluno = d_aluno.reindex(columns=colunas_aluno)"
   ]
  },
  {
   "cell_type": "code",
   "execution_count": 9,
   "metadata": {},
   "outputs": [],
   "source": [
    "d_aluno.to_csv(f\"{data_path}/gold/d_aluno.csv\", index=False)"
   ]
  },
  {
   "cell_type": "code",
   "execution_count": null,
   "metadata": {},
   "outputs": [],
   "source": [
    "def processar_fonte_GasOcidente(caminho, coluna_categoria):\n",
    "    caminho_completo = f\"{CAMINHO_DATALAKE}/{caminho}\"\n",
    "\n",
    "    dataframe = spark.read.format(\"delta\").load(caminho_completo)\n",
    "\n",
    "    # Criando a nova coluna \"DS_PONTO_CATEGORIA\"\n",
    "    df = dataframe.withColumn(\"DS_PONTO_CATEGORIA\", lit(coluna_categoria))\n",
    "    df = df.withColumn(\"DS_TRANSPORTADORA\", lit(\"GasOcidente do Mato Grosso - GOM\"))\n",
    "    df = df.withColumnRenamed(\"data\", \"DT_DATA\")\n",
    "    df = df.withColumnRenamed(\"medidor\", \"DS_PONTO_TRANSPORTE\")\n",
    "\n",
    "    return df\n",
    "\n",
    "\n",
    "def filtrar_tipo_volume(dataframe, tipo, coluna_volume):\n",
    "    dataframe = dataframe.filter(col(\"Tipo\") == tipo).withColumnRenamed(\n",
    "        \"volume\", coluna_volume\n",
    "    )\n",
    "\n",
    "    return dataframe.select(\n",
    "        *[\n",
    "            \"DS_PONTO_TRANSPORTE\",\n",
    "            \"DT_DATA\",\n",
    "            \"DS_PONTO_CATEGORIA\",\n",
    "            \"DS_TRANSPORTADORA\",\n",
    "            coluna_volume,\n",
    "        ]\n",
    "    )"
   ]
  }
 ],
 "metadata": {
  "kernelspec": {
   "display_name": "Python 3",
   "language": "python",
   "name": "python3"
  },
  "language_info": {
   "codemirror_mode": {
    "name": "ipython",
    "version": 3
   },
   "file_extension": ".py",
   "mimetype": "text/x-python",
   "name": "python",
   "nbconvert_exporter": "python",
   "pygments_lexer": "ipython3",
   "version": "3.12.3"
  }
 },
 "nbformat": 4,
 "nbformat_minor": 2
}
