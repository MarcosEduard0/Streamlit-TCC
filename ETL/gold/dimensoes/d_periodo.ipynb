{
 "cells": [
  {
   "cell_type": "code",
   "execution_count": 1,
   "metadata": {},
   "outputs": [],
   "source": [
    "import hashlib\n",
    "import sys\n",
    "import os\n",
    "import pandas as pd"
   ]
  },
  {
   "cell_type": "code",
   "execution_count": 2,
   "metadata": {},
   "outputs": [],
   "source": [
    "DEBUG = False\n",
    "\n",
    "# Função para adicionar o caminho do módulo 'utils' ao sys.path\n",
    "utils_path = os.path.abspath(\"../\") if DEBUG else os.path.abspath(\"../../\")\n",
    "if utils_path not in sys.path:\n",
    "    sys.path.append(utils_path)"
   ]
  },
  {
   "cell_type": "code",
   "execution_count": null,
   "metadata": {},
   "outputs": [],
   "source": [
    "from utils.auxiliary_functions.all_auxiliary_functions import (\n",
    "    extrair_dados_database,\n",
    "    carregar_dados_database,\n",
    ")"
   ]
  },
  {
   "cell_type": "code",
   "execution_count": 1,
   "metadata": {},
   "outputs": [],
   "source": [
    "def gerar_periodos(df):\n",
    "    \"\"\"\n",
    "    Gera uma lista de períodos entre o ano mínimo e máximo encontrados\n",
    "    na coluna 'periodoIngressoUFRJ' do DataFrame.\n",
    "\n",
    "    Args:\n",
    "        df (DataFrame): DataFrame contendo a coluna 'periodoIngressoUFRJ'.\n",
    "\n",
    "    Returns:\n",
    "        DataFrame: DataFrame com os períodos gerados.\n",
    "    \"\"\"\n",
    "    min_periodo = int(df[\"periodoIngressoUFRJ\"].min().split(\"/\")[0])\n",
    "    max_periodo = int(df[\"periodoIngressoUFRJ\"].max().split(\"/\")[0])\n",
    "\n",
    "    anos = range(min_periodo, max_periodo + 1)\n",
    "    semestres = [0, 1, 2, 3]\n",
    "\n",
    "    data = [\n",
    "        [ano, semestre, f\"{ano}/{semestre}\"] for ano in anos for semestre in semestres\n",
    "    ]\n",
    "\n",
    "    return pd.DataFrame(data, columns=[\"VL_ANO\", \"VL_SEMESTRE\", \"DS_PERIODO\"])"
   ]
  },
  {
   "cell_type": "code",
   "execution_count": null,
   "metadata": {},
   "outputs": [],
   "source": [
    "df_silver = extrair_dados_database(\"alunos/alunos.parquet\", \"silver\")"
   ]
  },
  {
   "cell_type": "code",
   "execution_count": null,
   "metadata": {},
   "outputs": [],
   "source": [
    "# Colunas da dimensão PERÍODO\n",
    "colunas_periodo = [\"SK_D_PERIODO\", \"VL_ANO\", \"VL_SEMESTRE\", \"DS_PERIODO\"]\n",
    "\n",
    "# Geração dos períodos\n",
    "d_periodo = gerar_periodos(df_silver)\n",
    "\n",
    "# Criação do SK_D_PERIODO usando SHA-256\n",
    "d_periodo[\"SK_D_PERIODO\"] = d_periodo.apply(\n",
    "    lambda x: hashlib.sha256(str(x[\"DS_PERIODO\"]).encode()).hexdigest(), axis=1\n",
    ")\n",
    "\n",
    "# Reordenação das colunas\n",
    "d_periodo = d_periodo.reindex(columns=colunas_periodo)"
   ]
  },
  {
   "cell_type": "code",
   "execution_count": null,
   "metadata": {},
   "outputs": [],
   "source": [
    "# Salvar dados na camada Gold\n",
    "carregar_dados_database(d_periodo, \"d_periodo\", \"gold\", \"parquet\")"
   ]
  }
 ],
 "metadata": {
  "kernelspec": {
   "display_name": "Python 3",
   "language": "python",
   "name": "python3"
  },
  "language_info": {
   "codemirror_mode": {
    "name": "ipython",
    "version": 3
   },
   "file_extension": ".py",
   "mimetype": "text/x-python",
   "name": "python",
   "nbconvert_exporter": "python",
   "pygments_lexer": "ipython3",
   "version": "3.12.3"
  }
 },
 "nbformat": 4,
 "nbformat_minor": 2
}
