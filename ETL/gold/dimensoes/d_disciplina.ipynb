{
 "cells": [
  {
   "cell_type": "code",
   "execution_count": 80,
   "metadata": {},
   "outputs": [],
   "source": [
    "import hashlib\n",
    "import sys\n",
    "import os\n",
    "import pandas as pd\n",
    "from unidecode import unidecode"
   ]
  },
  {
   "cell_type": "code",
   "execution_count": 81,
   "metadata": {},
   "outputs": [],
   "source": [
    "# Função para adicionar o caminho do módulo 'utils' ao sys.path\n",
    "utils_path = os.path.abspath(\"../../\")\n",
    "if utils_path not in sys.path:\n",
    "    sys.path.append(utils_path)"
   ]
  },
  {
   "cell_type": "code",
   "execution_count": 82,
   "metadata": {},
   "outputs": [],
   "source": [
    "from utils.auxiliary_functions.all_auxiliary_functions import (\n",
    "    extrair_dados_database,\n",
    "    carregar_dados_database,\n",
    ")"
   ]
  },
  {
   "cell_type": "code",
   "execution_count": 83,
   "metadata": {},
   "outputs": [],
   "source": [
    "def processar_disciplina(disciplina):\n",
    "    \"\"\"\n",
    "    Processa uma string de detalhes de disciplina, dividindo em componentes.\n",
    "\n",
    "    Args:\n",
    "        disciplina (str): String contendo os detalhes da disciplina.\n",
    "\n",
    "    Returns:\n",
    "        tuple: Uma tupla contendo os detalhes processados da disciplina.\n",
    "    \"\"\"\n",
    "    detalhes_disciplinas = disciplina.split(\" - \")\n",
    "    if len(detalhes_disciplinas) == 5:\n",
    "        detalhes_disciplinas[1] = \" - \".join(detalhes_disciplinas[1:3])\n",
    "        del detalhes_disciplinas[2]\n",
    "    return tuple(detalhes_disciplinas)\n",
    "\n",
    "\n",
    "def obter_disciplina_e_codigo(x):\n",
    "    \"\"\"\n",
    "    Extrai código e nome da disciplina a partir de uma lista de strings.\n",
    "\n",
    "    Args:\n",
    "        x (list): Lista contendo os detalhes da disciplina.\n",
    "\n",
    "    Returns:\n",
    "        tuple: Uma tupla com o código e o nome da disciplina, ou NaN se não disponível.\n",
    "    \"\"\"\n",
    "    if x[0] == \"nan\":\n",
    "        return np.nan\n",
    "    try:\n",
    "        return (\n",
    "            x[1].split()[0].replace(\" \", \"\"),\n",
    "            \" \".join(x[1].split()[1:]),\n",
    "        )\n",
    "    except IndexError:\n",
    "        print(\"Erro de índice para:\", x)\n",
    "        return None"
   ]
  },
  {
   "cell_type": "code",
   "execution_count": 84,
   "metadata": {},
   "outputs": [],
   "source": [
    "df_silver = extrair_dados_database(\"alunos_ufrj.parquet\", \"silver\")"
   ]
  },
  {
   "cell_type": "code",
   "execution_count": 85,
   "metadata": {},
   "outputs": [],
   "source": [
    "# Remove as linhas onde a coluna 'disciplinasCursadas' tem NaN ou None e obtém as disciplinas únicas\n",
    "df_silver = df_silver.dropna(subset=[\"disciplinasCursadas\"])[[\"disciplinasCursadas\"]].drop_duplicates()"
   ]
  },
  {
   "cell_type": "code",
   "execution_count": 86,
   "metadata": {},
   "outputs": [],
   "source": [
    "# Processa a coluna 'disciplinasCursadas' para separar em periodo, disciplina, grau, situação\n",
    "df_silver[\"disciplinasCursadas\"] = df_silver[\"disciplinasCursadas\"].apply(\n",
    "    lambda row: [processar_disciplina(item) for item in row.split(\"\\n\")]\n",
    ")\n",
    "\n",
    "# Explode a coluna 'disciplinasCursadas' para dividir as listas de disciplinas em linhas separadas\n",
    "df_exploded = df_silver.explode(\"disciplinasCursadas\")\n",
    "\n",
    "# Processa os detalhes das disciplinas\n",
    "df_exploded[\"disciplinasCursadas\"] = df_exploded[\"disciplinasCursadas\"].apply(\n",
    "    obter_disciplina_e_codigo\n",
    ")\n",
    "\n",
    "# Remove disciplinas duplicadas\n",
    "df_exploded.drop_duplicates(inplace=True)"
   ]
  },
  {
   "cell_type": "code",
   "execution_count": 87,
   "metadata": {},
   "outputs": [],
   "source": [
    "# Cria DataFrame somente com codigo e nome da disciplina\n",
    "d_disciplina = pd.DataFrame(\n",
    "    df_exploded[\"disciplinasCursadas\"].tolist(),\n",
    "    index=df_exploded.index,\n",
    "    columns=[\"codDisciplina\", \"nomeDisciplina\"],\n",
    ")"
   ]
  },
  {
   "cell_type": "code",
   "execution_count": 88,
   "metadata": {},
   "outputs": [],
   "source": [
    "# Remover acentos e cedilhas\n",
    "d_disciplina['nomeDisciplina'] = d_disciplina['nomeDisciplina'].apply(unidecode)\n",
    "d_disciplina = d_disciplina.drop_duplicates()"
   ]
  },
  {
   "cell_type": "code",
   "execution_count": 89,
   "metadata": {},
   "outputs": [],
   "source": [
    "# Dicionário de substituições de disciplinas\n",
    "dicionario_substituicoes = {\n",
    "    'Top Esp em Eng de Softaware': 'Top Esp em Eng de Software',\n",
    "    'Fisico-quimica I': 'Fisico-Quimica I',\n",
    "    'Topicos Especiais em Redes': 'Topicos Especiais em Redes I',\n",
    "    # Adicione mais substituições conforme necessário\n",
    "}\n",
    "\n",
    "# Função para substituir frases com base no dicionário\n",
    "def substituir_disciplina(frase):\n",
    "    return dicionario_substituicoes.get(frase, frase)\n",
    "\n",
    "d_disciplina['nomeDisciplina'] = d_disciplina['nomeDisciplina'].apply(substituir_disciplina)\n",
    "d_disciplina.drop_duplicates(subset='nomeDisciplina', inplace=True)"
   ]
  },
  {
   "cell_type": "code",
   "execution_count": 75,
   "metadata": {},
   "outputs": [],
   "source": [
    "# Criação do sk_d_disciplina usando SHA-256\n",
    "d_disciplina[\"SK_D_DISCIPLINA\"] = d_disciplina.apply(\n",
    "    lambda x: hashlib.sha256(\n",
    "        str(x[\"codDisciplina\"] + x[\"nomeDisciplina\"]).encode()\n",
    "    ).hexdigest(),\n",
    "    axis=1,\n",
    ")\n",
    "\n",
    "# Padronizando nome das colunas\n",
    "d_disciplina = d_disciplina.rename(\n",
    "    columns={\n",
    "        \"codDisciplina\": \"CD_DISCIPLINA\",\n",
    "        \"nomeDisciplina\": \"DS_NOME_DISCIPLINA\",\n",
    "    }\n",
    ")"
   ]
  },
  {
   "cell_type": "code",
   "execution_count": 76,
   "metadata": {},
   "outputs": [],
   "source": [
    "# Reordenação das colunas\n",
    "colunas_disciplina = [\"SK_D_DISCIPLINA\", \"CD_DISCIPLINA\", \"DS_NOME_DISCIPLINA\"]\n",
    "d_disciplina = d_disciplina.reindex(columns=colunas_disciplina)"
   ]
  },
  {
   "cell_type": "code",
   "execution_count": 78,
   "metadata": {},
   "outputs": [],
   "source": [
    "# d_disciplina[d_disciplina['CD_DISCIPLINA'].duplicated(keep=False)].sort_values('CD_DISCIPLINA')"
   ]
  },
  {
   "cell_type": "code",
   "execution_count": 79,
   "metadata": {},
   "outputs": [],
   "source": [
    "# Salvar dados na camada Gold\n",
    "carregar_dados_database(d_disciplina, \"d_disciplina.parquet\", \"gold\")"
   ]
  }
 ],
 "metadata": {
  "kernelspec": {
   "display_name": "Python 3",
   "language": "python",
   "name": "python3"
  },
  "language_info": {
   "codemirror_mode": {
    "name": "ipython",
    "version": 3
   },
   "file_extension": ".py",
   "mimetype": "text/x-python",
   "name": "python",
   "nbconvert_exporter": "python",
   "pygments_lexer": "ipython3",
   "version": "3.12.3"
  }
 },
 "nbformat": 4,
 "nbformat_minor": 2
}
