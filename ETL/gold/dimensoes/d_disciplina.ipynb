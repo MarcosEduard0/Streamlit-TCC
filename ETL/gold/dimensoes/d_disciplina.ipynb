{
 "cells": [
  {
   "cell_type": "code",
   "execution_count": 1,
   "metadata": {},
   "outputs": [],
   "source": [
    "import pandas as pd\n",
    "import hashlib\n",
    "import numpy as np"
   ]
  },
  {
   "cell_type": "code",
   "execution_count": 2,
   "metadata": {},
   "outputs": [],
   "source": [
    "data_path = \"../../../database\"\n",
    "\n",
    "df = pd.read_csv(f\"{data_path}/silver/arquivo_anonimizado_v2.csv\")"
   ]
  },
  {
   "cell_type": "code",
   "execution_count": 3,
   "metadata": {},
   "outputs": [],
   "source": [
    "def processar_disciplina(disciplina):\n",
    "    detalhes_disciplinas = disciplina.split(\" - \")\n",
    "    if len(detalhes_disciplinas) == 5:\n",
    "        detalhes_disciplinas[1] = \" - \".join(detalhes_disciplinas[1:3])\n",
    "        del detalhes_disciplinas[2]\n",
    "    return tuple(detalhes_disciplinas)"
   ]
  },
  {
   "cell_type": "code",
   "execution_count": 4,
   "metadata": {},
   "outputs": [],
   "source": [
    "def pegar_disciplinas(x):\n",
    "    if x[0] == 'nan':\n",
    "        return np.nan\n",
    "    try:\n",
    "        return (\n",
    "            x[1].split()[0].replace(\" \", \"\"),\n",
    "            \" \".join(x[1].split()[1:]),\n",
    "        )\n",
    "    except IndexError:\n",
    "        print(\"Erro de índice para:\", x)\n",
    "        return None"
   ]
  },
  {
   "cell_type": "code",
   "execution_count": 5,
   "metadata": {},
   "outputs": [],
   "source": [
    "# Converte a coluna 'disciplinas_cursadas' para string\n",
    "df[\"disciplinas_cursadas\"] = df[\"disciplinas_cursadas\"].astype(str)\n",
    "\n",
    "# Processa a coluna 'disciplinas_cursadas' para separar em periodo, disciplina, grau, stituação\n",
    "df[\"disciplinas_cursadas\"] = df[\"disciplinas_cursadas\"].apply(lambda row: [processar_disciplina(item) for item in row.split(\"\\n\")])\n",
    "\n",
    "# Explode a coluna 'disciplinas_cursadas' para dividir as listas em linhas separadas\n",
    "df_exploded = df.explode(\"disciplinas_cursadas\")\n",
    "\n",
    "df_exploded[\"disciplinas_cursadas\"] = df_exploded[\"disciplinas_cursadas\"].apply(pegar_disciplinas)\n",
    "\n",
    "df_exploded.dropna(inplace=True)"
   ]
  },
  {
   "cell_type": "code",
   "execution_count": 6,
   "metadata": {},
   "outputs": [],
   "source": [
    "df_disciplina = pd.DataFrame(\n",
    "    df_exploded[\"disciplinas_cursadas\"].tolist(),\n",
    "    index=df_exploded.index,\n",
    "    columns=(\n",
    "        \"cod_disciplina\",\n",
    "        \"nome_disciplina\",\n",
    "    ),\n",
    ")\n",
    "\n",
    "d_disciplina = df_disciplina.drop_duplicates().reset_index(drop=True)"
   ]
  },
  {
   "cell_type": "code",
   "execution_count": 7,
   "metadata": {},
   "outputs": [],
   "source": [
    "d_disciplina[\"sk_d_disciplina\"] = d_disciplina.apply(\n",
    "    lambda x: hashlib.sha256(\n",
    "        str(x[\"cod_disciplina\"] + x[\"nome_disciplina\"]).encode()\n",
    "    ).hexdigest(),\n",
    "    axis=1,\n",
    ")\n",
    "\n",
    "colunas_disciplina = [\"sk_d_disciplina\", \"cod_disciplina\", \"nome_disciplina\"]\n",
    "\n",
    "d_disciplina = d_disciplina.reindex(columns=colunas_disciplina)"
   ]
  },
  {
   "cell_type": "code",
   "execution_count": 8,
   "metadata": {},
   "outputs": [],
   "source": [
    "d_disciplina.to_csv(f\"{data_path}/gold/d_disciplina.csv\", index=False)"
   ]
  }
 ],
 "metadata": {
  "kernelspec": {
   "display_name": "Python 3",
   "language": "python",
   "name": "python3"
  },
  "language_info": {
   "codemirror_mode": {
    "name": "ipython",
    "version": 3
   },
   "file_extension": ".py",
   "mimetype": "text/x-python",
   "name": "python",
   "nbconvert_exporter": "python",
   "pygments_lexer": "ipython3",
   "version": "3.12.3"
  }
 },
 "nbformat": 4,
 "nbformat_minor": 2
}
