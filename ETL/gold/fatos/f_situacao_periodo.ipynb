{
 "cells": [
  {
   "cell_type": "code",
   "execution_count": 173,
   "metadata": {},
   "outputs": [],
   "source": [
    "import pandas as pd\n",
    "import sys\n",
    "import os"
   ]
  },
  {
   "cell_type": "code",
   "execution_count": 174,
   "metadata": {},
   "outputs": [],
   "source": [
    "DEBUG = False\n",
    "\n",
    "# Função para adicionar o caminho do módulo 'utils' ao sys.path\n",
    "utils_path = os.path.abspath(\"../\") if DEBUG else os.path.abspath(\"../../\")\n",
    "if utils_path not in sys.path:\n",
    "    sys.path.append(utils_path)"
   ]
  },
  {
   "cell_type": "code",
   "execution_count": 175,
   "metadata": {},
   "outputs": [],
   "source": [
    "from utils.auxiliary_functions.all_auxiliary_functions import (\n",
    "    extrair_dados_database,\n",
    "    carregar_dados_database,\n",
    ")"
   ]
  },
  {
   "cell_type": "code",
   "execution_count": 176,
   "metadata": {},
   "outputs": [],
   "source": [
    "# Leitura do arquivo\n",
    "df_silver = extrair_dados_database(\"alunos/alunos.parquet\", \"silver\")\n",
    "\n",
    "# Carregando as dimensoes\n",
    "df_d_aluno = extrair_dados_database(\"d_aluno.parquet\", \"gold\")\n",
    "df_d_periodo = extrair_dados_database(\"d_periodo.parquet\", \"gold\")\n",
    "df_d_curso = extrair_dados_database(\"d_curso.parquet\", \"gold\")"
   ]
  },
  {
   "cell_type": "markdown",
   "metadata": {},
   "source": [
    "# CR"
   ]
  },
  {
   "cell_type": "code",
   "execution_count": 177,
   "metadata": {},
   "outputs": [],
   "source": [
    "df_cr = df_silver.dropna(subset='crPorPeriodo').copy()\n",
    "\n",
    "# Converte a coluna 'crPorPeriodo' para uma lista de tuplas\n",
    "df_cr[\"crPorPeriodo\"] = df_cr[\"crPorPeriodo\"].apply(\n",
    "    lambda x: [tuple(item.split(\" - \")) for item in x.split(\"\\n\")]\n",
    ")\n",
    "# Explode a coluna 'crPorPeriodo' para dividir as listas em linhas separadas\n",
    "df_cr_exploded = df_cr.explode(\"crPorPeriodo\")\n",
    "\n",
    "# Cria um novo DataFrame com as tuplas da coluna 'crPorPeriodo' separadas em colunas 'periodo' e 'crPorPeriodo'\n",
    "df_crPeriodo = pd.DataFrame(\n",
    "    df_cr_exploded[\"crPorPeriodo\"].tolist(),\n",
    "    index=df_cr_exploded.index,\n",
    "    columns=(\"periodo\", \"cr_periodo\"),\n",
    ")\n",
    "\n",
    "# Adiciona as colunas 'matriculaDre' e 'periodo_temp' ao novo DataFrame\n",
    "df_crPeriodo[\"matriculaDre\"] = df_cr_exploded[\"matriculaDre\"].values\n",
    "df_crPeriodo.dropna(inplace=True)\n",
    "df_crPeriodo.drop_duplicates(inplace=True)"
   ]
  },
  {
   "cell_type": "markdown",
   "metadata": {},
   "source": [
    "# CRA"
   ]
  },
  {
   "cell_type": "code",
   "execution_count": 178,
   "metadata": {},
   "outputs": [],
   "source": [
    "df_cra = df_silver.dropna(subset='craPorPeriodo').copy()\n",
    "\n",
    "# Converte a coluna 'crPorPeriodo' para uma lista de tuplas\n",
    "df_cra[\"craPorPeriodo\"] = df_cra[\"craPorPeriodo\"].apply(\n",
    "    lambda x: [tuple(item.split(\" - \")) for item in x.split(\"\\n\")]\n",
    ")\n",
    "# Explode a coluna 'crPorPeriodo' para dividir as listas em linhas separadas\n",
    "df_cra_exploded = df_cra.explode(\"craPorPeriodo\")\n",
    "\n",
    "# Cria um novo DataFrame com as tuplas da coluna 'crPorPeriodo' separadas em colunas 'periodo' e 'cr_periodo'\n",
    "df_craPeriodo = pd.DataFrame(\n",
    "    df_cra_exploded[\"craPorPeriodo\"].tolist(),\n",
    "    index=df_cra_exploded.index,\n",
    "    columns=(\"periodo\", \"cr_acumulado\"),\n",
    ")\n",
    "# Adiciona a coluna 'matriculaDre' ao DataFrame 'df_craPeriodo'\n",
    "df_craPeriodo[\"matriculaDre\"] = df_cra_exploded[\"matriculaDre\"].values\n",
    "df_craPeriodo.dropna(inplace=True)\n",
    "df_craPeriodo.drop_duplicates(inplace=True)\n",
    "# df_craPeriodo['cr_acumulado'] = df_craPeriodo['cr_acumulado'].fillna(value=0)"
   ]
  },
  {
   "cell_type": "markdown",
   "metadata": {},
   "source": [
    "# MERGER"
   ]
  },
  {
   "cell_type": "code",
   "execution_count": 179,
   "metadata": {},
   "outputs": [],
   "source": [
    "df_silver = df_silver[['matriculaDre', 'codCursoIngresso', 'codCursoAtual']]\n",
    "df_crs = df_craPeriodo.merge(df_crPeriodo, how='outer')\n",
    "df_situacao_periodo = df_silver.merge(df_crs)"
   ]
  },
  {
   "cell_type": "code",
   "execution_count": 180,
   "metadata": {},
   "outputs": [],
   "source": [
    "# Padronizando nome das colunas\n",
    "f_situacao_periodo = df_situacao_periodo.rename(\n",
    "    columns={\n",
    "        \"matriculaDre\": \"DS_MATRICULA_DRE\",\n",
    "        \"periodo\": \"DS_PERIODO\",\n",
    "        \"cr_acumulado\": \"VL_CR_ACUMULADO\",\n",
    "        \"cr_periodo\": \"VL_CR_PERIODO\",\n",
    "        'codCursoIngresso': 'CD_CURSO_INGRESSO',\n",
    "        'cursoIngressoUFRJ': 'DS_NOME_CURSO_INGRESSO',\n",
    "        'codCursoAtual': 'CD_CURSO_ATUAL',\n",
    "        'cursoAtual': 'DS_NOME_CURSO_ATUAL'\n",
    "    }\n",
    ")"
   ]
  },
  {
   "cell_type": "code",
   "execution_count": 181,
   "metadata": {},
   "outputs": [],
   "source": [
    "f_situacao_periodo = pd.merge(\n",
    "    f_situacao_periodo,\n",
    "    df_d_aluno[[\"SK_D_ALUNO\", \"DS_MATRICULA_DRE\"]],\n",
    "    on=\"DS_MATRICULA_DRE\",\n",
    "    how=\"inner\",\n",
    ")\n",
    "f_situacao_periodo = pd.merge(\n",
    "    f_situacao_periodo,\n",
    "    df_d_periodo[[\"DS_PERIODO\", \"SK_D_PERIODO\"]],\n",
    "    on=\"DS_PERIODO\",\n",
    "    how=\"inner\",\n",
    ")\n",
    "f_situacao_periodo = pd.merge(\n",
    "    f_situacao_periodo,\n",
    "    df_d_curso[[\"SK_D_CURSO\", \"CD_CURSO_INGRESSO\", \"CD_CURSO_ATUAL\"]],\n",
    "    on=[\"CD_CURSO_INGRESSO\", \"CD_CURSO_ATUAL\"],\n",
    "    how=\"inner\",\n",
    ")"
   ]
  },
  {
   "cell_type": "code",
   "execution_count": 165,
   "metadata": {},
   "outputs": [],
   "source": [
    "f_situacao_periodo = f_situacao_periodo[['SK_D_ALUNO', 'SK_D_PERIODO', 'SK_D_CURSO', 'VL_CR_PERIODO', 'VL_CR_ACUMULADO']]"
   ]
  },
  {
   "cell_type": "code",
   "execution_count": 183,
   "metadata": {},
   "outputs": [],
   "source": [
    "f_situacao_periodo[\"VL_CR_PERIODO\"] = pd.to_numeric(f_situacao_periodo[\"VL_CR_PERIODO\"], errors=\"coerce\")\n",
    "f_situacao_periodo[\"VL_CR_ACUMULADO\"] = pd.to_numeric(f_situacao_periodo[\"VL_CR_ACUMULADO\"], errors=\"coerce\")"
   ]
  },
  {
   "cell_type": "code",
   "execution_count": 168,
   "metadata": {},
   "outputs": [],
   "source": [
    "# Salvar dados na camada Gold\n",
    "carregar_dados_database(f_situacao_periodo, \"f_situacao_periodo\", \"gold\", \"parquet\")"
   ]
  }
 ],
 "metadata": {
  "kernelspec": {
   "display_name": "Python 3",
   "language": "python",
   "name": "python3"
  },
  "language_info": {
   "codemirror_mode": {
    "name": "ipython",
    "version": 3
   },
   "file_extension": ".py",
   "mimetype": "text/x-python",
   "name": "python",
   "nbconvert_exporter": "python",
   "pygments_lexer": "ipython3",
   "version": "3.12.3"
  }
 },
 "nbformat": 4,
 "nbformat_minor": 2
}
