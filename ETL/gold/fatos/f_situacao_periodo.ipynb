{
 "cells": [
  {
   "cell_type": "code",
   "execution_count": 1,
   "metadata": {},
   "outputs": [],
   "source": [
    "import pandas as pd\n",
    "import numpy as np\n",
    "from datetime import datetime"
   ]
  },
  {
   "cell_type": "code",
   "execution_count": 2,
   "metadata": {},
   "outputs": [],
   "source": [
    "data_path = \"../../../database\"\n",
    "\n",
    "df = pd.read_csv(f\"{data_path}/silver/arquivo_anonimizado_v2.csv\")\n",
    "\n",
    "\n",
    "D_CURSO = pd.read_csv(f\"{data_path}/gold/d_curso.csv\")\n",
    "\n",
    "D_PERIODO = pd.read_csv(f\"{data_path}/gold/d_periodo.csv\")\n",
    "\n",
    "D_ALUNO = pd.read_csv(f\"{data_path}/gold/d_aluno.csv\")"
   ]
  },
  {
   "cell_type": "code",
   "execution_count": 3,
   "metadata": {},
   "outputs": [],
   "source": [
    "# Converte a coluna 'cr_periodo' para string\n",
    "df[\"cr_periodo\"] = df[\"cr_periodo\"].astype(str)\n",
    "\n",
    "# Converte a coluna 'cr_periodo' para uma lista de tuplas\n",
    "df[\"cr_periodo\"] = df[\"cr_periodo\"].apply(\n",
    "    lambda x: [tuple(item.split(\" - \")) for item in x.split(\"\\n\")]\n",
    ")\n",
    "# Explode a coluna 'cr_periodo' para dividir as listas em linhas separadas\n",
    "df_exploded = df.explode(\"cr_periodo\")\n",
    "\n",
    "# Cria um novo DataFrame com as tuplas da coluna 'crPorPeriodo' separadas em colunas 'periodo' e 'cr_periodo'\n",
    "df_crPeriodo = pd.DataFrame(\n",
    "    df_exploded[\"cr_periodo\"].tolist(),\n",
    "    index=df_exploded.index,\n",
    "    columns=(\"periodo\", \"cr_periodo\"),\n",
    ")\n",
    "\n",
    "# Adiciona as colunas 'matricula_dre' e 'periodo_temp' ao novo DataFrame\n",
    "df_crPeriodo[\"matricula_dre\"] = df_exploded[\"matricula_dre\"]\n",
    "\n",
    "df_crPeriodo.dropna(inplace=True)"
   ]
  },
  {
   "cell_type": "markdown",
   "metadata": {},
   "source": [
    "# CRA"
   ]
  },
  {
   "cell_type": "code",
   "execution_count": 4,
   "metadata": {},
   "outputs": [],
   "source": [
    "# Converte a coluna 'cra_periodo' para string\n",
    "df[\"cra_periodo\"] = df[\"cra_periodo\"].astype(str)\n",
    "\n",
    "# Converte a coluna 'crPorPeriodo' para uma lista de tuplas\n",
    "df[\"cra_periodo\"] = df[\"cra_periodo\"].apply(\n",
    "    lambda x: [tuple(item.split(\" - \")) for item in x.split(\"\\n\")]\n",
    ")\n",
    "# Explode a coluna 'crPorPeriodo' para dividir as listas em linhas separadas\n",
    "df_exploded = df.explode(\"cra_periodo\")\n",
    "\n",
    "# Cria um novo DataFrame com as tuplas da coluna 'crPorPeriodo' separadas em colunas 'periodo' e 'cr_periodo'\n",
    "df_craPeriodo = pd.DataFrame(\n",
    "    df_exploded[\"cra_periodo\"].tolist(),\n",
    "    index=df_exploded.index,\n",
    "    columns=(\"periodo\", \"cr_acumulado\"),\n",
    ")\n",
    "# Adiciona as colunas 'matriculaDRE' e 'periodo_temp' ao novo DataFrame\n",
    "df_craPeriodo[\"matricula_dre\"] = df_exploded[\"matricula_dre\"]\n",
    "df_craPeriodo.dropna(inplace=True)\n",
    "df_craPeriodo.drop_duplicates(inplace=True)"
   ]
  },
  {
   "cell_type": "markdown",
   "metadata": {},
   "source": [
    "# MERGER"
   ]
  },
  {
   "cell_type": "code",
   "execution_count": 5,
   "metadata": {},
   "outputs": [],
   "source": [
    "df = df.drop(['cr_periodo', 'cra_periodo'], axis=1)"
   ]
  },
  {
   "cell_type": "code",
   "execution_count": 6,
   "metadata": {},
   "outputs": [],
   "source": [
    "df_crs = df_craPeriodo.merge(df_crPeriodo, how='outer')"
   ]
  },
  {
   "cell_type": "code",
   "execution_count": 7,
   "metadata": {},
   "outputs": [],
   "source": [
    "f_situacao_periodo = df.merge(df_crs)"
   ]
  },
  {
   "cell_type": "code",
   "execution_count": 8,
   "metadata": {},
   "outputs": [],
   "source": [
    "f_situacao_periodo =f_situacao_periodo.merge(D_ALUNO, on='matricula_dre')"
   ]
  },
  {
   "cell_type": "code",
   "execution_count": 9,
   "metadata": {},
   "outputs": [],
   "source": [
    "f_situacao_periodo = f_situacao_periodo.merge(D_PERIODO, on='periodo')"
   ]
  },
  {
   "cell_type": "code",
   "execution_count": 10,
   "metadata": {},
   "outputs": [],
   "source": [
    "f_situacao_periodo = f_situacao_periodo.merge(D_CURSO)"
   ]
  },
  {
   "cell_type": "code",
   "execution_count": 11,
   "metadata": {},
   "outputs": [],
   "source": [
    "f_situacao_periodo = f_situacao_periodo[['sk_d_aluno', 'sk_d_periodo', 'sk_d_curso', 'cr_periodo', 'cr_acumulado']]"
   ]
  },
  {
   "cell_type": "code",
   "execution_count": 12,
   "metadata": {},
   "outputs": [],
   "source": [
    "f_situacao_periodo.to_csv(f\"{data_path}/gold/f_situacao_periodo.csv\", index=False)"
   ]
  }
 ],
 "metadata": {
  "kernelspec": {
   "display_name": "Python 3",
   "language": "python",
   "name": "python3"
  },
  "language_info": {
   "codemirror_mode": {
    "name": "ipython",
    "version": 3
   },
   "file_extension": ".py",
   "mimetype": "text/x-python",
   "name": "python",
   "nbconvert_exporter": "python",
   "pygments_lexer": "ipython3",
   "version": "3.12.3"
  }
 },
 "nbformat": 4,
 "nbformat_minor": 2
}
