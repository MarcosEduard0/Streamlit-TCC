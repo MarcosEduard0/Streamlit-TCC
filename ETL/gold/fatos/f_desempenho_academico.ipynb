{
 "cells": [
  {
   "cell_type": "code",
   "execution_count": 104,
   "metadata": {},
   "outputs": [],
   "source": [
    "import pandas as pd\n",
    "import numpy as np\n",
    "import sys\n",
    "import os\n",
    "from unidecode import unidecode\n"
   ]
  },
  {
   "cell_type": "code",
   "execution_count": 105,
   "metadata": {},
   "outputs": [],
   "source": [
    "DEBUG = False\n",
    "\n",
    "# Função para adicionar o caminho do módulo 'utils' ao sys.path\n",
    "utils_path = os.path.abspath(\"../\") if DEBUG else os.path.abspath(\"../../\")\n",
    "if utils_path not in sys.path:\n",
    "    sys.path.append(utils_path)"
   ]
  },
  {
   "cell_type": "code",
   "execution_count": 106,
   "metadata": {},
   "outputs": [],
   "source": [
    "from utils.auxiliary_functions.all_auxiliary_functions import (\n",
    "    extrair_dados_database,\n",
    "    carregar_dados_database,\n",
    ")"
   ]
  },
  {
   "cell_type": "code",
   "execution_count": 107,
   "metadata": {},
   "outputs": [],
   "source": [
    "def processar_disciplina(disciplina):\n",
    "    \"\"\"\n",
    "    Processa uma string de detalhes de disciplina, dividindo em componentes.\n",
    "\n",
    "    Args:\n",
    "        disciplina (str): String contendo os detalhes da disciplina.\n",
    "\n",
    "    Returns:\n",
    "        tuple: Uma tupla contendo os detalhes processados da disciplina.\n",
    "    \"\"\"\n",
    "    detalhes_disciplinas = disciplina.split(\" - \")\n",
    "    if len(detalhes_disciplinas) == 5:\n",
    "        detalhes_disciplinas[1] = \" - \".join(detalhes_disciplinas[1:3])\n",
    "        del detalhes_disciplinas[2]\n",
    "    return tuple(detalhes_disciplinas)\n",
    "\n",
    "\n",
    "def separar_disciplina_e_codigo(x):\n",
    "    \"\"\"\n",
    "    Extrai código e nome da disciplina a partir de uma lista de strings.\n",
    "\n",
    "    Args:\n",
    "        x (list): Lista contendo os detalhes da disciplina.\n",
    "\n",
    "    Returns:\n",
    "        tuple: Uma tupla com o código e o nome da disciplina, ou NaN se não disponível.\n",
    "    \"\"\"\n",
    "    if x[0] == \"nan\":\n",
    "        return np.nan\n",
    "    try:\n",
    "        return (\n",
    "            x[0],\n",
    "            x[1].split()[0].replace(\" \", \"\"),\n",
    "            \" \".join(x[1].split()[1:]).strip(),\n",
    "            x[2].strip(),\n",
    "            x[3].strip()\n",
    "        )\n",
    "    except IndexError:\n",
    "        print(\"Erro de índice para:\", x)\n",
    "        return None\n",
    "    "
   ]
  },
  {
   "cell_type": "code",
   "execution_count": 108,
   "metadata": {},
   "outputs": [],
   "source": [
    "# Leitura do arquivo\n",
    "df_silver = extrair_dados_database(\"alunos_ufrj.parquet\", \"silver\")\n",
    "\n",
    "# Carregando as dimensoes\n",
    "df_d_aluno = extrair_dados_database(\"d_aluno.parquet\", \"gold\")\n",
    "df_d_periodo = extrair_dados_database(\"d_periodo.parquet\", \"gold\")\n",
    "df_d_curso = extrair_dados_database(\"d_curso.parquet\", \"gold\")\n",
    "df_d_periodo = extrair_dados_database(\"d_periodo.parquet\", \"gold\")\n",
    "df_d_disciplina = extrair_dados_database(\"d_disciplina.parquet\", \"gold\")\n",
    "df_d_situacao = extrair_dados_database(\"d_situacao.parquet\", \"gold\")"
   ]
  },
  {
   "cell_type": "code",
   "execution_count": 109,
   "metadata": {},
   "outputs": [],
   "source": [
    "# Remove as linhas onde a coluna 'disciplinasCursadas' tem NaN ou None\n",
    "df_silver = df_silver.dropna(subset=[\"disciplinasCursadas\"])"
   ]
  },
  {
   "cell_type": "code",
   "execution_count": 110,
   "metadata": {},
   "outputs": [],
   "source": [
    "# Processa a coluna 'disciplinasCursadas' para separar em periodo, disciplina, grau, situação\n",
    "df_silver[\"disciplinasCursadas\"] = df_silver[\"disciplinasCursadas\"].apply(\n",
    "    lambda row: [processar_disciplina(item) for item in row.split(\"\\n\")]\n",
    ")"
   ]
  },
  {
   "cell_type": "code",
   "execution_count": 111,
   "metadata": {},
   "outputs": [],
   "source": [
    "# Explode a coluna 'disciplinasCursadas' para dividir as listas em linhas separadas\n",
    "df_exploded = df_silver.explode(\"disciplinasCursadas\")"
   ]
  },
  {
   "cell_type": "code",
   "execution_count": 112,
   "metadata": {},
   "outputs": [],
   "source": [
    "# Processa os detalhes das disciplinas\n",
    "df_exploded[\"disciplinasCursadas\"] = df_exploded[\"disciplinasCursadas\"].apply(\n",
    "    separar_disciplina_e_codigo\n",
    ")"
   ]
  },
  {
   "cell_type": "code",
   "execution_count": 113,
   "metadata": {},
   "outputs": [],
   "source": [
    "# Descompacta as tuplas em colunas separadas\n",
    "df_exploded[\n",
    "    [\n",
    "        \"periodo\",\n",
    "        \"codDisciplina\",\n",
    "        \"nomeDisciplina\",\n",
    "        \"grauDisciplina\",\n",
    "        \"situacaoDisciplina\",\n",
    "    ]\n",
    "] = pd.DataFrame(df_exploded[\"disciplinasCursadas\"].tolist(), index=df_exploded.index)"
   ]
  },
  {
   "cell_type": "code",
   "execution_count": 114,
   "metadata": {},
   "outputs": [],
   "source": [
    "def ajustar_grau_disciplina(grau):\n",
    "    if pd.isna(grau) or grau.strip() == '':\n",
    "        grau = 'NCG' # Não Confere Grau\n",
    "\n",
    "    elif grau.isdigit():\n",
    "        grau = str(float(grau)/10)\n",
    "\n",
    "    return grau\n",
    "\n",
    "# Aplicando a função ao DataFrame\n",
    "df_exploded['grauDisciplina'] = df_exploded['grauDisciplina'].apply(ajustar_grau_disciplina)"
   ]
  },
  {
   "cell_type": "code",
   "execution_count": 115,
   "metadata": {},
   "outputs": [],
   "source": [
    "# Remover acentos e cedilhas\n",
    "df_exploded['nomeDisciplina'] = df_exploded['nomeDisciplina'].apply(unidecode)\n",
    "\n",
    "# Dicionário de substituições de disciplinas\n",
    "dicionario_substituicoes = {\n",
    "    'Top Esp em Eng de Softaware': 'Top Esp em Eng de Software',\n",
    "    'Fisico-quimica I': 'Fisico-Quimica I',\n",
    "    'Topicos Especiais em Redes': 'Topicos Especiais em Redes I',\n",
    "    # Adicione mais substituições conforme necessário\n",
    "}\n",
    "\n",
    "# Função para substituir frases com base no dicionário\n",
    "def substituir_disciplina(frase):\n",
    "    return dicionario_substituicoes.get(frase, frase)\n",
    "\n",
    "df_exploded['nomeDisciplina'] = df_exploded['nomeDisciplina'].apply(substituir_disciplina)"
   ]
  },
  {
   "cell_type": "code",
   "execution_count": 116,
   "metadata": {},
   "outputs": [],
   "source": [
    "desempenho_academico = df_exploded[['periodo', 'codCursoIngresso', 'codCursoAtual', 'matriculaDre', 'codDisciplina', 'nomeDisciplina', 'grauDisciplina', 'situacaoDisciplina']]"
   ]
  },
  {
   "cell_type": "code",
   "execution_count": 117,
   "metadata": {},
   "outputs": [],
   "source": [
    "# Padronizando nome das colunas\n",
    "desempenho_academico = desempenho_academico.rename(\n",
    "    columns={\n",
    "        \"periodo\": \"DS_PERIODO\",\n",
    "        \"matriculaDre\": \"DS_MATRICULA_DRE\",\n",
    "        \"codDisciplina\": \"CD_DISCIPLINA\",\n",
    "        \"nomeDisciplina\": \"DS_NOME_DISCIPLINA\",\n",
    "        \"grauDisciplina\": \"VL_GRAU_DISCIPLINA\",\n",
    "        \"situacaoDisciplina\": \"DS_SITUACAO_DETALHADA\",\n",
    "        \"codCursoIngresso\": \"CD_CURSO_INGRESSO\",\n",
    "        \"codCursoAtual\": \"CD_CURSO_ATUAL\",\n",
    "    }\n",
    ")"
   ]
  },
  {
   "cell_type": "code",
   "execution_count": 120,
   "metadata": {},
   "outputs": [],
   "source": [
    "f_desempenho_academico = pd.merge(desempenho_academico, df_d_aluno, on='DS_MATRICULA_DRE', how='inner')\n",
    "f_desempenho_academico = pd.merge(f_desempenho_academico, df_d_disciplina, on=['CD_DISCIPLINA','DS_NOME_DISCIPLINA'], how='inner')\n",
    "f_desempenho_academico = pd.merge(f_desempenho_academico, df_d_periodo, on='DS_PERIODO', how='inner')\n",
    "f_desempenho_academico = pd.merge(f_desempenho_academico, df_d_curso, on=['CD_CURSO_INGRESSO', 'CD_CURSO_ATUAL'], how='inner')\n",
    "f_desempenho_academico = pd.merge(f_desempenho_academico, df_d_situacao, on=['DS_SITUACAO_DETALHADA'], how='inner')"
   ]
  },
  {
   "cell_type": "code",
   "execution_count": 122,
   "metadata": {},
   "outputs": [],
   "source": [
    "f_desempenho_academico = f_desempenho_academico[['SK_D_ALUNO', 'SK_D_DISCIPLINA', 'SK_D_CURSO', 'SK_D_PERIODO', 'SK_D_SITUACAO', 'VL_GRAU_DISCIPLINA']]"
   ]
  },
  {
   "cell_type": "code",
   "execution_count": 281,
   "metadata": {},
   "outputs": [],
   "source": [
    "# Salvar dados na camada Gold\n",
    "carregar_dados_database(f_desempenho_academico, \"f_desempenho_academico.parquet\", \"gold\")"
   ]
  }
 ],
 "metadata": {
  "kernelspec": {
   "display_name": "Python 3",
   "language": "python",
   "name": "python3"
  },
  "language_info": {
   "codemirror_mode": {
    "name": "ipython",
    "version": 3
   },
   "file_extension": ".py",
   "mimetype": "text/x-python",
   "name": "python",
   "nbconvert_exporter": "python",
   "pygments_lexer": "ipython3",
   "version": "3.12.3"
  }
 },
 "nbformat": 4,
 "nbformat_minor": 2
}
