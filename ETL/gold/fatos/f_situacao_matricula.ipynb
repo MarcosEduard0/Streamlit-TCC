{
 "cells": [
  {
   "cell_type": "code",
   "execution_count": 4,
   "metadata": {},
   "outputs": [],
   "source": [
    "import pandas as pd"
   ]
  },
  {
   "cell_type": "code",
   "execution_count": 5,
   "metadata": {},
   "outputs": [],
   "source": [
    "data_path = \"../../../database\"\n",
    "\n",
    "df = pd.read_csv(f\"{data_path}/silver/arquivo_anonimizado_v2.csv\")\n",
    "\n",
    "\n",
    "D_CURSO = pd.read_csv(f\"{data_path}/gold/d_curso.csv\")\n",
    "\n",
    "D_PERIODO = pd.read_csv(f\"{data_path}/gold/d_periodo.csv\")\n",
    "\n",
    "D_ALUNO = pd.read_csv(f\"{data_path}/gold/d_aluno.csv\")"
   ]
  },
  {
   "cell_type": "code",
   "execution_count": 6,
   "metadata": {},
   "outputs": [],
   "source": [
    "def calcular_periodo_integralizado(periodo_atual, quant_integralizado):\n",
    "    ano, semestre = map(int, periodo_atual.split('/'))\n",
    "    quant_integralizado = quant_integralizado\n",
    "    # Se quant_integralizado for ímpar, ajusta semestre e ano\n",
    "    if quant_integralizado % 2 == 1:\n",
    "        semestre += 1\n",
    "        if semestre > 2:\n",
    "            semestre = 1\n",
    "            ano += 1\n",
    "    \n",
    "    # Calcula o novo ano considerando todos os semestres integralizados\n",
    "    ano += quant_integralizado // 2\n",
    "\n",
    "    return f\"{ano}/{semestre}\"\n",
    "\n",
    "def obter_ultimo_periodo_cursado(row):\n",
    "    disciplinas_str = row.get(\"disciplinas_cursadas\", \"\")\n",
    "    periodos_trancados = row.get(\"periodos_trancados\", \"\")\n",
    "    situacao_matricula = row.get(\"situacao_matricula_simplificada\", \"\")\n",
    "    cra_periodo = row.get(\"cra_periodo\", \"\")\n",
    "    cr_periodo = row.get(\"cr_periodo\", \"\")\n",
    "    periodo_ingresso_ufrj = row.get(\"periodo_ingresso_ufrj\", \"\")\n",
    "\n",
    "    # Caso disciplinas cursadas seja NaN ou vazio\n",
    "    if pd.isna(disciplinas_str) or disciplinas_str == \"\":\n",
    "        if pd.isna(cra_periodo) and pd.isna(cr_periodo):\n",
    "            return periodo_ingresso_ufrj\n",
    "        else:\n",
    "            return cra_periodo.split(' - ')[0]\n",
    "\n",
    "    # Extração dos períodos cursados\n",
    "    disciplinas = disciplinas_str.split(\"\\n\")\n",
    "    periodos = [disciplina.split(\" - \")[0] for disciplina in disciplinas]\n",
    "\n",
    "    # Encontrar o maior período cursado\n",
    "    maior_periodo = max(periodos)\n",
    "\n",
    "    # Considerar períodos trancados se a situação da matrícula for \"Cancelada\"\n",
    "    if situacao_matricula == \"Cancelada\" and not pd.isna(periodos_trancados):\n",
    "        trancados = periodos_trancados.replace(\" \", \"\").split(\"|\")\n",
    "        maior_periodo_trancado = max(trancados)\n",
    "        # Calcula o periodo seguinte ao trancado\n",
    "        maior_periodo_trancado = calcular_periodo_integralizado(maior_periodo_trancado, 1)\n",
    "        maior_periodo = max(maior_periodo, maior_periodo_trancado)\n",
    "\n",
    "    return maior_periodo.replace(\"/0\", \"/1\")\n",
    "\n",
    "# Processar Trancamentos\n",
    "def processar_trancamentos(row):\n",
    "    if pd.isna(row):\n",
    "        return row\n",
    "    row = row.replace(' ', '')\n",
    "    row = tuple(row.split('|'))\n",
    "    return row"
   ]
  },
  {
   "cell_type": "code",
   "execution_count": 7,
   "metadata": {},
   "outputs": [],
   "source": [
    "# Obtém o valor máximo da coluna 'periodoIngressoUFRJ'\n",
    "periodo_atual = df['periodo_ingresso_ufrj'].max()\n",
    "\n",
    "# Filtra os dados para obter apenas as linhas com 'situacao_matricula' igual a 'Ativa'\n",
    "df_situacao_atual = df[(df['situacao_matricula_simplificada'] == \"Ativa\") | (df['situacao_matricula_simplificada'] == \"Trancada\")].copy()\n",
    "df_cancel_concluido = df[(df['situacao_matricula_simplificada'] == \"Cancelada\") | (df['situacao_matricula_simplificada'] == \"Concluido\")].copy()\n",
    "\n",
    "# Trancamento\n",
    "df_trancada = df[~df['periodos_trancados'].isna()].copy()\n",
    "df_trancada['situacao_matricula_simplificada'] = \"Trancada\"\n",
    "df_trancada['periodo'] = df_trancada['periodos_trancados'].apply(processar_trancamentos)"
   ]
  },
  {
   "cell_type": "code",
   "execution_count": 8,
   "metadata": {},
   "outputs": [],
   "source": [
    "df_situacao_atual['periodo'] = periodo_atual\n",
    "df_trancada = df_trancada.explode('periodo')\n",
    "df_cancel_concluido['periodo'] = df.apply(obter_ultimo_periodo_cursado, axis=1)"
   ]
  },
  {
   "cell_type": "code",
   "execution_count": 9,
   "metadata": {},
   "outputs": [],
   "source": [
    "colunas_tb_fato = [\n",
    "    \"matricula_dre\",\n",
    "    \"periodo\",\n",
    "    \"cod_curso_ingresso\",\n",
    "    \"curso_ingresso_ufrj\",\n",
    "    \"cod_curso_atual\",\n",
    "    \"curso_atual\",\n",
    "    \"situacao_matricula\",\n",
    "    \"situacao_matricula_simplificada\"\n",
    "]"
   ]
  },
  {
   "cell_type": "code",
   "execution_count": 10,
   "metadata": {},
   "outputs": [],
   "source": [
    "df_ativa = df_situacao_atual[colunas_tb_fato]\n",
    "df_trancada = df_trancada[colunas_tb_fato]\n",
    "df_cancel_concluido = df_cancel_concluido[colunas_tb_fato]\n",
    "\n",
    "# Usa a função concat para unir os DataFrames\n",
    "df_final = pd.concat([df_ativa, df_trancada, df_cancel_concluido], axis=0)\n",
    "\n",
    "# Reseta o índice se necessário\n",
    "df_final.reset_index(drop=True, inplace=True)"
   ]
  },
  {
   "cell_type": "code",
   "execution_count": 11,
   "metadata": {},
   "outputs": [],
   "source": [
    "# Mescla com a tabela D_PERIODO, selecionando apenas a coluna 'sk_d_periodo'\n",
    "f_situacao_metricula = df_final.merge(\n",
    "    D_PERIODO[[\"periodo\", \"sk_d_periodo\"]], on=\"periodo\", how=\"left\"\n",
    ")\n",
    "\n",
    "# Mescla com a tabela D_CURSO e remove as colunas desnecessárias\n",
    "f_situacao_metricula = f_situacao_metricula.merge(\n",
    "    D_CURSO,\n",
    "    on=[\"cod_curso_ingresso\", \"curso_ingresso_ufrj\", \"cod_curso_atual\", \"curso_atual\"],\n",
    "    how=\"left\",\n",
    ")\n",
    "\n",
    "# Mescla com a tabela D_ALUNO e remove as colunas desnecessárias\n",
    "f_situacao_metricula = f_situacao_metricula.merge(\n",
    "    D_ALUNO,\n",
    "    on=\"matricula_dre\",\n",
    "    how=\"left\",\n",
    ")"
   ]
  },
  {
   "cell_type": "code",
   "execution_count": 12,
   "metadata": {},
   "outputs": [],
   "source": [
    "f_situacao_metricula = f_situacao_metricula[['sk_d_aluno', 'sk_d_periodo', 'sk_d_curso', 'situacao_matricula', 'situacao_matricula_simplificada']]"
   ]
  },
  {
   "cell_type": "code",
   "execution_count": 13,
   "metadata": {},
   "outputs": [],
   "source": [
    "f_situacao_metricula.to_csv(f\"{data_path}/gold/f_situacao_metricula.csv\", index=False)"
   ]
  }
 ],
 "metadata": {
  "kernelspec": {
   "display_name": "Python 3",
   "language": "python",
   "name": "python3"
  },
  "language_info": {
   "codemirror_mode": {
    "name": "ipython",
    "version": 3
   },
   "file_extension": ".py",
   "mimetype": "text/x-python",
   "name": "python",
   "nbconvert_exporter": "python",
   "pygments_lexer": "ipython3",
   "version": "3.12.3"
  }
 },
 "nbformat": 4,
 "nbformat_minor": 2
}
