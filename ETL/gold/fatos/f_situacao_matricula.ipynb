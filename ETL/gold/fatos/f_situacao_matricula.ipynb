{
 "cells": [
  {
   "cell_type": "code",
   "execution_count": 80,
   "metadata": {},
   "outputs": [],
   "source": [
    "import pandas as pd\n",
    "import sys\n",
    "import os"
   ]
  },
  {
   "cell_type": "code",
   "execution_count": 81,
   "metadata": {},
   "outputs": [],
   "source": [
    "# Função para adicionar o caminho do módulo 'utils' ao sys.path\n",
    "utils_path = os.path.abspath(\"../../\")\n",
    "if utils_path not in sys.path:\n",
    "    sys.path.append(utils_path)"
   ]
  },
  {
   "cell_type": "code",
   "execution_count": 82,
   "metadata": {},
   "outputs": [],
   "source": [
    "from utils.auxiliary_functions.all_auxiliary_functions import (\n",
    "    extrair_dados_database,\n",
    "    carregar_dados_database,\n",
    ")"
   ]
  },
  {
   "cell_type": "code",
   "execution_count": 83,
   "metadata": {},
   "outputs": [],
   "source": [
    "def calcular_periodo_integralizado(periodo_atual, quant_integralizado):\n",
    "    ano, semestre = map(int, periodo_atual.split('/'))\n",
    "    quant_integralizado = quant_integralizado\n",
    "    # Se quant_integralizado for ímpar, ajusta semestre e ano\n",
    "    if quant_integralizado % 2 == 1:\n",
    "        semestre += 1\n",
    "        if semestre > 2:\n",
    "            semestre = 1\n",
    "            ano += 1\n",
    "    \n",
    "    # Calcula o novo ano considerando todos os semestres integralizados\n",
    "    ano += quant_integralizado // 2\n",
    "\n",
    "    return f\"{ano}/{semestre}\"\n",
    "\n",
    "def obter_ultimo_periodo_cursado(row):\n",
    "    disciplinas_str = row.get(\"disciplinasCursadas\", \"\")\n",
    "    periodos_trancados = row.get(\"periodosTrancados\", \"\")\n",
    "    situacao_matricula = row.get(\"situacao_matricula_simplificada\", \"\")\n",
    "    cra_periodo = row.get(\"craPorPeriodo\", \"\")\n",
    "    cr_periodo = row.get(\"crPorPeriodo\", \"\")\n",
    "    periodo_ingresso_ufrj = row.get(\"periodoIngressoUFRJ\", \"\")\n",
    "\n",
    "    # Caso disciplinas cursadas seja NaN ou vazio\n",
    "    if pd.isna(disciplinas_str) or disciplinas_str == \"\":\n",
    "        if pd.isna(cra_periodo) and pd.isna(cr_periodo):\n",
    "            return periodo_ingresso_ufrj\n",
    "        else:\n",
    "            return cra_periodo.split(' - ')[0]\n",
    "\n",
    "    # Extração dos períodos cursados\n",
    "    disciplinas = disciplinas_str.split(\"\\n\")\n",
    "    periodos = [disciplina.split(\" - \")[0] for disciplina in disciplinas]\n",
    "\n",
    "    # Encontrar o maior período cursado\n",
    "    maior_periodo = max(periodos)\n",
    "\n",
    "    # Considerar períodos trancados se a situação da matrícula for \"Cancelada\"\n",
    "    if situacao_matricula == \"Cancelada\" and not pd.isna(periodos_trancados):\n",
    "        trancados = periodos_trancados.replace(\" \", \"\").split(\"|\")\n",
    "        maior_periodo_trancado = max(trancados)\n",
    "        # Calcula o periodo seguinte ao trancado\n",
    "        maior_periodo_trancado = calcular_periodo_integralizado(maior_periodo_trancado, 1)\n",
    "        maior_periodo = max(maior_periodo, maior_periodo_trancado)\n",
    "\n",
    "    return maior_periodo.replace(\"/0\", \"/1\")\n",
    "\n",
    "# Processar Trancamentos\n",
    "def processar_trancamentos(row):\n",
    "    if pd.isna(row):\n",
    "        return row\n",
    "    row = row.replace(' ', '')\n",
    "    row = tuple(row.split('|'))\n",
    "    return row"
   ]
  },
  {
   "cell_type": "code",
   "execution_count": 84,
   "metadata": {},
   "outputs": [],
   "source": [
    "# Leitura do arquivo\n",
    "df_silver = extrair_dados_database(\"alunos_ufrj.parquet\", \"silver\")\n",
    "\n",
    "# Carregando as dimensoes\n",
    "df_d_aluno = extrair_dados_database(\"d_aluno.parquet\", \"gold\")\n",
    "df_d_periodo = extrair_dados_database(\"d_periodo.parquet\", \"gold\")\n",
    "df_d_curso = extrair_dados_database(\"d_curso.parquet\", \"gold\")\n",
    "df_d_situacao = extrair_dados_database(\"d_situacao.parquet\", \"gold\")"
   ]
  },
  {
   "cell_type": "code",
   "execution_count": 85,
   "metadata": {},
   "outputs": [],
   "source": [
    "mapeamento_situacao_matricula = {\n",
    "    'Ativa': 'Ativa',\n",
    "    'Rematrícula por destrancamento automático' : 'Ativa',\n",
    "    'Rematrícula por ativação do segmento referente via AGF' : 'Ativa',\n",
    "    'Rematrícula por destrancamento ou descancelamento' : 'Ativa',\n",
    "    'Cancelada por abandono': 'Cancelada',\n",
    "    'Cancelada por abandono Definitivo': 'Cancelada',\n",
    "    'Cancelada por morte': 'Cancelada',\n",
    "    'Cancelada por outros motivos': 'Cancelada',\n",
    "    'Cancelada por rendimento escolar insuficiente': 'Cancelada',\n",
    "    'Cancelada por transferência': 'Cancelada',\n",
    "    'Cancelada por ultrapassar prazo de integralização': 'Cancelada',\n",
    "    'Cancelamento a pedido': 'Cancelada',\n",
    "    'Cancelamento por conclusão de Mobilidade Acadêmica': 'Cancelada',\n",
    "    'Cancelamento por decisão judicial': 'Cancelada',\n",
    "    'Cancelamento por opção de curso': 'Cancelada',\n",
    "    'Cancelamento por opção de instituição': 'Cancelada',\n",
    "    'Exclusão Lógica': 'Cancelada',\n",
    "    'Cancelamento por ultrapassagem do prazo máximo de trancamento': 'Cancelada',\n",
    "    'Trancada': 'Trancada',\n",
    "    'Trancamento Solicitado': 'Trancada',\n",
    "    'Trancamento automático: Perigo de cancelamento imediato': 'Trancada',\n",
    "    'Cancelada por conclusão de curso': 'Concluido'\n",
    "}\n",
    "\n",
    "df_silver['situacaoMatricula'] = df_silver['situacaoMatriculaAtual'].map(mapeamento_situacao_matricula)"
   ]
  },
  {
   "cell_type": "code",
   "execution_count": 86,
   "metadata": {},
   "outputs": [],
   "source": [
    "# Obtém o valor máximo da coluna 'periodoIngressoUFRJ'\n",
    "periodo_atual = df_silver['periodoIngressoUFRJ'].max()\n",
    "\n",
    "# Filtra os dados para obter apenas as linhas com 'situacao_matricula' igual a 'Ativa'\n",
    "df_situacao_atual = df_silver[(df_silver['situacaoMatricula'] == \"Ativa\") | (df_silver['situacaoMatricula'] == \"Trancada\")].copy()\n",
    "df_cancel_concluido = df_silver[(df_silver['situacaoMatricula'] == \"Cancelada\") | (df_silver['situacaoMatricula'] == \"Concluido\")].copy()\n",
    "\n",
    "# Preparando dataframe de Trancamento\n",
    "df_trancada = df_silver[~df_silver['periodosTrancados'].isna()].copy()\n",
    "df_trancada['situacaoMatricula'] = \"Trancada\"\n",
    "df_trancada['periodo'] = df_trancada['periodosTrancados'].apply(processar_trancamentos)"
   ]
  },
  {
   "cell_type": "code",
   "execution_count": 87,
   "metadata": {},
   "outputs": [],
   "source": [
    "# Definido os 3 tipos de dataframes\n",
    "df_situacao_atual['periodo'] = periodo_atual\n",
    "df_trancada = df_trancada.explode('periodo')\n",
    "df_cancel_concluido['periodo'] = df_silver.apply(obter_ultimo_periodo_cursado, axis=1)"
   ]
  },
  {
   "cell_type": "code",
   "execution_count": 88,
   "metadata": {},
   "outputs": [],
   "source": [
    "colunas_tb_fato = [\n",
    "    \"matriculaDre\",\n",
    "    \"periodo\",\n",
    "    \"codCursoIngresso\",\n",
    "    \"cursoIngressoUFRJ\",\n",
    "    \"codCursoAtual\",\n",
    "    \"cursoAtual\",\n",
    "    \"situacaoMatriculaAtual\",\n",
    "]\n",
    "\n",
    "df_ativa = df_situacao_atual[colunas_tb_fato]\n",
    "df_trancada = df_trancada[colunas_tb_fato]\n",
    "df_cancel_concluido = df_cancel_concluido[colunas_tb_fato]\n",
    "\n",
    "# Usa a função concat para unir os DataFrames\n",
    "df_final = pd.concat([df_ativa, df_trancada, df_cancel_concluido], axis=0)\n",
    "\n",
    "# Reseta o índice se necessário\n",
    "df_final.reset_index(drop=True, inplace=True)"
   ]
  },
  {
   "cell_type": "code",
   "execution_count": 89,
   "metadata": {},
   "outputs": [],
   "source": [
    "# Padronizando nome das colunas\n",
    "df_final = df_final.rename(\n",
    "    columns={\n",
    "        \"matriculaDre\": \"DS_MATRICULA_DRE\",\n",
    "        \"periodo\": \"DS_PERIODO\",\n",
    "        \"codCursoIngresso\": \"CD_CURSO_INGRESSO\",\n",
    "        \"cursoIngressoUFRJ\": \"DS_NOME_CURSO_INGRESSO\",\n",
    "        \"codCursoAtual\": \"CD_CURSO_ATUAL\",\n",
    "        \"cursoAtual\": \"DS_NOME_CURSO_ATUAL\",\n",
    "        \"situacaoMatriculaAtual\": \"DS_SITUACAO_DETALHADA\",\n",
    "    }\n",
    ")"
   ]
  },
  {
   "cell_type": "code",
   "execution_count": 90,
   "metadata": {},
   "outputs": [
    {
     "data": {
      "text/html": [
       "<div>\n",
       "<style scoped>\n",
       "    .dataframe tbody tr th:only-of-type {\n",
       "        vertical-align: middle;\n",
       "    }\n",
       "\n",
       "    .dataframe tbody tr th {\n",
       "        vertical-align: top;\n",
       "    }\n",
       "\n",
       "    .dataframe thead th {\n",
       "        text-align: right;\n",
       "    }\n",
       "</style>\n",
       "<table border=\"1\" class=\"dataframe\">\n",
       "  <thead>\n",
       "    <tr style=\"text-align: right;\">\n",
       "      <th></th>\n",
       "      <th>DS_MATRICULA_DRE</th>\n",
       "      <th>DS_PERIODO</th>\n",
       "      <th>CD_CURSO_INGRESSO</th>\n",
       "      <th>DS_NOME_CURSO_INGRESSO</th>\n",
       "      <th>CD_CURSO_ATUAL</th>\n",
       "      <th>DS_NOME_CURSO_ATUAL</th>\n",
       "      <th>DS_SITUACAO_DETALHADA</th>\n",
       "    </tr>\n",
       "  </thead>\n",
       "  <tbody>\n",
       "    <tr>\n",
       "      <th>0</th>\n",
       "      <td>106153868</td>\n",
       "      <td>2021/2</td>\n",
       "      <td>3101070000</td>\n",
       "      <td>Bacharelado em Ciência da Computação</td>\n",
       "      <td>3109000100</td>\n",
       "      <td>Ciência da Computação</td>\n",
       "      <td>Rematrícula por destrancamento ou descancelamento</td>\n",
       "    </tr>\n",
       "  </tbody>\n",
       "</table>\n",
       "</div>"
      ],
      "text/plain": [
       "  DS_MATRICULA_DRE DS_PERIODO  CD_CURSO_INGRESSO  \\\n",
       "0        106153868     2021/2         3101070000   \n",
       "\n",
       "                 DS_NOME_CURSO_INGRESSO  CD_CURSO_ATUAL  \\\n",
       "0  Bacharelado em Ciência da Computação      3109000100   \n",
       "\n",
       "     DS_NOME_CURSO_ATUAL                              DS_SITUACAO_DETALHADA  \n",
       "0  Ciência da Computação  Rematrícula por destrancamento ou descancelamento  "
      ]
     },
     "execution_count": 90,
     "metadata": {},
     "output_type": "execute_result"
    }
   ],
   "source": [
    "df_final[df_final['DS_MATRICULA_DRE']=='106153868']"
   ]
  },
  {
   "cell_type": "code",
   "execution_count": 101,
   "metadata": {},
   "outputs": [],
   "source": [
    "# Mescla com a tabela D_PERIODO, selecionando apenas a coluna 'sk_d_periodo'\n",
    "f_situacao_metricula = pd.merge(\n",
    "    df_final, df_d_periodo[[\"DS_PERIODO\", \"SK_D_PERIODO\"]], on=\"DS_PERIODO\", how=\"inner\"\n",
    ")\n",
    "\n",
    "# Mescla com a tabela D_CURSO\n",
    "f_situacao_metricula = pd.merge(\n",
    "    f_situacao_metricula,\n",
    "    df_d_curso[[\"SK_D_CURSO\", \"CD_CURSO_INGRESSO\", \"CD_CURSO_ATUAL\"]],\n",
    "    on=[\"CD_CURSO_INGRESSO\", \"CD_CURSO_ATUAL\"],\n",
    "    how=\"inner\",\n",
    ")\n",
    "\n",
    "# Mescla com a tabela D_ALUNO e remove as colunas desnecessárias\n",
    "f_situacao_metricula = pd.merge(\n",
    "    f_situacao_metricula,\n",
    "    df_d_aluno[['SK_D_ALUNO', 'DS_MATRICULA_DRE']],\n",
    "    on=\"DS_MATRICULA_DRE\",\n",
    "    how=\"inner\",\n",
    ")\n",
    "\n",
    "# Mescla com a tabela D_SITUACAO e remove as colunas desnecessárias\n",
    "f_situacao_metricula = pd.merge(\n",
    "    f_situacao_metricula,\n",
    "    df_d_situacao[['SK_D_SITUACAO', 'DS_SITUACAO_DETALHADA']],\n",
    "    on=\"DS_SITUACAO_DETALHADA\",\n",
    "    how=\"inner\",\n",
    ")"
   ]
  },
  {
   "cell_type": "code",
   "execution_count": 103,
   "metadata": {},
   "outputs": [],
   "source": [
    "f_situacao_metricula = f_situacao_metricula[['SK_D_ALUNO', 'SK_D_PERIODO', 'SK_D_CURSO', 'SK_D_SITUACAO']]"
   ]
  },
  {
   "cell_type": "code",
   "execution_count": 104,
   "metadata": {},
   "outputs": [],
   "source": [
    "# Salvar dados na camada Gold\n",
    "carregar_dados_database(f_situacao_metricula, \"f_situacao_metricula.parquet\", \"gold\")"
   ]
  }
 ],
 "metadata": {
  "kernelspec": {
   "display_name": "Python 3",
   "language": "python",
   "name": "python3"
  },
  "language_info": {
   "codemirror_mode": {
    "name": "ipython",
    "version": 3
   },
   "file_extension": ".py",
   "mimetype": "text/x-python",
   "name": "python",
   "nbconvert_exporter": "python",
   "pygments_lexer": "ipython3",
   "version": "3.12.3"
  }
 },
 "nbformat": 4,
 "nbformat_minor": 2
}
