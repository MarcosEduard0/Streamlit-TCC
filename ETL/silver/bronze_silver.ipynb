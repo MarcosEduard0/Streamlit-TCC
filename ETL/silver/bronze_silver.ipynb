{
 "cells": [
  {
   "cell_type": "markdown",
   "metadata": {},
   "source": [
    "# Importações"
   ]
  },
  {
   "cell_type": "code",
   "execution_count": 311,
   "metadata": {},
   "outputs": [],
   "source": [
    "from faker import Faker\n",
    "import random\n",
    "import time\n",
    "from datetime import datetime\n",
    "import sys\n",
    "import os\n",
    "import re\n",
    "from requests import post\n",
    "from bs4 import BeautifulSoup\n",
    "import pandas as pd\n",
    "from geopy.geocoders import ArcGIS\n",
    "from geopy.extra.rate_limiter import RateLimiter"
   ]
  },
  {
   "cell_type": "code",
   "execution_count": 312,
   "metadata": {},
   "outputs": [],
   "source": [
    "DEBUG = False\n",
    "\n",
    "# Função para adicionar o caminho do módulo 'utils' ao sys.path\n",
    "utils_path = os.path.abspath(\"../ETL/utils/\") if DEBUG else  os.path.abspath(\"../\")\n",
    "\n",
    "if utils_path not in sys.path:\n",
    "    sys.path.append(utils_path)"
   ]
  },
  {
   "cell_type": "code",
   "execution_count": 313,
   "metadata": {},
   "outputs": [],
   "source": [
    "from utils.auxiliary_functions.all_auxiliary_functions import (\n",
    "    extrair_dados_database,\n",
    "    carregar_dados_database,\n",
    ")"
   ]
  },
  {
   "cell_type": "markdown",
   "metadata": {},
   "source": [
    "## Funções Gerais"
   ]
  },
  {
   "cell_type": "code",
   "execution_count": 314,
   "metadata": {},
   "outputs": [],
   "source": [
    "# Dicionário para armazenar os DREs gerados por ano e semestre sem repetição\n",
    "DRE_REGISTRO = {}\n",
    "\n",
    "def gerar_dre(periodo_ingresso_ufrj):\n",
    "    periodo, semestre = periodo_ingresso_ufrj.split('/')\n",
    "    periodo = periodo[-2:]\n",
    "    semestre = str(int(semestre)-1)\n",
    "    \n",
    "    chave = f'{periodo}{semestre}'\n",
    "    if chave not in DRE_REGISTRO:\n",
    "        DRE_REGISTRO[chave] = set()\n",
    "    \n",
    "    while True:\n",
    "        ultimos_digitos = f'{random.randint(0, 99999):05d}'\n",
    "        dre = f'1{periodo}{semestre}{ultimos_digitos}'\n",
    "        if ultimos_digitos not in DRE_REGISTRO[chave]:\n",
    "            DRE_REGISTRO[chave].add(ultimos_digitos)\n",
    "            return dre"
   ]
  },
  {
   "cell_type": "code",
   "execution_count": 315,
   "metadata": {},
   "outputs": [],
   "source": [
    "def gerar_cep(estado=\"\", cidade=\"\", tentativas=5):\n",
    "    for tentativa in range(tentativas):\n",
    "        try:\n",
    "            # Faz a requisição para gerar o CEP\n",
    "            r = post(\n",
    "                \"https://www.4devs.com.br/ferramentas_online.php\",\n",
    "                data={\n",
    "                    \"acao\": \"gerar_cep\",\n",
    "                    \"cep_estado\": estado,  # Pode ser preenchido com um estado específico ou deixado vazio para aleatório\n",
    "                    \"cep_cidade\": cidade,  # Pode ser preenchido com uma cidade específica ou deixado vazio para aleatório\n",
    "                    \"somente_numeros\": \"n\",  # 'n' para gerar CEPs formatados com pontuação, 's' para só números\n",
    "                },\n",
    "            )\n",
    "\n",
    "             # Verifica se a requisição foi bem-sucedida\n",
    "            if r.status_code == 200:\n",
    "                soup = BeautifulSoup(r.text, \"html.parser\")\n",
    "                \n",
    "                # Extrair informações dentro dos <span>\n",
    "                cep = soup.find(\"div\", id=\"cep\").span.text\n",
    "                endereco = soup.find(\"div\", id=\"endereco\").span.text\n",
    "                bairro = soup.find(\"div\", id=\"bairro\").span.text\n",
    "                cidade = soup.find(\"div\", id=\"cidade\").span.text\n",
    "                estado = soup.find(\"div\", id=\"estado\").span.text\n",
    "                \n",
    "                # Retorna os dados coletados\n",
    "                return {\n",
    "                    \"CEP\": cep,\n",
    "                    \"Logradouro\": endereco,\n",
    "                    \"Bairro\": bairro,\n",
    "                    \"Cidade\": cidade,\n",
    "                    \"Estado\": estado,\n",
    "                }\n",
    "            else:\n",
    "                print(f\"Erro: {r.status_code}\")\n",
    "        \n",
    "        except Exception as e:\n",
    "            # print(f\"Erro na requisição: {e}\")\n",
    "            pass\n",
    "        \n",
    "        # Implementa o exponencial backoff para retries\n",
    "        tempo_espera = 2 ** tentativa  # O tempo de espera aumenta exponencialmente\n",
    "        # print(f\"Tentativa {tentativa + 1} falhou, esperando {tempo_espera} segundos antes de tentar novamente.\")\n",
    "        time.sleep(tempo_espera)\n",
    "    \n",
    "    # Se todas as tentativas falharem, retorna valores nulos\n",
    "    return {\n",
    "        \"CEP\": None,\n",
    "        \"Logradouro\": None,\n",
    "        \"Bairro\": None,\n",
    "        \"Cidade\": None,\n",
    "        \"Estado\": None\n",
    "    }"
   ]
  },
  {
   "cell_type": "code",
   "execution_count": 316,
   "metadata": {},
   "outputs": [],
   "source": [
    "def aplicar_gerar_cep(row, total_requisicao):\n",
    "    if total_requisicao % 30 == 0:\n",
    "        print(f\"Total de requisições: {total_requisicao}\")\n",
    "        time.sleep(60)\n",
    "    \n",
    "    dados_cep = gerar_cep(estado='RJ', cidade=7043)  # 7043 é o código da cidade do RJ\n",
    "    return pd.Series(dados_cep)"
   ]
  },
  {
   "cell_type": "code",
   "execution_count": 317,
   "metadata": {},
   "outputs": [],
   "source": [
    "# Função para aplicar o join ou copiar as colunas caso as colunas necessárias não existam\n",
    "def processar_enderecos(df_bronze, df_enderecos):\n",
    "    # Verificar se as colunas ['CEP', 'Logradouro', 'Bairro', 'Cidade', 'Estado'] existem em df_bronze\n",
    "    required_columns = ['CEP', 'Logradouro', 'Bairro', 'Cidade', 'Estado']\n",
    "    \n",
    "    if all(col in df_bronze.columns for col in required_columns):\n",
    "        # Faz o join entre os dados dos alunos e a tabela local de endereços\n",
    "        df_com_enderecos = df_bronze.merge(\n",
    "            df_enderecos, \n",
    "            on=['Bairro', 'Cidade', 'Estado', 'CEP', 'Logradouro'], \n",
    "            how='left',  # Join à esquerda, para que alunos sem dados no banco local apareçam com NaN\n",
    "            suffixes=('', '_local')\n",
    "        )\n",
    "    else:\n",
    "        df_com_enderecos = df_bronze.copy()\n",
    "        # Caso as colunas não existam, apenas copiar e colar as colunas de endereços e preencher NaN\n",
    "        df_com_enderecos[required_columns] = df_enderecos[required_columns]\n",
    "    \n",
    "    # Filtrar alunos que ainda não têm CEP, ou seja, que não foram encontrados no banco local\n",
    "    df_sem_cep = df_com_enderecos[df_com_enderecos['CEP'].isna()]\n",
    "    \n",
    "    return df_com_enderecos, df_sem_cep"
   ]
  },
  {
   "cell_type": "code",
   "execution_count": 318,
   "metadata": {},
   "outputs": [],
   "source": [
    "def calcular_idade_ingresso_curso_atual(row):\n",
    "    \"\"\"\n",
    "    Calcula a idade atual com base na data de nascimento fornecida.\n",
    "    \n",
    "    Args:\n",
    "    data_nascimento (str): Data de nascimento no formato 'dd/mm/yyyy'.\n",
    "    \n",
    "    Returns:\n",
    "    int: Idade atual em anos, ou None se a data estiver em um formato inválido.\n",
    "    \"\"\"\n",
    "    data_nascimento = row['dataNascimento']\n",
    "    periodo_ingresso = row['periodoIngressoCursoAtual']\n",
    "    try:\n",
    "        # Converter a string da data de nascimento em um objeto datetime\n",
    "        ano_nascimento = datetime.strptime(data_nascimento, '%d/%m/%Y').year\n",
    "\n",
    "        # Obter a data atual\n",
    "        ano_ingresso = int(periodo_ingresso.split('/')[0])\n",
    "\n",
    "        # Calcular a idade\n",
    "        idade = ano_ingresso - ano_nascimento\n",
    "        return idade\n",
    "    except ValueError:\n",
    "        # Retornar None se a data de nascimento estiver em um formato inválido\n",
    "        return None"
   ]
  },
  {
   "cell_type": "code",
   "execution_count": 319,
   "metadata": {},
   "outputs": [],
   "source": [
    "# Lista de títulos a serem removidos\n",
    "TITULOS = [\"Sr.\", \"Sra.\", \"Dr.\", \"Dra.\"]\n",
    "FAKER = Faker(\"pt_BR\")\n",
    "\n",
    "# Função para remover os títulos do nome\n",
    "def remover_titulos(nome):\n",
    "    # Cria um padrão regex que procura os títulos no início do nome\n",
    "    padrao = r'^(?:' + '|'.join(re.escape(titulo) for titulo in TITULOS) + r')\\s*'\n",
    "    # Substitui os títulos encontrados por uma string vazia\n",
    "    return re.sub(padrao, '', nome).strip()\n",
    "\n",
    "# Função para gerar nomes de acordo com o sexo\n",
    "def gerar_nome_por_sexo(sexo):\n",
    "    if sexo.lower() == \"m\":\n",
    "        nome = FAKER.name_male()\n",
    "    elif sexo.lower() == \"f\":\n",
    "        nome = FAKER.name_female()\n",
    "    else:\n",
    "        nome = FAKER.name()  # Gera um nome genérico em caso de valor desconhecido\n",
    "    \n",
    "    # Remove títulos do nome gerado\n",
    "    return remover_titulos(nome)"
   ]
  },
  {
   "cell_type": "code",
   "execution_count": 320,
   "metadata": {},
   "outputs": [],
   "source": [
    "GEOLOCATOR = ArcGIS(user_agent='myGeoCoder')\n",
    "GEOCODE = RateLimiter(GEOLOCATOR.geocode, min_delay_seconds=1)\n",
    "\n",
    "# Função para obter latitude e longitude, verificando antes no df_coord_enderecos e adicionando novas coordenadas\n",
    "def obter_lat_lon(row, df_coord_enderecos):\n",
    "    # Verifica se o endereço já está presente no df_coord_enderecos\n",
    "    result = df_coord_enderecos[\n",
    "        (df_coord_enderecos['Bairro'] == row['Bairro']) & \n",
    "        (df_coord_enderecos['Estado'] == row['Estado'])\n",
    "    ]\n",
    "\n",
    "    if not result.empty:\n",
    "        # Se o endereço já existe no df_coord_enderecos, usa suas coordenadas\n",
    "        return (result.iloc[0]['Latitude'], result.iloc[0]['Longitude']), df_coord_enderecos\n",
    "    else:\n",
    "        # Se não estiver no df_coord_enderecos, faz a geocodificação\n",
    "        location = GEOCODE(f\"{row['Bairro']}, {row['Estado']}\")\n",
    "        if location:\n",
    "            lat_lon = (location.latitude, location.longitude)\n",
    "        else:\n",
    "            lat_lon = (None, None), df_coord_enderecos\n",
    "        \n",
    "        # Adiciona as novas coordenadas ao df_coord_enderecos\n",
    "        novo_registro = pd.DataFrame({\n",
    "            'Bairro': [row['Bairro']],\n",
    "            'Estado': [row['Estado']],\n",
    "            'Latitude': [lat_lon[0]],\n",
    "            'Longitude': [lat_lon[1]]\n",
    "        })\n",
    "        # Concatena o novo registro ao DataFrame original\n",
    "        df_coord_enderecos = pd.concat([df_coord_enderecos, novo_registro], ignore_index=True)\n",
    "\n",
    "        return lat_lon, df_coord_enderecos"
   ]
  },
  {
   "cell_type": "markdown",
   "metadata": {},
   "source": [
    "# Processamento\n"
   ]
  },
  {
   "cell_type": "code",
   "execution_count": 321,
   "metadata": {},
   "outputs": [],
   "source": [
    "df_bronze = extrair_dados_database(\"alunos/alunos.parquet\", \"bronze\")"
   ]
  },
  {
   "cell_type": "markdown",
   "metadata": {},
   "source": [
    "## Criação de Colunas com Dados Ficticios"
   ]
  },
  {
   "cell_type": "markdown",
   "metadata": {},
   "source": [
    "**Descrição da Etapa**\n",
    "\n",
    "Nesta etapa, serão gerados os dados referentes ao nome do aluno, com base no seu gênero, a matrícula (DRE), conforme o período de ingresso, e os respectivos endereços dos alunos."
   ]
  },
  {
   "cell_type": "code",
   "execution_count": 323,
   "metadata": {},
   "outputs": [],
   "source": [
    "df_bronze[\"nomeCompleto\"] = df_bronze[\"sexo\"].apply(gerar_nome_por_sexo)\n",
    "df_bronze[\"matriculaDre\"] = df_bronze['periodoIngressoUFRJ'].apply(gerar_dre)"
   ]
  },
  {
   "cell_type": "code",
   "execution_count": 325,
   "metadata": {},
   "outputs": [],
   "source": [
    "try:\n",
    "    # Tentar extrair o banco de endereços local\n",
    "    enderecos = extrair_dados_database(\"enderecos/enderecos.parquet\", \"silver\")\n",
    "    df_com_cep, df_sem_cep = processar_enderecos(df_bronze, enderecos)\n",
    "\n",
    "    # Se houver registros sem CEP, fazer a requisição à API\n",
    "    if not df_sem_cep.empty:\n",
    "        total_requisicao = 1\n",
    "        for idx, row in df_sem_cep.iterrows():\n",
    "            # Atualizar a linha com o resultado da API\n",
    "            dados_cep = aplicar_gerar_cep(row, total_requisicao)\n",
    "            df_com_cep.loc[idx, [\"CEP\", \"Logradouro\", \"Bairro\", \"Cidade\", \"Estado\"]] = (\n",
    "                dados_cep\n",
    "            )\n",
    "            total_requisicao += 1\n",
    "\n",
    "        # Após completar os dados com a API, adicionar novos endereços ao banco local\n",
    "        novos_enderecos = df_com_cep[\n",
    "            [\"Bairro\", \"Cidade\", \"Estado\", \"CEP\", \"Logradouro\"]\n",
    "        ].dropna()\n",
    "        df_bronze[[\"Bairro\", \"Cidade\", \"Estado\", \"CEP\", \"Logradouro\"]] = (\n",
    "            novos_enderecos[[\"Bairro\", \"Cidade\", \"Estado\", \"CEP\", \"Logradouro\"]]\n",
    "        )\n",
    "        # Atualizar o banco local com os novos endereços\n",
    "        carregar_dados_database(\n",
    "            novos_enderecos, \"enderecos/enderecos\", \"silver\", \"parquet\"\n",
    "        )\n",
    "    else:\n",
    "        df_bronze = df_com_cep.copy()\n",
    "\n",
    "except FileNotFoundError:\n",
    "    # Se o banco local não existe, processar todos os endereços via API\n",
    "    for idx, row in df_bronze.iterrows():\n",
    "        df_bronze.loc[idx, [\"CEP\", \"Logradouro\", \"Bairro\", \"Cidade\", \"Estado\"]] = (\n",
    "            aplicar_gerar_cep(row, idx + 1)\n",
    "        )\n",
    "\n",
    "    # Salvar os endereços processados para uso futuro\n",
    "    enderecos = (\n",
    "        df_bronze[[\"Bairro\", \"Cidade\", \"Estado\", \"CEP\", \"Logradouro\"]].dropna().copy()\n",
    "    )\n",
    "    carregar_dados_database(enderecos, \"enderecos/enderecos\", \"silver\", \"parquet\")"
   ]
  },
  {
   "cell_type": "code",
   "execution_count": 327,
   "metadata": {},
   "outputs": [],
   "source": [
    "# Extraindo tabela com as coordenadas dos bairros para ser usada como Cache.\n",
    "df_coord_enderecos = extrair_dados_database(\"enderecos/coord_enderecos.parquet\", \"silver\")\n",
    "\n",
    "# Aplica a função ao DataFrame df_bairros e cria as novas colunas 'Latitude' e 'Longitude'\n",
    "for idx, row in df_bronze.iterrows():\n",
    "    lat_lon, df_coord_enderecos = obter_lat_lon(row, df_coord_enderecos)\n",
    "    df_bronze.at[idx, 'Latitude'] = lat_lon[0]\n",
    "    df_bronze.at[idx, 'Longitude'] = lat_lon[1]"
   ]
  },
  {
   "cell_type": "code",
   "execution_count": null,
   "metadata": {},
   "outputs": [],
   "source": [
    "# Carrega o DataFrame atualizado no database\n",
    "carregar_dados_database(df_coord_enderecos, \"enderecos/coord_enderecos\", \"silver\", \"parquet\")"
   ]
  },
  {
   "cell_type": "markdown",
   "metadata": {},
   "source": [
    "### Porcessamento normal"
   ]
  },
  {
   "cell_type": "code",
   "execution_count": 329,
   "metadata": {},
   "outputs": [],
   "source": [
    "# Calcula a idade de quando o aluno ingressou no curso Atual\n",
    "df_bronze['idadeIngressoCursoAtual'] = df_bronze.apply(calcular_idade_ingresso_curso_atual, axis=1)"
   ]
  },
  {
   "cell_type": "code",
   "execution_count": 331,
   "metadata": {},
   "outputs": [],
   "source": [
    "# Filtra somente por alunos que estao no curso da CC\n",
    "lista_cod_curso_computacao = [3101020000, 3101070000, 3109000100]\n",
    "df_bronze = df_bronze[df_bronze[\"codCursoAtual\"].isin(lista_cod_curso_computacao)]"
   ]
  },
  {
   "cell_type": "code",
   "execution_count": 261,
   "metadata": {},
   "outputs": [],
   "source": [
    "# Normalizando a coluna sexo\n",
    "mapeamento_genero = {\n",
    "    'M': 'Masculino',\n",
    "    'F': 'Feminino'\n",
    "}\n",
    "df_bronze['sexo'] = df_bronze['sexo'].map(mapeamento_genero)"
   ]
  },
  {
   "cell_type": "code",
   "execution_count": null,
   "metadata": {},
   "outputs": [],
   "source": [
    "# Salvar dados na camada Silver\n",
    "carregar_dados_database(df_bronze, \"alunos/alunos\", \"silver\", \"parquet\")"
   ]
  }
 ],
 "metadata": {
  "kernelspec": {
   "display_name": "Python 3",
   "language": "python",
   "name": "python3"
  },
  "language_info": {
   "codemirror_mode": {
    "name": "ipython",
    "version": 3
   },
   "file_extension": ".py",
   "mimetype": "text/x-python",
   "name": "python",
   "nbconvert_exporter": "python",
   "pygments_lexer": "ipython3",
   "version": "3.12.6"
  }
 },
 "nbformat": 4,
 "nbformat_minor": 2
}
