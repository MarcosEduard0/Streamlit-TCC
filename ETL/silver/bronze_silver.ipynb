{
 "cells": [
  {
   "cell_type": "markdown",
   "metadata": {},
   "source": [
    "# Importações"
   ]
  },
  {
   "cell_type": "code",
   "execution_count": 1,
   "metadata": {},
   "outputs": [],
   "source": [
    "from faker import Faker\n",
    "import random\n",
    "from datetime import datetime\n",
    "import sys\n",
    "import os"
   ]
  },
  {
   "cell_type": "code",
   "execution_count": 2,
   "metadata": {},
   "outputs": [],
   "source": [
    "# Função para adicionar o caminho do módulo 'utils' ao sys.path\n",
    "utils_path = os.path.abspath(\"../\")\n",
    "if utils_path not in sys.path:\n",
    "    sys.path.append(utils_path)"
   ]
  },
  {
   "cell_type": "code",
   "execution_count": 3,
   "metadata": {},
   "outputs": [],
   "source": [
    "from utils.auxiliary_functions.all_auxiliary_functions import (\n",
    "    extrair_dados_database,\n",
    "    carregar_dados_database,\n",
    ")"
   ]
  },
  {
   "cell_type": "markdown",
   "metadata": {},
   "source": [
    "## Funções Gerais"
   ]
  },
  {
   "cell_type": "code",
   "execution_count": 4,
   "metadata": {},
   "outputs": [],
   "source": [
    "# Dicionário para armazenar os DREs gerados por ano e semestre sem repetição\n",
    "DRE_REGISTRO = {}\n",
    "\n",
    "def gerar_dre(periodo_ingresso_ufrj):\n",
    "    periodo, semestre = periodo_ingresso_ufrj.split('/')\n",
    "    periodo = periodo[-2:]\n",
    "    semestre = str(int(semestre)-1)\n",
    "    \n",
    "    chave = f'{periodo}{semestre}'\n",
    "    if chave not in DRE_REGISTRO:\n",
    "        DRE_REGISTRO[chave] = set()\n",
    "    \n",
    "    while True:\n",
    "        ultimos_digitos = f'{random.randint(0, 99999):05d}'\n",
    "        dre = f'1{periodo}{semestre}{ultimos_digitos}'\n",
    "        if ultimos_digitos not in DRE_REGISTRO[chave]:\n",
    "            DRE_REGISTRO[chave].add(ultimos_digitos)\n",
    "            return dre"
   ]
  },
  {
   "cell_type": "code",
   "execution_count": 5,
   "metadata": {},
   "outputs": [],
   "source": [
    "def calcular_idade_ingresso_curso_atual(row):\n",
    "    \"\"\"\n",
    "    Calcula a idade atual com base na data de nascimento fornecida.\n",
    "    \n",
    "    Args:\n",
    "    data_nascimento (str): Data de nascimento no formato 'dd/mm/yyyy'.\n",
    "    \n",
    "    Returns:\n",
    "    int: Idade atual em anos, ou None se a data estiver em um formato inválido.\n",
    "    \"\"\"\n",
    "    data_nascimento = row['dataNascimento']\n",
    "    periodo_ingresso = row['periodoIngressoCursoAtual']\n",
    "    try:\n",
    "        # Converter a string da data de nascimento em um objeto datetime\n",
    "        ano_nascimento = datetime.strptime(data_nascimento, '%d/%m/%Y').year\n",
    "\n",
    "        # Obter a data atual\n",
    "        ano_ingresso = int(periodo_ingresso.split('/')[0])\n",
    "\n",
    "        # Calcular a idade\n",
    "        idade = ano_ingresso - ano_nascimento\n",
    "        return idade\n",
    "    except ValueError:\n",
    "        # Retornar None se a data de nascimento estiver em um formato inválido\n",
    "        return None"
   ]
  },
  {
   "cell_type": "markdown",
   "metadata": {},
   "source": [
    "# Processamento\n"
   ]
  },
  {
   "cell_type": "markdown",
   "metadata": {},
   "source": [
    "Algumas colunas não trazem ganho de informação, como por exemplo reprovações já estão na coluna disciplinas cursadas, e periodo com cr menor que 3, pode ser analisar na coluna CR por periodo\n"
   ]
  },
  {
   "cell_type": "code",
   "execution_count": 6,
   "metadata": {},
   "outputs": [],
   "source": [
    "df_bronze = extrair_dados_database(\"alunos_ufrj.parquet\", \"bronze\")"
   ]
  },
  {
   "cell_type": "code",
   "execution_count": 8,
   "metadata": {},
   "outputs": [],
   "source": [
    "# Inicializa o Faker para gerar nomes em português do Brasil\n",
    "faker = Faker(\"pt_BR\")\n",
    "\n",
    "# Gerar um nome e DRE ficticios para cada aluno\n",
    "df_bronze[\"nomeCompleto\"] = [faker.name() for _ in range(df_bronze.shape[0])]\n",
    "df_bronze[\"matriculaDre\"] = df_bronze['periodoIngressoUFRJ'].apply(gerar_dre)\n",
    "\n",
    "# Calcula a idade de quando o aluno ingressou no curso Atual\n",
    "df_bronze['idadeIngressoCursoAtual'] = df_bronze.apply(calcular_idade_ingresso_curso_atual, axis=1)\n"
   ]
  },
  {
   "cell_type": "code",
   "execution_count": 9,
   "metadata": {},
   "outputs": [],
   "source": [
    "# Filtra somente por alunos que estao no curso da CC\n",
    "lista_cod_curso_computacao = [3101020000, 3101070000, 3109000100]\n",
    "df_bronze = df_bronze[df_bronze[\"codCursoAtual\"].isin(lista_cod_curso_computacao)]"
   ]
  },
  {
   "cell_type": "code",
   "execution_count": 10,
   "metadata": {},
   "outputs": [],
   "source": [
    "# Normalizando a coluna sexo\n",
    "mapeamento_genero = {\n",
    "    'M': 'Masculino',\n",
    "    'F': 'Feminino'\n",
    "}\n",
    "df_bronze['sexo'] = df_bronze['sexo'].map(mapeamento_genero)"
   ]
  },
  {
   "cell_type": "code",
   "execution_count": 11,
   "metadata": {},
   "outputs": [],
   "source": [
    "# Salvar dados na camada Silver\n",
    "carregar_dados_database(df_bronze, \"alunos_ufrj.parquet\", \"silver\")"
   ]
  }
 ],
 "metadata": {
  "kernelspec": {
   "display_name": "Python 3",
   "language": "python",
   "name": "python3"
  },
  "language_info": {
   "codemirror_mode": {
    "name": "ipython",
    "version": 3
   },
   "file_extension": ".py",
   "mimetype": "text/x-python",
   "name": "python",
   "nbconvert_exporter": "python",
   "pygments_lexer": "ipython3",
   "version": "3.12.3"
  }
 },
 "nbformat": 4,
 "nbformat_minor": 2
}
