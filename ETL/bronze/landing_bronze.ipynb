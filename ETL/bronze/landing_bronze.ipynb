{
 "cells": [
  {
   "cell_type": "markdown",
   "id": "7d85308a",
   "metadata": {},
   "source": [
    "# Importações"
   ]
  },
  {
   "cell_type": "code",
   "execution_count": 1,
   "id": "709b82f1",
   "metadata": {
    "execution": {
     "iopub.execute_input": "2024-08-11T22:57:39.607263Z",
     "iopub.status.busy": "2024-08-11T22:57:39.607263Z",
     "iopub.status.idle": "2024-08-11T22:57:39.613341Z",
     "shell.execute_reply": "2024-08-11T22:57:39.612336Z"
    },
    "papermill": {
     "duration": 0.011091,
     "end_time": "2024-08-11T22:57:39.614343",
     "exception": false,
     "start_time": "2024-08-11T22:57:39.603252",
     "status": "completed"
    },
    "tags": []
   },
   "outputs": [],
   "source": [
    "import os\n",
    "import sys"
   ]
  },
  {
   "cell_type": "markdown",
   "id": "60caf942",
   "metadata": {},
   "source": [
    "# Configurações"
   ]
  },
  {
   "cell_type": "code",
   "execution_count": 2,
   "id": "cf7b85a9",
   "metadata": {
    "execution": {
     "iopub.execute_input": "2024-08-11T22:57:39.640852Z",
     "iopub.status.busy": "2024-08-11T22:57:39.640852Z",
     "iopub.status.idle": "2024-08-11T22:57:39.644680Z",
     "shell.execute_reply": "2024-08-11T22:57:39.644680Z"
    },
    "papermill": {
     "duration": 0.010347,
     "end_time": "2024-08-11T22:57:39.646688",
     "exception": false,
     "start_time": "2024-08-11T22:57:39.636341",
     "status": "completed"
    },
    "tags": []
   },
   "outputs": [],
   "source": [
    "# Função para adicionar o caminho do módulo 'utils' ao sys.path\n",
    "utils_path = os.path.abspath(\"../\")\n",
    "if utils_path not in sys.path:\n",
    "    sys.path.append(utils_path)"
   ]
  },
  {
   "cell_type": "code",
   "execution_count": 3,
   "id": "b5fa223b",
   "metadata": {
    "execution": {
     "iopub.execute_input": "2024-08-11T22:57:39.654256Z",
     "iopub.status.busy": "2024-08-11T22:57:39.653241Z",
     "iopub.status.idle": "2024-08-11T22:57:40.495583Z",
     "shell.execute_reply": "2024-08-11T22:57:40.495583Z"
    },
    "papermill": {
     "duration": 0.84887,
     "end_time": "2024-08-11T22:57:40.498099",
     "exception": false,
     "start_time": "2024-08-11T22:57:39.649229",
     "status": "completed"
    },
    "tags": []
   },
   "outputs": [],
   "source": [
    "from utils.auxiliary_functions.all_auxiliary_functions import (\n",
    "    extrair_dados_database,\n",
    "    carregar_dados_database,\n",
    ")"
   ]
  },
  {
   "cell_type": "markdown",
   "id": "7d0729ad",
   "metadata": {},
   "source": [
    "# Codigo Principal"
   ]
  },
  {
   "cell_type": "code",
   "execution_count": 5,
   "id": "3c603cb9",
   "metadata": {
    "execution": {
     "iopub.execute_input": "2024-08-11T22:57:40.505119Z",
     "iopub.status.busy": "2024-08-11T22:57:40.505119Z",
     "iopub.status.idle": "2024-08-11T22:57:42.308863Z",
     "shell.execute_reply": "2024-08-11T22:57:42.308353Z"
    },
    "papermill": {
     "duration": 1.810761,
     "end_time": "2024-08-11T22:57:42.310870",
     "exception": false,
     "start_time": "2024-08-11T22:57:40.500109",
     "status": "completed"
    },
    "tags": []
   },
   "outputs": [],
   "source": [
    "# Lendos dados na planilha na Landing\n",
    "df_landing = extrair_dados_database(\"arquivo_anonimizado_v2.xlsx\", \"landing\")\n",
    "\n",
    "# Salvar dados na camada Bronze\n",
    "carregar_dados_database(df_landing, \"alunos_ufrj.parquet\", \"bronze\")"
   ]
  }
 ],
 "metadata": {
  "kernelspec": {
   "display_name": "Python 3",
   "language": "python",
   "name": "python3"
  },
  "language_info": {
   "codemirror_mode": {
    "name": "ipython",
    "version": 3
   },
   "file_extension": ".py",
   "mimetype": "text/x-python",
   "name": "python",
   "nbconvert_exporter": "python",
   "pygments_lexer": "ipython3",
   "version": "3.12.3"
  },
  "papermill": {
   "default_parameters": {},
   "duration": 6.148996,
   "end_time": "2024-08-11T22:57:42.879570",
   "environment_variables": {},
   "exception": null,
   "input_path": "C:\\Users\\Marcos Eduardo\\OneDrive\\TCC\\ETL\\bronze\\landing_bronze.ipynb",
   "output_path": "C:\\Users\\Marcos Eduardo\\OneDrive\\TCC\\ETL\\bronze\\landing_bronze.ipynb",
   "parameters": {},
   "start_time": "2024-08-11T22:57:36.730574",
   "version": "2.6.0"
  }
 },
 "nbformat": 4,
 "nbformat_minor": 5
}
